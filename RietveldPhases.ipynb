{
 "cells": [
  {
   "cell_type": "markdown",
   "metadata": {},
   "source": [
    "# Tracking Changes to RietveldPhases\n",
    "\n",
    "This notebook tracks changes as they're made to the RietveldPhases module/class."
   ]
  },
  {
   "cell_type": "code",
   "execution_count": 8,
   "metadata": {},
   "outputs": [],
   "source": [
    "import src.RietveldPhases\n",
    "from src.RietveldPhases import RietveldPhases as Rp"
   ]
  },
  {
   "cell_type": "code",
   "execution_count": 9,
   "metadata": {},
   "outputs": [],
   "source": [
    "Rp.set_profile(r\"./data/profiles/Jade-Al2O3-Sim.xye\",number_of_columns=2)"
   ]
  },
  {
   "cell_type": "code",
   "execution_count": 16,
   "metadata": {},
   "outputs": [
    {
     "data": {
      "text/plain": [
       "{'Ag': 0.5608000159263611,\n",
       " 'AgA1': 0.5594099760055542,\n",
       " 'AgA2': 0.5637999773025513,\n",
       " 'Cr': 2.2908999919891357,\n",
       " 'CrA1': 2.2897000312805176,\n",
       " 'CrA2': 2.293610095977783,\n",
       " 'Cu': 1.5418000221252441,\n",
       " 'CuA1': 1.540560007095337,\n",
       " 'CuA2': 1.5443899631500244,\n",
       " 'Fe': 1.9372999668121338,\n",
       " 'FeA1': 1.9360400438308716,\n",
       " 'FeA2': 1.9399800300598145,\n",
       " 'Mo': 0.7106999754905701,\n",
       " 'MoA1': 0.7092999815940857,\n",
       " 'MoA2': 0.7135900259017944}"
      ]
     },
     "execution_count": 16,
     "metadata": {},
     "output_type": "execute_result"
    }
   ],
   "source": [
    "from cctbx.eltbx import wavelengths\n",
    "d = {}\n",
    "for w in wavelengths.characteristic_iterator():\n",
    "   d[w.label()] = w.as_angstrom()\n",
    "d"
   ]
  },
  {
   "cell_type": "code",
   "execution_count": 112,
   "metadata": {},
   "outputs": [
    {
     "name": "stdout",
     "output_type": "stream",
     "text": [
      "<cctbx_eltbx_wavelengths_ext.characteristic object at 0x163F8A20>\n"
     ]
    },
    {
     "data": {
      "text/plain": [
       "1.540560007095337"
      ]
     },
     "execution_count": 112,
     "metadata": {},
     "output_type": "execute_result"
    }
   ],
   "source": [
    "cur = \"CuA1\"\n",
    "print wavelengths.characteristic(cur)\n",
    "d[cur]"
   ]
  },
  {
   "cell_type": "code",
   "execution_count": 26,
   "metadata": {},
   "outputs": [
    {
     "name": "stdout",
     "output_type": "stream",
     "text": [
      "Ag: 0.46335260575\n",
      "Cu: 0.478781183835\n",
      "Cr: 0.44277293921\n",
      "Fe: 0.47010942087\n",
      "Mo: 0.484418503929\n",
      "Ag: 0.466988791423\n",
      "Cu: 0.479971472357\n",
      "Cr: 0.44352905172\n",
      "Fe: 0.471066128687\n",
      "Mo: 0.487348402278\n"
     ]
    }
   ],
   "source": [
    "El = ['Ag','Cu','Cr','Fe','Mo']\n",
    "for e in El:\n",
    "   print e +': '+ str((d[e]-d[e +'A1'])/(d[e+'A2']-d[e]))\n",
    "for e in El:\n",
    "   print e +': '+ str((1/d[e]-1/d[e +'A1'])/(1/d[e+'A2']-1/d[e]))"
   ]
  },
  {
   "cell_type": "code",
   "execution_count": null,
   "metadata": {},
   "outputs": [],
   "source": [
    "Co-Ka1 wavelength=1.788965\n",
    "Co-Ka2 wavelength=1.792850\n"
   ]
  },
  {
   "cell_type": "code",
   "execution_count": 111,
   "metadata": {},
   "outputs": [
    {
     "name": "stdout",
     "output_type": "stream",
     "text": [
      "(-1.294090271+3.28145766258j)\n",
      "3.28145766258\n",
      "8.96\n",
      "0.001\n",
      "20.0\n",
      "33.79\n",
      "27.88\n",
      "[1.0, 1.25, 1.5, 2.0, 3.0, 4.0, 5.0, 6.0, 8.0, 10.0, 15.0, 20.0] [94707.20000000004, 61189.69654242449, 39585.28000000007, 19299.840000000022, 6709.247999999988, 3111.8080000000027, 1701.5040000000013, 1035.7759999999994, 470.8479999999994, 1934.4640000000013, 663.4879999999993, 302.75839999999994]\n",
      "302.7584\n"
     ]
    },
    {
     "data": {
      "image/png": "[encoded data removed]",
      "text/plain": [
       "<matplotlib.figure.Figure at 0x15c67730>"
      ]
     },
     "metadata": {},
     "output_type": "display_data"
    },
    {
     "data": {
      "image/png": "[encoded data removed]",
      "text/plain": [
       "<matplotlib.figure.Figure at 0x166e1fb0>"
      ]
     },
     "metadata": {},
     "output_type": "display_data"
    },
    {
     "name": "stdout",
     "output_type": "stream",
     "text": [
      "[0.001, 0.0010469500000000001, 0.0010961, 0.0010961, 0.0015, 0.002, 0.0030000000000000001, 0.0040000000000000001, 0.0050000000000000001, 0.0060000000000000001, 0.0080000000000000002, 0.0089788999999999997, 0.0089788999999999997, 0.01, 0.014999999999999999, 0.02, 0.029999999999999999, 0.040000000000000001, 0.050000000000000003, 0.059999999999999998, 0.080000000000000002, 0.10000000000000001, 0.14999999999999999, 0.20000000000000001, 0.29999999999999999, 0.40000000000000002, 0.5, 0.59999999999999998, 0.80000000000000004, 1.0, 1.25, 1.5, 2.0, 3.0, 4.0, 5.0, 6.0, 8.0, 10.0, 15.0, 20.0] [-9999.0, -9999.0, -9999.0, -9999.0, -9999.0, -9999.0, -9999.0, -9999.0, -9999.0, -9999.0, -9999.0, -9999.0, -9999.0, 1.300879955291748, 2.437030553817749, 3.193390369415283, 4.837569713592529, 4.724856853485107, 5.724283218383789, 6.665384769439697, 8.035978317260742, 9.47810173034668, 12.128610610961914, 11.23802661895752, 8.433720588684082, 6.569825649261475, 5.189445495605469, 4.239529132843018, 2.9784047603607178, 16.204103469848633, 13.17353343963623, 10.091757774353027, 6.4913249015808105, 3.356661796569824, 2.0696754455566406, 1.4128589630126953, 1.0288881063461304, 0.6144694685935974, 3.2814576625823975, 1.6827926635742188, 1.0074542760849]\n"
     ]
    },
    {
     "data": {
      "image/png": "[encoded data removed]",
      "text/plain": [
       "<matplotlib.figure.Figure at 0x15c67e10>"
      ]
     },
     "metadata": {},
     "output_type": "display_data"
    },
    {
     "data": {
      "text/plain": [
       "94707.20000000004"
      ]
     },
     "execution_count": 111,
     "metadata": {},
     "output_type": "execute_result"
    }
   ],
   "source": [
    "from cctbx.eltbx import attenuation_coefficient, henke\n",
    "import matplotlib.pyplot as plt\n",
    "table = attenuation_coefficient.get_table('Cu')\n",
    "henke_table = henke.table('Cu')\n",
    "print henke_table.at_kev(10).as_complex()\n",
    "print henke_table.at_kev(10).fdp()\n",
    "fdp = []\n",
    "print table.density()\n",
    "print table.min_energy()\n",
    "print table.max_energy()\n",
    "x = table.energy().as_numpy_array()\n",
    "y = table.mu_en_rho().as_numpy_array()\n",
    "print table.mu_rho_at_kev(20)\n",
    "print table.mu_en_rho_at_kev(20)\n",
    "es = []\n",
    "mu = []\n",
    "for e in x:\n",
    "   try:\n",
    "      mu.append(table.mu_at_kev(e))\n",
    "      es.append(e)\n",
    "   except RuntimeError:\n",
    "      pass\n",
    "print es,mu\n",
    "print table.mu_at_kev(20)\n",
    "# print y\n",
    "plt.scatter(x[15:],y[15:])\n",
    "# plt.scatter(x,y)\n",
    "plt.show()\n",
    "plt.scatter(es,mu)\n",
    "plt.show()\n",
    "es = []\n",
    "for e in x:\n",
    "   fdp.append(henke_table.at_kev(e).fdp())\n",
    "   es.append(e)\n",
    "#    except RuntimeError:\n",
    "#       pass\n",
    "print es,fdp\n",
    "plt.scatter(es,fdp)\n",
    "plt.show()\n",
    "table.mu_at_kev(1)"
   ]
  },
  {
   "cell_type": "code",
   "execution_count": null,
   "metadata": {},
   "outputs": [],
   "source": [
    "tmp = Rp(\"./data/cifs/1000032.cif\")\n",
    "print str(tmp.U)\n",
    "print tmp.U.tobytes()\n",
    "tmp.U.tobytes()"
   ]
  },
  {
   "cell_type": "code",
   "execution_count": null,
   "metadata": {},
   "outputs": [],
   "source": [
    "Rp.set_bkgd_order(2)\n",
    "assert Rp.bkgd.shape[0] == 2"
   ]
  },
  {
   "cell_type": "code",
   "execution_count": null,
   "metadata": {},
   "outputs": [],
   "source": [
    "print Rp.two_theta"
   ]
  },
  {
   "cell_type": "code",
   "execution_count": null,
   "metadata": {},
   "outputs": [],
   "source": [
    "print Rp.I"
   ]
  },
  {
   "cell_type": "code",
   "execution_count": null,
   "metadata": {},
   "outputs": [],
   "source": [
    "print Rp.background_polynomial()\n",
    "Rp.bkgd['values'][0] = 1\n",
    "print Rp.background_polynomial()"
   ]
  },
  {
   "cell_type": "code",
   "execution_count": null,
   "metadata": {},
   "outputs": [],
   "source": [
    "tmp.V"
   ]
  },
  {
   "cell_type": "code",
   "execution_count": null,
   "metadata": {},
   "outputs": [],
   "source": [
    "import numpy as np\n",
    "tmp2 = np.stack((tmp.U,tmp.V))"
   ]
  },
  {
   "cell_type": "code",
   "execution_count": null,
   "metadata": {},
   "outputs": [],
   "source": [
    "tmp2['labels'][1] = 'S'\n",
    "tmp2"
   ]
  },
  {
   "cell_type": "code",
   "execution_count": null,
   "metadata": {
    "scrolled": true
   },
   "outputs": [],
   "source": [
    "tmp.V = tmp2[1]\n",
    "tmp.V"
   ]
  },
  {
   "cell_type": "code",
   "execution_count": null,
   "metadata": {},
   "outputs": [],
   "source": [
    "Rp.assemble_global_x()\n",
    "tmp.assemble_phase_x()\n",
    "tmp.eta = tmp.set_eta_order(15)\n",
    "tmp.assemble_phase_x()\n",
    "tmp.phase_x[2]['values'] = .003\n",
    "print tmp.phase_x[2]\n",
    "tmp.update_params(tmp.phase_x)\n",
    "tmp.W"
   ]
  },
  {
   "cell_type": "code",
   "execution_count": null,
   "metadata": {
    "scrolled": true
   },
   "outputs": [],
   "source": [
    "str(tmp.eta)"
   ]
  },
  {
   "cell_type": "code",
   "execution_count": null,
   "metadata": {},
   "outputs": [],
   "source": [
    "Rp.bkgd\n",
    "Rp.background_polynomial()"
   ]
  },
  {
   "cell_type": "code",
   "execution_count": null,
   "metadata": {},
   "outputs": [],
   "source": [
    "tmp.set_lattice_parameters()\n",
    "tmp.recompute_peak_positions = True\n",
    "tmp.assemble_phase_x()\n",
    "print tmp.crystal_system\n",
    "tmp.phase_x[9]['values'] = 4.8\n",
    "tmp.update_params(tmp.phase_x)\n",
    "tmp.unit_cell.parameters()"
   ]
  },
  {
   "cell_type": "code",
   "execution_count": null,
   "metadata": {},
   "outputs": [],
   "source": [
    "tmp.lattice_parameters[0]"
   ]
  },
  {
   "cell_type": "code",
   "execution_count": null,
   "metadata": {},
   "outputs": [],
   "source": [
    "tmp.eta_polynomial()"
   ]
  },
  {
   "cell_type": "code",
   "execution_count": null,
   "metadata": {},
   "outputs": [],
   "source": [
    "float(tmp.U['values'])"
   ]
  },
  {
   "cell_type": "code",
   "execution_count": null,
   "metadata": {},
   "outputs": [],
   "source": [
    "np.max(tmp.phase_profile())"
   ]
  },
  {
   "cell_type": "code",
   "execution_count": null,
   "metadata": {},
   "outputs": [],
   "source": [
    "import cProfile\n",
    " \n",
    "pr = cProfile.Profile()\n",
    "pr.enable()\n",
    " \n",
    "tmp.phase_profile()\n",
    " \n",
    "pr.disable()\n",
    " \n",
    "pr.print_stats(sort='time')"
   ]
  },
  {
   "cell_type": "code",
   "execution_count": null,
   "metadata": {
    "scrolled": false
   },
   "outputs": [],
   "source": [
    "%matplotlib notebook\n",
    "import matplotlib.pyplot as plt\n",
    "tmp.recompute_peak_positions = True\n",
    "tmp.phase_x[9]['values'] = 4.8\n",
    "tmp.update_params(tmp.phase_x)\n",
    "plt.plot(Rp.two_theta,tmp.phase_profile())\n",
    "plt.show()\n",
    "\n",
    "from guppy import hpy\n",
    "h = hpy()\n",
    "print h.heap().byrcs"
   ]
  },
  {
   "cell_type": "code",
   "execution_count": null,
   "metadata": {},
   "outputs": [],
   "source": [
    "from guppy import hpy\n",
    "h = hpy()\n",
    "print h.heap().byrcs\n",
    "# print h.heap().byclodo\n",
    "print h.heap().byrcs[0].referrers.byrcs"
   ]
  }
 ],
 "metadata": {
  "kernelspec": {
   "display_name": "Python 2",
   "language": "python",
   "name": "python2"
  },
  "language_info": {
   "codemirror_mode": {
    "name": "ipython",
    "version": 2
   },
   "file_extension": ".py",
   "mimetype": "text/x-python",
   "name": "python",
   "nbconvert_exporter": "python",
   "pygments_lexer": "ipython2",
   "version": "2.7.12"
  }
 },
 "nbformat": 4,
 "nbformat_minor": 2
}
