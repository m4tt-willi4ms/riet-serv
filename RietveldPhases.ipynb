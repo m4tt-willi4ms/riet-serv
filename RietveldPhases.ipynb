{
 "cells": [
  {
   "cell_type": "markdown",
   "metadata": {},
   "source": [
    "# Tracking Changes to RietveldPhases\n",
    "\n",
    "This notebook tracks changes as they're made to the RietveldPhases module/class."
   ]
  },
  {
   "cell_type": "code",
   "execution_count": 1,
   "metadata": {},
   "outputs": [],
   "source": [
    "from src.RietveldPhases import RietveldPhases as Rp"
   ]
  },
  {
   "cell_type": "code",
   "execution_count": 2,
   "metadata": {},
   "outputs": [],
   "source": [
    "Rp.set_profile(r\"./data/profiles/Jade-Al2O3-Sim.xye\",number_of_columns=2)"
   ]
  },
  {
   "cell_type": "code",
   "execution_count": 3,
   "metadata": {},
   "outputs": [
    {
     "name": "stdout",
     "output_type": "stream",
     "text": [
      "('U',  0., -0.1,  0.1)\n",
      "U\u0000\u0000\u0000\u0000\u0000\u0000\u0000\u0000\u0000\u0000\u0000\u0000\u0000\u0000\u0000\u0000\u0000\u0000\u0000���������������?\n"
     ]
    },
    {
     "data": {
      "text/plain": [
       "'U\\x00\\x00\\x00\\x00\\x00\\x00\\x00\\x00\\x00\\x00\\x00\\x00\\x00\\x00\\x00\\x00\\x00\\x00\\x00\\x9a\\x99\\x99\\x99\\x99\\x99\\xb9\\xbf\\x9a\\x99\\x99\\x99\\x99\\x99\\xb9?'"
      ]
     },
     "execution_count": 3,
     "metadata": {},
     "output_type": "execute_result"
    }
   ],
   "source": [
    "tmp = Rp(\"./data/cifs/1000032.cif\")\n",
    "print str(tmp.U)\n",
    "print tmp.U.tobytes()\n",
    "tmp.U.tobytes()"
   ]
  },
  {
   "cell_type": "code",
   "execution_count": 4,
   "metadata": {},
   "outputs": [],
   "source": [
    "Rp.set_bkgd_order(2)\n",
    "assert Rp.bkgd.shape[0] == 2"
   ]
  },
  {
   "cell_type": "code",
   "execution_count": 5,
   "metadata": {},
   "outputs": [
    {
     "name": "stdout",
     "output_type": "stream",
     "text": [
      "[  5.02   5.04   5.06 ...,  89.96  89.98  90.  ]\n"
     ]
    }
   ],
   "source": [
    "print Rp.two_theta"
   ]
  },
  {
   "cell_type": "code",
   "execution_count": 6,
   "metadata": {},
   "outputs": [
    {
     "name": "stdout",
     "output_type": "stream",
     "text": [
      "[ 1.  1.  1. ...,  2.  2.  2.]\n"
     ]
    }
   ],
   "source": [
    "print Rp.I"
   ]
  },
  {
   "cell_type": "code",
   "execution_count": 7,
   "metadata": {},
   "outputs": [
    {
     "name": "stdout",
     "output_type": "stream",
     "text": [
      "[ 0.  0.  0. ...,  0.  0.  0.]\n",
      "[ 1.  1.  1. ...,  1.  1.  1.]\n"
     ]
    }
   ],
   "source": [
    "print Rp.background_polynomial()\n",
    "Rp.bkgd['values'][0] = 1\n",
    "print Rp.background_polynomial()"
   ]
  },
  {
   "cell_type": "code",
   "execution_count": 8,
   "metadata": {},
   "outputs": [
    {
     "data": {
      "text/plain": [
       "('V',  0., -0.1,  0.1)"
      ]
     },
     "execution_count": 8,
     "metadata": {},
     "output_type": "execute_result"
    }
   ],
   "source": [
    "tmp.V"
   ]
  },
  {
   "cell_type": "code",
   "execution_count": 9,
   "metadata": {},
   "outputs": [],
   "source": [
    "import numpy as np\n",
    "tmp2 = np.stack((tmp.U,tmp.V))"
   ]
  },
  {
   "cell_type": "code",
   "execution_count": 10,
   "metadata": {},
   "outputs": [
    {
     "data": {
      "text/plain": [
       "array([('U',  0., -0.1,  0.1), ('S',  0., -0.1,  0.1)],\n",
       "      dtype=[('labels', 'S12'), ('values', '<f8'), ('l_limits', '<f8'), ('u_limits', '<f8')])"
      ]
     },
     "execution_count": 10,
     "metadata": {},
     "output_type": "execute_result"
    }
   ],
   "source": [
    "tmp2['labels'][1] = 'S'\n",
    "tmp2"
   ]
  },
  {
   "cell_type": "code",
   "execution_count": 11,
   "metadata": {
    "scrolled": true
   },
   "outputs": [
    {
     "data": {
      "text/plain": [
       "('S',  0., -0.1,  0.1)"
      ]
     },
     "execution_count": 11,
     "metadata": {},
     "output_type": "execute_result"
    }
   ],
   "source": [
    "tmp.V = tmp2[1]\n",
    "tmp.V"
   ]
  },
  {
   "cell_type": "code",
   "execution_count": 12,
   "metadata": {},
   "outputs": [
    {
     "name": "stdout",
     "output_type": "stream",
     "text": [
      "('W',  0.003,   1.00000000e-06,  1.)\n"
     ]
    },
    {
     "data": {
      "text/plain": [
       "('W',  0.003,   1.00000000e-06,  1.)"
      ]
     },
     "execution_count": 12,
     "metadata": {},
     "output_type": "execute_result"
    }
   ],
   "source": [
    "Rp.assemble_global_x()\n",
    "tmp.assemble_phase_x()\n",
    "tmp.eta = tmp.set_eta_order(15)\n",
    "tmp.assemble_phase_x()\n",
    "tmp.phase_x[2]['values'] = .003\n",
    "print tmp.phase_x[2]\n",
    "tmp.update_params(tmp.phase_x)\n",
    "tmp.W"
   ]
  },
  {
   "cell_type": "code",
   "execution_count": 13,
   "metadata": {
    "scrolled": true
   },
   "outputs": [
    {
     "data": {
      "text/plain": [
       "\"[('eta_0',  0.5,   0.00000000e+00,   1.00000000e+00)\\n ('eta_1',  0. ,  -1.00000000e-03,   1.00000000e-03)\\n ('eta_2',  0. ,  -1.00000000e-06,   1.00000000e-06)\\n ('eta_3',  0. ,  -1.00000000e-09,   1.00000000e-09)\\n ('eta_4',  0. ,  -1.00000000e-12,   1.00000000e-12)]\""
      ]
     },
     "execution_count": 13,
     "metadata": {},
     "output_type": "execute_result"
    }
   ],
   "source": [
    "str(tmp.eta)"
   ]
  },
  {
   "cell_type": "code",
   "execution_count": 14,
   "metadata": {},
   "outputs": [
    {
     "data": {
      "text/plain": [
       "array([ 1.,  1.,  1., ...,  1.,  1.,  1.])"
      ]
     },
     "execution_count": 14,
     "metadata": {},
     "output_type": "execute_result"
    }
   ],
   "source": [
    "Rp.bkgd\n",
    "Rp.background_polynomial()"
   ]
  },
  {
   "cell_type": "code",
   "execution_count": 15,
   "metadata": {},
   "outputs": [
    {
     "name": "stdout",
     "output_type": "stream",
     "text": [
      "HTrigonal\n"
     ]
    },
    {
     "data": {
      "text/plain": [
       "(4.8, 4.8, 12.995599999999998, 90.0, 90.0, 120.0)"
      ]
     },
     "execution_count": 15,
     "metadata": {},
     "output_type": "execute_result"
    }
   ],
   "source": [
    "tmp.set_lattice_parameters()\n",
    "tmp.recompute_peak_positions = True\n",
    "tmp.assemble_phase_x()\n",
    "print tmp.crystal_system\n",
    "tmp.phase_x[9]['values'] = 4.8\n",
    "tmp.update_params(tmp.phase_x)\n",
    "tmp.unit_cell.parameters()"
   ]
  },
  {
   "cell_type": "code",
   "execution_count": 16,
   "metadata": {},
   "outputs": [
    {
     "data": {
      "text/plain": [
       "('uc_a',  4.8,  4.712895,  4.808105)"
      ]
     },
     "execution_count": 16,
     "metadata": {},
     "output_type": "execute_result"
    }
   ],
   "source": [
    "tmp.lattice_parameters[0]"
   ]
  },
  {
   "cell_type": "code",
   "execution_count": 17,
   "metadata": {},
   "outputs": [
    {
     "data": {
      "text/plain": [
       "array([ 0.5,  0.5,  0.5, ...,  0.5,  0.5,  0.5])"
      ]
     },
     "execution_count": 17,
     "metadata": {},
     "output_type": "execute_result"
    }
   ],
   "source": [
    "tmp.eta_polynomial()"
   ]
  },
  {
   "cell_type": "code",
   "execution_count": 18,
   "metadata": {},
   "outputs": [
    {
     "data": {
      "text/plain": [
       "0.0"
      ]
     },
     "execution_count": 18,
     "metadata": {},
     "output_type": "execute_result"
    }
   ],
   "source": [
    "float(tmp.U['values'])"
   ]
  },
  {
   "cell_type": "code",
   "execution_count": 19,
   "metadata": {},
   "outputs": [
    {
     "data": {
      "text/plain": [
       "10067.409497205848"
      ]
     },
     "execution_count": 19,
     "metadata": {},
     "output_type": "execute_result"
    }
   ],
   "source": [
    "np.max(tmp.phase_profile())"
   ]
  },
  {
   "cell_type": "code",
   "execution_count": 20,
   "metadata": {},
   "outputs": [
    {
     "data": {
      "application/javascript": [
       "/* Put everything inside the global mpl namespace */\n",
       "window.mpl = {};\n",
       "\n",
       "\n",
       "mpl.get_websocket_type = function() {\n",
       "    if (typeof(WebSocket) !== 'undefined') {\n",
       "        return WebSocket;\n",
       "    } else if (typeof(MozWebSocket) !== 'undefined') {\n",
       "        return MozWebSocket;\n",
       "    } else {\n",
       "        alert('Your browser does not have WebSocket support.' +\n",
       "              'Please try Chrome, Safari or Firefox ≥ 6. ' +\n",
       "              'Firefox 4 and 5 are also supported but you ' +\n",
       "              'have to enable WebSockets in about:config.');\n",
       "    };\n",
       "}\n",
       "\n",
       "mpl.figure = function(figure_id, websocket, ondownload, parent_element) {\n",
       "    this.id = figure_id;\n",
       "\n",
       "    this.ws = websocket;\n",
       "\n",
       "    this.supports_binary = (this.ws.binaryType != undefined);\n",
       "\n",
       "    if (!this.supports_binary) {\n",
       "        var warnings = document.getElementById(\"mpl-warnings\");\n",
       "        if (warnings) {\n",
       "            warnings.style.display = 'block';\n",
       "            warnings.textContent = (\n",
       "                \"This browser does not support binary websocket messages. \" +\n",
       "                    \"Performance may be slow.\");\n",
       "        }\n",
       "    }\n",
       "\n",
       "    this.imageObj = new Image();\n",
       "\n",
       "    this.context = undefined;\n",
       "    this.message = undefined;\n",
       "    this.canvas = undefined;\n",
       "    this.rubberband_canvas = undefined;\n",
       "    this.rubberband_context = undefined;\n",
       "    this.format_dropdown = undefined;\n",
       "\n",
       "    this.image_mode = 'full';\n",
       "\n",
       "    this.root = $('<div/>');\n",
       "    this._root_extra_style(this.root)\n",
       "    this.root.attr('style', 'display: inline-block');\n",
       "\n",
       "    $(parent_element).append(this.root);\n",
       "\n",
       "    this._init_header(this);\n",
       "    this._init_canvas(this);\n",
       "    this._init_toolbar(this);\n",
       "\n",
       "    var fig = this;\n",
       "\n",
       "    this.waiting = false;\n",
       "\n",
       "    this.ws.onopen =  function () {\n",
       "            fig.send_message(\"supports_binary\", {value: fig.supports_binary});\n",
       "            fig.send_message(\"send_image_mode\", {});\n",
       "            if (mpl.ratio != 1) {\n",
       "                fig.send_message(\"set_dpi_ratio\", {'dpi_ratio': mpl.ratio});\n",
       "            }\n",
       "            fig.send_message(\"refresh\", {});\n",
       "        }\n",
       "\n",
       "    this.imageObj.onload = function() {\n",
       "            if (fig.image_mode == 'full') {\n",
       "                // Full images could contain transparency (where diff images\n",
       "                // almost always do), so we need to clear the canvas so that\n",
       "                // there is no ghosting.\n",
       "                fig.context.clearRect(0, 0, fig.canvas.width, fig.canvas.height);\n",
       "            }\n",
       "            fig.context.drawImage(fig.imageObj, 0, 0);\n",
       "        };\n",
       "\n",
       "    this.imageObj.onunload = function() {\n",
       "        this.ws.close();\n",
       "    }\n",
       "\n",
       "    this.ws.onmessage = this._make_on_message_function(this);\n",
       "\n",
       "    this.ondownload = ondownload;\n",
       "}\n",
       "\n",
       "mpl.figure.prototype._init_header = function() {\n",
       "    var titlebar = $(\n",
       "        '<div class=\"ui-dialog-titlebar ui-widget-header ui-corner-all ' +\n",
       "        'ui-helper-clearfix\"/>');\n",
       "    var titletext = $(\n",
       "        '<div class=\"ui-dialog-title\" style=\"width: 100%; ' +\n",
       "        'text-align: center; padding: 3px;\"/>');\n",
       "    titlebar.append(titletext)\n",
       "    this.root.append(titlebar);\n",
       "    this.header = titletext[0];\n",
       "}\n",
       "\n",
       "\n",
       "\n",
       "mpl.figure.prototype._canvas_extra_style = function(canvas_div) {\n",
       "\n",
       "}\n",
       "\n",
       "\n",
       "mpl.figure.prototype._root_extra_style = function(canvas_div) {\n",
       "\n",
       "}\n",
       "\n",
       "mpl.figure.prototype._init_canvas = function() {\n",
       "    var fig = this;\n",
       "\n",
       "    var canvas_div = $('<div/>');\n",
       "\n",
       "    canvas_div.attr('style', 'position: relative; clear: both; outline: 0');\n",
       "\n",
       "    function canvas_keyboard_event(event) {\n",
       "        return fig.key_event(event, event['data']);\n",
       "    }\n",
       "\n",
       "    canvas_div.keydown('key_press', canvas_keyboard_event);\n",
       "    canvas_div.keyup('key_release', canvas_keyboard_event);\n",
       "    this.canvas_div = canvas_div\n",
       "    this._canvas_extra_style(canvas_div)\n",
       "    this.root.append(canvas_div);\n",
       "\n",
       "    var canvas = $('<canvas/>');\n",
       "    canvas.addClass('mpl-canvas');\n",
       "    canvas.attr('style', \"left: 0; top: 0; z-index: 0; outline: 0\")\n",
       "\n",
       "    this.canvas = canvas[0];\n",
       "    this.context = canvas[0].getContext(\"2d\");\n",
       "\n",
       "    var backingStore = this.context.backingStorePixelRatio ||\n",
       "\tthis.context.webkitBackingStorePixelRatio ||\n",
       "\tthis.context.mozBackingStorePixelRatio ||\n",
       "\tthis.context.msBackingStorePixelRatio ||\n",
       "\tthis.context.oBackingStorePixelRatio ||\n",
       "\tthis.context.backingStorePixelRatio || 1;\n",
       "\n",
       "    mpl.ratio = (window.devicePixelRatio || 1) / backingStore;\n",
       "\n",
       "    var rubberband = $('<canvas/>');\n",
       "    rubberband.attr('style', \"position: absolute; left: 0; top: 0; z-index: 1;\")\n",
       "\n",
       "    var pass_mouse_events = true;\n",
       "\n",
       "    canvas_div.resizable({\n",
       "        start: function(event, ui) {\n",
       "            pass_mouse_events = false;\n",
       "        },\n",
       "        resize: function(event, ui) {\n",
       "            fig.request_resize(ui.size.width, ui.size.height);\n",
       "        },\n",
       "        stop: function(event, ui) {\n",
       "            pass_mouse_events = true;\n",
       "            fig.request_resize(ui.size.width, ui.size.height);\n",
       "        },\n",
       "    });\n",
       "\n",
       "    function mouse_event_fn(event) {\n",
       "        if (pass_mouse_events)\n",
       "            return fig.mouse_event(event, event['data']);\n",
       "    }\n",
       "\n",
       "    rubberband.mousedown('button_press', mouse_event_fn);\n",
       "    rubberband.mouseup('button_release', mouse_event_fn);\n",
       "    // Throttle sequential mouse events to 1 every 20ms.\n",
       "    rubberband.mousemove('motion_notify', mouse_event_fn);\n",
       "\n",
       "    rubberband.mouseenter('figure_enter', mouse_event_fn);\n",
       "    rubberband.mouseleave('figure_leave', mouse_event_fn);\n",
       "\n",
       "    canvas_div.on(\"wheel\", function (event) {\n",
       "        event = event.originalEvent;\n",
       "        event['data'] = 'scroll'\n",
       "        if (event.deltaY < 0) {\n",
       "            event.step = 1;\n",
       "        } else {\n",
       "            event.step = -1;\n",
       "        }\n",
       "        mouse_event_fn(event);\n",
       "    });\n",
       "\n",
       "    canvas_div.append(canvas);\n",
       "    canvas_div.append(rubberband);\n",
       "\n",
       "    this.rubberband = rubberband;\n",
       "    this.rubberband_canvas = rubberband[0];\n",
       "    this.rubberband_context = rubberband[0].getContext(\"2d\");\n",
       "    this.rubberband_context.strokeStyle = \"#000000\";\n",
       "\n",
       "    this._resize_canvas = function(width, height) {\n",
       "        // Keep the size of the canvas, canvas container, and rubber band\n",
       "        // canvas in synch.\n",
       "        canvas_div.css('width', width)\n",
       "        canvas_div.css('height', height)\n",
       "\n",
       "        canvas.attr('width', width * mpl.ratio);\n",
       "        canvas.attr('height', height * mpl.ratio);\n",
       "        canvas.attr('style', 'width: ' + width + 'px; height: ' + height + 'px;');\n",
       "\n",
       "        rubberband.attr('width', width);\n",
       "        rubberband.attr('height', height);\n",
       "    }\n",
       "\n",
       "    // Set the figure to an initial 600x600px, this will subsequently be updated\n",
       "    // upon first draw.\n",
       "    this._resize_canvas(600, 600);\n",
       "\n",
       "    // Disable right mouse context menu.\n",
       "    $(this.rubberband_canvas).bind(\"contextmenu\",function(e){\n",
       "        return false;\n",
       "    });\n",
       "\n",
       "    function set_focus () {\n",
       "        canvas.focus();\n",
       "        canvas_div.focus();\n",
       "    }\n",
       "\n",
       "    window.setTimeout(set_focus, 100);\n",
       "}\n",
       "\n",
       "mpl.figure.prototype._init_toolbar = function() {\n",
       "    var fig = this;\n",
       "\n",
       "    var nav_element = $('<div/>')\n",
       "    nav_element.attr('style', 'width: 100%');\n",
       "    this.root.append(nav_element);\n",
       "\n",
       "    // Define a callback function for later on.\n",
       "    function toolbar_event(event) {\n",
       "        return fig.toolbar_button_onclick(event['data']);\n",
       "    }\n",
       "    function toolbar_mouse_event(event) {\n",
       "        return fig.toolbar_button_onmouseover(event['data']);\n",
       "    }\n",
       "\n",
       "    for(var toolbar_ind in mpl.toolbar_items) {\n",
       "        var name = mpl.toolbar_items[toolbar_ind][0];\n",
       "        var tooltip = mpl.toolbar_items[toolbar_ind][1];\n",
       "        var image = mpl.toolbar_items[toolbar_ind][2];\n",
       "        var method_name = mpl.toolbar_items[toolbar_ind][3];\n",
       "\n",
       "        if (!name) {\n",
       "            // put a spacer in here.\n",
       "            continue;\n",
       "        }\n",
       "        var button = $('<button/>');\n",
       "        button.addClass('ui-button ui-widget ui-state-default ui-corner-all ' +\n",
       "                        'ui-button-icon-only');\n",
       "        button.attr('role', 'button');\n",
       "        button.attr('aria-disabled', 'false');\n",
       "        button.click(method_name, toolbar_event);\n",
       "        button.mouseover(tooltip, toolbar_mouse_event);\n",
       "\n",
       "        var icon_img = $('<span/>');\n",
       "        icon_img.addClass('ui-button-icon-primary ui-icon');\n",
       "        icon_img.addClass(image);\n",
       "        icon_img.addClass('ui-corner-all');\n",
       "\n",
       "        var tooltip_span = $('<span/>');\n",
       "        tooltip_span.addClass('ui-button-text');\n",
       "        tooltip_span.html(tooltip);\n",
       "\n",
       "        button.append(icon_img);\n",
       "        button.append(tooltip_span);\n",
       "\n",
       "        nav_element.append(button);\n",
       "    }\n",
       "\n",
       "    var fmt_picker_span = $('<span/>');\n",
       "\n",
       "    var fmt_picker = $('<select/>');\n",
       "    fmt_picker.addClass('mpl-toolbar-option ui-widget ui-widget-content');\n",
       "    fmt_picker_span.append(fmt_picker);\n",
       "    nav_element.append(fmt_picker_span);\n",
       "    this.format_dropdown = fmt_picker[0];\n",
       "\n",
       "    for (var ind in mpl.extensions) {\n",
       "        var fmt = mpl.extensions[ind];\n",
       "        var option = $(\n",
       "            '<option/>', {selected: fmt === mpl.default_extension}).html(fmt);\n",
       "        fmt_picker.append(option)\n",
       "    }\n",
       "\n",
       "    // Add hover states to the ui-buttons\n",
       "    $( \".ui-button\" ).hover(\n",
       "        function() { $(this).addClass(\"ui-state-hover\");},\n",
       "        function() { $(this).removeClass(\"ui-state-hover\");}\n",
       "    );\n",
       "\n",
       "    var status_bar = $('<span class=\"mpl-message\"/>');\n",
       "    nav_element.append(status_bar);\n",
       "    this.message = status_bar[0];\n",
       "}\n",
       "\n",
       "mpl.figure.prototype.request_resize = function(x_pixels, y_pixels) {\n",
       "    // Request matplotlib to resize the figure. Matplotlib will then trigger a resize in the client,\n",
       "    // which will in turn request a refresh of the image.\n",
       "    this.send_message('resize', {'width': x_pixels, 'height': y_pixels});\n",
       "}\n",
       "\n",
       "mpl.figure.prototype.send_message = function(type, properties) {\n",
       "    properties['type'] = type;\n",
       "    properties['figure_id'] = this.id;\n",
       "    this.ws.send(JSON.stringify(properties));\n",
       "}\n",
       "\n",
       "mpl.figure.prototype.send_draw_message = function() {\n",
       "    if (!this.waiting) {\n",
       "        this.waiting = true;\n",
       "        this.ws.send(JSON.stringify({type: \"draw\", figure_id: this.id}));\n",
       "    }\n",
       "}\n",
       "\n",
       "\n",
       "mpl.figure.prototype.handle_save = function(fig, msg) {\n",
       "    var format_dropdown = fig.format_dropdown;\n",
       "    var format = format_dropdown.options[format_dropdown.selectedIndex].value;\n",
       "    fig.ondownload(fig, format);\n",
       "}\n",
       "\n",
       "\n",
       "mpl.figure.prototype.handle_resize = function(fig, msg) {\n",
       "    var size = msg['size'];\n",
       "    if (size[0] != fig.canvas.width || size[1] != fig.canvas.height) {\n",
       "        fig._resize_canvas(size[0], size[1]);\n",
       "        fig.send_message(\"refresh\", {});\n",
       "    };\n",
       "}\n",
       "\n",
       "mpl.figure.prototype.handle_rubberband = function(fig, msg) {\n",
       "    var x0 = msg['x0'] / mpl.ratio;\n",
       "    var y0 = (fig.canvas.height - msg['y0']) / mpl.ratio;\n",
       "    var x1 = msg['x1'] / mpl.ratio;\n",
       "    var y1 = (fig.canvas.height - msg['y1']) / mpl.ratio;\n",
       "    x0 = Math.floor(x0) + 0.5;\n",
       "    y0 = Math.floor(y0) + 0.5;\n",
       "    x1 = Math.floor(x1) + 0.5;\n",
       "    y1 = Math.floor(y1) + 0.5;\n",
       "    var min_x = Math.min(x0, x1);\n",
       "    var min_y = Math.min(y0, y1);\n",
       "    var width = Math.abs(x1 - x0);\n",
       "    var height = Math.abs(y1 - y0);\n",
       "\n",
       "    fig.rubberband_context.clearRect(\n",
       "        0, 0, fig.canvas.width, fig.canvas.height);\n",
       "\n",
       "    fig.rubberband_context.strokeRect(min_x, min_y, width, height);\n",
       "}\n",
       "\n",
       "mpl.figure.prototype.handle_figure_label = function(fig, msg) {\n",
       "    // Updates the figure title.\n",
       "    fig.header.textContent = msg['label'];\n",
       "}\n",
       "\n",
       "mpl.figure.prototype.handle_cursor = function(fig, msg) {\n",
       "    var cursor = msg['cursor'];\n",
       "    switch(cursor)\n",
       "    {\n",
       "    case 0:\n",
       "        cursor = 'pointer';\n",
       "        break;\n",
       "    case 1:\n",
       "        cursor = 'default';\n",
       "        break;\n",
       "    case 2:\n",
       "        cursor = 'crosshair';\n",
       "        break;\n",
       "    case 3:\n",
       "        cursor = 'move';\n",
       "        break;\n",
       "    }\n",
       "    fig.rubberband_canvas.style.cursor = cursor;\n",
       "}\n",
       "\n",
       "mpl.figure.prototype.handle_message = function(fig, msg) {\n",
       "    fig.message.textContent = msg['message'];\n",
       "}\n",
       "\n",
       "mpl.figure.prototype.handle_draw = function(fig, msg) {\n",
       "    // Request the server to send over a new figure.\n",
       "    fig.send_draw_message();\n",
       "}\n",
       "\n",
       "mpl.figure.prototype.handle_image_mode = function(fig, msg) {\n",
       "    fig.image_mode = msg['mode'];\n",
       "}\n",
       "\n",
       "mpl.figure.prototype.updated_canvas_event = function() {\n",
       "    // Called whenever the canvas gets updated.\n",
       "    this.send_message(\"ack\", {});\n",
       "}\n",
       "\n",
       "// A function to construct a web socket function for onmessage handling.\n",
       "// Called in the figure constructor.\n",
       "mpl.figure.prototype._make_on_message_function = function(fig) {\n",
       "    return function socket_on_message(evt) {\n",
       "        if (evt.data instanceof Blob) {\n",
       "            /* FIXME: We get \"Resource interpreted as Image but\n",
       "             * transferred with MIME type text/plain:\" errors on\n",
       "             * Chrome.  But how to set the MIME type?  It doesn't seem\n",
       "             * to be part of the websocket stream */\n",
       "            evt.data.type = \"image/png\";\n",
       "\n",
       "            /* Free the memory for the previous frames */\n",
       "            if (fig.imageObj.src) {\n",
       "                (window.URL || window.webkitURL).revokeObjectURL(\n",
       "                    fig.imageObj.src);\n",
       "            }\n",
       "\n",
       "            fig.imageObj.src = (window.URL || window.webkitURL).createObjectURL(\n",
       "                evt.data);\n",
       "            fig.updated_canvas_event();\n",
       "            fig.waiting = false;\n",
       "            return;\n",
       "        }\n",
       "        else if (typeof evt.data === 'string' && evt.data.slice(0, 21) == \"data:image/png;base64\") {\n",
       "            fig.imageObj.src = evt.data;\n",
       "            fig.updated_canvas_event();\n",
       "            fig.waiting = false;\n",
       "            return;\n",
       "        }\n",
       "\n",
       "        var msg = JSON.parse(evt.data);\n",
       "        var msg_type = msg['type'];\n",
       "\n",
       "        // Call the  \"handle_{type}\" callback, which takes\n",
       "        // the figure and JSON message as its only arguments.\n",
       "        try {\n",
       "            var callback = fig[\"handle_\" + msg_type];\n",
       "        } catch (e) {\n",
       "            console.log(\"No handler for the '\" + msg_type + \"' message type: \", msg);\n",
       "            return;\n",
       "        }\n",
       "\n",
       "        if (callback) {\n",
       "            try {\n",
       "                // console.log(\"Handling '\" + msg_type + \"' message: \", msg);\n",
       "                callback(fig, msg);\n",
       "            } catch (e) {\n",
       "                console.log(\"Exception inside the 'handler_\" + msg_type + \"' callback:\", e, e.stack, msg);\n",
       "            }\n",
       "        }\n",
       "    };\n",
       "}\n",
       "\n",
       "// from http://stackoverflow.com/questions/1114465/getting-mouse-location-in-canvas\n",
       "mpl.findpos = function(e) {\n",
       "    //this section is from http://www.quirksmode.org/js/events_properties.html\n",
       "    var targ;\n",
       "    if (!e)\n",
       "        e = window.event;\n",
       "    if (e.target)\n",
       "        targ = e.target;\n",
       "    else if (e.srcElement)\n",
       "        targ = e.srcElement;\n",
       "    if (targ.nodeType == 3) // defeat Safari bug\n",
       "        targ = targ.parentNode;\n",
       "\n",
       "    // jQuery normalizes the pageX and pageY\n",
       "    // pageX,Y are the mouse positions relative to the document\n",
       "    // offset() returns the position of the element relative to the document\n",
       "    var x = e.pageX - $(targ).offset().left;\n",
       "    var y = e.pageY - $(targ).offset().top;\n",
       "\n",
       "    return {\"x\": x, \"y\": y};\n",
       "};\n",
       "\n",
       "/*\n",
       " * return a copy of an object with only non-object keys\n",
       " * we need this to avoid circular references\n",
       " * http://stackoverflow.com/a/24161582/3208463\n",
       " */\n",
       "function simpleKeys (original) {\n",
       "  return Object.keys(original).reduce(function (obj, key) {\n",
       "    if (typeof original[key] !== 'object')\n",
       "        obj[key] = original[key]\n",
       "    return obj;\n",
       "  }, {});\n",
       "}\n",
       "\n",
       "mpl.figure.prototype.mouse_event = function(event, name) {\n",
       "    var canvas_pos = mpl.findpos(event)\n",
       "\n",
       "    if (name === 'button_press')\n",
       "    {\n",
       "        this.canvas.focus();\n",
       "        this.canvas_div.focus();\n",
       "    }\n",
       "\n",
       "    var x = canvas_pos.x * mpl.ratio;\n",
       "    var y = canvas_pos.y * mpl.ratio;\n",
       "\n",
       "    this.send_message(name, {x: x, y: y, button: event.button,\n",
       "                             step: event.step,\n",
       "                             guiEvent: simpleKeys(event)});\n",
       "\n",
       "    /* This prevents the web browser from automatically changing to\n",
       "     * the text insertion cursor when the button is pressed.  We want\n",
       "     * to control all of the cursor setting manually through the\n",
       "     * 'cursor' event from matplotlib */\n",
       "    event.preventDefault();\n",
       "    return false;\n",
       "}\n",
       "\n",
       "mpl.figure.prototype._key_event_extra = function(event, name) {\n",
       "    // Handle any extra behaviour associated with a key event\n",
       "}\n",
       "\n",
       "mpl.figure.prototype.key_event = function(event, name) {\n",
       "\n",
       "    // Prevent repeat events\n",
       "    if (name == 'key_press')\n",
       "    {\n",
       "        if (event.which === this._key)\n",
       "            return;\n",
       "        else\n",
       "            this._key = event.which;\n",
       "    }\n",
       "    if (name == 'key_release')\n",
       "        this._key = null;\n",
       "\n",
       "    var value = '';\n",
       "    if (event.ctrlKey && event.which != 17)\n",
       "        value += \"ctrl+\";\n",
       "    if (event.altKey && event.which != 18)\n",
       "        value += \"alt+\";\n",
       "    if (event.shiftKey && event.which != 16)\n",
       "        value += \"shift+\";\n",
       "\n",
       "    value += 'k';\n",
       "    value += event.which.toString();\n",
       "\n",
       "    this._key_event_extra(event, name);\n",
       "\n",
       "    this.send_message(name, {key: value,\n",
       "                             guiEvent: simpleKeys(event)});\n",
       "    return false;\n",
       "}\n",
       "\n",
       "mpl.figure.prototype.toolbar_button_onclick = function(name) {\n",
       "    if (name == 'download') {\n",
       "        this.handle_save(this, null);\n",
       "    } else {\n",
       "        this.send_message(\"toolbar_button\", {name: name});\n",
       "    }\n",
       "};\n",
       "\n",
       "mpl.figure.prototype.toolbar_button_onmouseover = function(tooltip) {\n",
       "    this.message.textContent = tooltip;\n",
       "};\n",
       "mpl.toolbar_items = [[\"Home\", \"Reset original view\", \"fa fa-home icon-home\", \"home\"], [\"Back\", \"Back to  previous view\", \"fa fa-arrow-left icon-arrow-left\", \"back\"], [\"Forward\", \"Forward to next view\", \"fa fa-arrow-right icon-arrow-right\", \"forward\"], [\"\", \"\", \"\", \"\"], [\"Pan\", \"Pan axes with left mouse, zoom with right\", \"fa fa-arrows icon-move\", \"pan\"], [\"Zoom\", \"Zoom to rectangle\", \"fa fa-square-o icon-check-empty\", \"zoom\"], [\"\", \"\", \"\", \"\"], [\"Download\", \"Download plot\", \"fa fa-floppy-o icon-save\", \"download\"]];\n",
       "\n",
       "mpl.extensions = [\"eps\", \"jpeg\", \"pdf\", \"png\", \"ps\", \"raw\", \"svg\", \"tif\"];\n",
       "\n",
       "mpl.default_extension = \"png\";var comm_websocket_adapter = function(comm) {\n",
       "    // Create a \"websocket\"-like object which calls the given IPython comm\n",
       "    // object with the appropriate methods. Currently this is a non binary\n",
       "    // socket, so there is still some room for performance tuning.\n",
       "    var ws = {};\n",
       "\n",
       "    ws.close = function() {\n",
       "        comm.close()\n",
       "    };\n",
       "    ws.send = function(m) {\n",
       "        //console.log('sending', m);\n",
       "        comm.send(m);\n",
       "    };\n",
       "    // Register the callback with on_msg.\n",
       "    comm.on_msg(function(msg) {\n",
       "        //console.log('receiving', msg['content']['data'], msg);\n",
       "        // Pass the mpl event to the overriden (by mpl) onmessage function.\n",
       "        ws.onmessage(msg['content']['data'])\n",
       "    });\n",
       "    return ws;\n",
       "}\n",
       "\n",
       "mpl.mpl_figure_comm = function(comm, msg) {\n",
       "    // This is the function which gets called when the mpl process\n",
       "    // starts-up an IPython Comm through the \"matplotlib\" channel.\n",
       "\n",
       "    var id = msg.content.data.id;\n",
       "    // Get hold of the div created by the display call when the Comm\n",
       "    // socket was opened in Python.\n",
       "    var element = $(\"#\" + id);\n",
       "    var ws_proxy = comm_websocket_adapter(comm)\n",
       "\n",
       "    function ondownload(figure, format) {\n",
       "        window.open(figure.imageObj.src);\n",
       "    }\n",
       "\n",
       "    var fig = new mpl.figure(id, ws_proxy,\n",
       "                           ondownload,\n",
       "                           element.get(0));\n",
       "\n",
       "    // Call onopen now - mpl needs it, as it is assuming we've passed it a real\n",
       "    // web socket which is closed, not our websocket->open comm proxy.\n",
       "    ws_proxy.onopen();\n",
       "\n",
       "    fig.parent_element = element.get(0);\n",
       "    fig.cell_info = mpl.find_output_cell(\"<div id='\" + id + \"'></div>\");\n",
       "    if (!fig.cell_info) {\n",
       "        console.error(\"Failed to find cell for figure\", id, fig);\n",
       "        return;\n",
       "    }\n",
       "\n",
       "    var output_index = fig.cell_info[2]\n",
       "    var cell = fig.cell_info[0];\n",
       "\n",
       "};\n",
       "\n",
       "mpl.figure.prototype.handle_close = function(fig, msg) {\n",
       "    var width = fig.canvas.width/mpl.ratio\n",
       "    fig.root.unbind('remove')\n",
       "\n",
       "    // Update the output cell to use the data from the current canvas.\n",
       "    fig.push_to_output();\n",
       "    var dataURL = fig.canvas.toDataURL();\n",
       "    // Re-enable the keyboard manager in IPython - without this line, in FF,\n",
       "    // the notebook keyboard shortcuts fail.\n",
       "    IPython.keyboard_manager.enable()\n",
       "    $(fig.parent_element).html('<img src=\"' + dataURL + '\" width=\"' + width + '\">');\n",
       "    fig.close_ws(fig, msg);\n",
       "}\n",
       "\n",
       "mpl.figure.prototype.close_ws = function(fig, msg){\n",
       "    fig.send_message('closing', msg);\n",
       "    // fig.ws.close()\n",
       "}\n",
       "\n",
       "mpl.figure.prototype.push_to_output = function(remove_interactive) {\n",
       "    // Turn the data on the canvas into data in the output cell.\n",
       "    var width = this.canvas.width/mpl.ratio\n",
       "    var dataURL = this.canvas.toDataURL();\n",
       "    this.cell_info[1]['text/html'] = '<img src=\"' + dataURL + '\" width=\"' + width + '\">';\n",
       "}\n",
       "\n",
       "mpl.figure.prototype.updated_canvas_event = function() {\n",
       "    // Tell IPython that the notebook contents must change.\n",
       "    IPython.notebook.set_dirty(true);\n",
       "    this.send_message(\"ack\", {});\n",
       "    var fig = this;\n",
       "    // Wait a second, then push the new image to the DOM so\n",
       "    // that it is saved nicely (might be nice to debounce this).\n",
       "    setTimeout(function () { fig.push_to_output() }, 1000);\n",
       "}\n",
       "\n",
       "mpl.figure.prototype._init_toolbar = function() {\n",
       "    var fig = this;\n",
       "\n",
       "    var nav_element = $('<div/>')\n",
       "    nav_element.attr('style', 'width: 100%');\n",
       "    this.root.append(nav_element);\n",
       "\n",
       "    // Define a callback function for later on.\n",
       "    function toolbar_event(event) {\n",
       "        return fig.toolbar_button_onclick(event['data']);\n",
       "    }\n",
       "    function toolbar_mouse_event(event) {\n",
       "        return fig.toolbar_button_onmouseover(event['data']);\n",
       "    }\n",
       "\n",
       "    for(var toolbar_ind in mpl.toolbar_items){\n",
       "        var name = mpl.toolbar_items[toolbar_ind][0];\n",
       "        var tooltip = mpl.toolbar_items[toolbar_ind][1];\n",
       "        var image = mpl.toolbar_items[toolbar_ind][2];\n",
       "        var method_name = mpl.toolbar_items[toolbar_ind][3];\n",
       "\n",
       "        if (!name) { continue; };\n",
       "\n",
       "        var button = $('<button class=\"btn btn-default\" href=\"#\" title=\"' + name + '\"><i class=\"fa ' + image + ' fa-lg\"></i></button>');\n",
       "        button.click(method_name, toolbar_event);\n",
       "        button.mouseover(tooltip, toolbar_mouse_event);\n",
       "        nav_element.append(button);\n",
       "    }\n",
       "\n",
       "    // Add the status bar.\n",
       "    var status_bar = $('<span class=\"mpl-message\" style=\"text-align:right; float: right;\"/>');\n",
       "    nav_element.append(status_bar);\n",
       "    this.message = status_bar[0];\n",
       "\n",
       "    // Add the close button to the window.\n",
       "    var buttongrp = $('<div class=\"btn-group inline pull-right\"></div>');\n",
       "    var button = $('<button class=\"btn btn-mini btn-primary\" href=\"#\" title=\"Stop Interaction\"><i class=\"fa fa-power-off icon-remove icon-large\"></i></button>');\n",
       "    button.click(function (evt) { fig.handle_close(fig, {}); } );\n",
       "    button.mouseover('Stop Interaction', toolbar_mouse_event);\n",
       "    buttongrp.append(button);\n",
       "    var titlebar = this.root.find($('.ui-dialog-titlebar'));\n",
       "    titlebar.prepend(buttongrp);\n",
       "}\n",
       "\n",
       "mpl.figure.prototype._root_extra_style = function(el){\n",
       "    var fig = this\n",
       "    el.on(\"remove\", function(){\n",
       "\tfig.close_ws(fig, {});\n",
       "    });\n",
       "}\n",
       "\n",
       "mpl.figure.prototype._canvas_extra_style = function(el){\n",
       "    // this is important to make the div 'focusable\n",
       "    el.attr('tabindex', 0)\n",
       "    // reach out to IPython and tell the keyboard manager to turn it's self\n",
       "    // off when our div gets focus\n",
       "\n",
       "    // location in version 3\n",
       "    if (IPython.notebook.keyboard_manager) {\n",
       "        IPython.notebook.keyboard_manager.register_events(el);\n",
       "    }\n",
       "    else {\n",
       "        // location in version 2\n",
       "        IPython.keyboard_manager.register_events(el);\n",
       "    }\n",
       "\n",
       "}\n",
       "\n",
       "mpl.figure.prototype._key_event_extra = function(event, name) {\n",
       "    var manager = IPython.notebook.keyboard_manager;\n",
       "    if (!manager)\n",
       "        manager = IPython.keyboard_manager;\n",
       "\n",
       "    // Check for shift+enter\n",
       "    if (event.shiftKey && event.which == 13) {\n",
       "        this.canvas_div.blur();\n",
       "        // select the cell after this one\n",
       "        var index = IPython.notebook.find_cell_index(this.cell_info[0]);\n",
       "        IPython.notebook.select(index + 1);\n",
       "    }\n",
       "}\n",
       "\n",
       "mpl.figure.prototype.handle_save = function(fig, msg) {\n",
       "    fig.ondownload(fig, null);\n",
       "}\n",
       "\n",
       "\n",
       "mpl.find_output_cell = function(html_output) {\n",
       "    // Return the cell and output element which can be found *uniquely* in the notebook.\n",
       "    // Note - this is a bit hacky, but it is done because the \"notebook_saving.Notebook\"\n",
       "    // IPython event is triggered only after the cells have been serialised, which for\n",
       "    // our purposes (turning an active figure into a static one), is too late.\n",
       "    var cells = IPython.notebook.get_cells();\n",
       "    var ncells = cells.length;\n",
       "    for (var i=0; i<ncells; i++) {\n",
       "        var cell = cells[i];\n",
       "        if (cell.cell_type === 'code'){\n",
       "            for (var j=0; j<cell.output_area.outputs.length; j++) {\n",
       "                var data = cell.output_area.outputs[j];\n",
       "                if (data.data) {\n",
       "                    // IPython >= 3 moved mimebundle to data attribute of output\n",
       "                    data = data.data;\n",
       "                }\n",
       "                if (data['text/html'] == html_output) {\n",
       "                    return [cell, data, j];\n",
       "                }\n",
       "            }\n",
       "        }\n",
       "    }\n",
       "}\n",
       "\n",
       "// Register the function which deals with the matplotlib target/channel.\n",
       "// The kernel may be null if the page has been refreshed.\n",
       "if (IPython.notebook.kernel != null) {\n",
       "    IPython.notebook.kernel.comm_manager.register_target('matplotlib', mpl.mpl_figure_comm);\n",
       "}\n"
      ],
      "text/plain": [
       "<IPython.core.display.Javascript object>"
      ]
     },
     "metadata": {},
     "output_type": "display_data"
    },
    {
     "data": {
      "text/html": [
       "<img src=\"data:image/png;base64,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\" width=\"640\">"
      ],
      "text/plain": [
       "<IPython.core.display.HTML object>"
      ]
     },
     "metadata": {},
     "output_type": "display_data"
    }
   ],
   "source": [
    "%matplotlib notebook\n",
    "import matplotlib.pyplot as plt\n",
    "tmp.recompute_peak_positions = True\n",
    "tmp.phase_x[9]['values'] = 4.8\n",
    "tmp.update_params(tmp.phase_x)\n",
    "plt.plot(Rp.two_theta,tmp.phase_profile())\n",
    "plt.show()"
   ]
  },
  {
   "cell_type": "code",
   "execution_count": 21,
   "metadata": {},
   "outputs": [],
   "source": [
    "tmp.assemble_phase_x()"
   ]
  }
 ],
 "metadata": {
  "kernelspec": {
   "display_name": "Python 2",
   "language": "python",
   "name": "python2"
  },
  "language_info": {
   "codemirror_mode": {
    "name": "ipython",
    "version": 2
   },
   "file_extension": ".py",
   "mimetype": "text/x-python",
   "name": "python",
   "nbconvert_exporter": "python",
   "pygments_lexer": "ipython2",
   "version": "2.7.12"
  }
 },
 "nbformat": 4,
 "nbformat_minor": 2
}
