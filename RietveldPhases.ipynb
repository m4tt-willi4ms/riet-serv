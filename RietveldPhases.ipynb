{
 "cells": [
  {
   "cell_type": "markdown",
   "metadata": {},
   "source": [
    "# Tracking Changes to RietveldPhases\n",
    "\n",
    "This notebook tracks changes as they're made to the RietveldPhases module/class."
   ]
  },
  {
   "cell_type": "code",
   "execution_count": 1,
   "metadata": {},
   "outputs": [],
   "source": [
    "from src.RietveldPhases import RietveldPhases as Rp"
   ]
  },
  {
   "cell_type": "code",
   "execution_count": 2,
   "metadata": {},
   "outputs": [],
   "source": [
    "Rp.set_profile(r\"./data/profiles/Jade-Al2O3-Sim.xye\",number_of_columns=2)"
   ]
  },
  {
   "cell_type": "code",
   "execution_count": 3,
   "metadata": {},
   "outputs": [
    {
     "data": {
      "text/plain": [
       "\"[('U',  0.,  0.,  0.1)]\""
      ]
     },
     "execution_count": 3,
     "metadata": {},
     "output_type": "execute_result"
    }
   ],
   "source": [
    "tmp = Rp(\"./data/cifs/1000032.cif\")\n",
    "str(tmp.U)"
   ]
  },
  {
   "cell_type": "code",
   "execution_count": 4,
   "metadata": {},
   "outputs": [],
   "source": [
    "Rp.set_bkgd_order(2)\n",
    "assert Rp.bkgd.shape[0] == 2"
   ]
  },
  {
   "cell_type": "code",
   "execution_count": 5,
   "metadata": {},
   "outputs": [
    {
     "name": "stdout",
     "output_type": "stream",
     "text": [
      "[  5.     5.02   5.04 ...,  89.96  89.98  90.  ]\n"
     ]
    }
   ],
   "source": [
    "print Rp.two_theta"
   ]
  },
  {
   "cell_type": "code",
   "execution_count": 6,
   "metadata": {},
   "outputs": [
    {
     "name": "stdout",
     "output_type": "stream",
     "text": [
      "[ 1.  1.  1. ...,  2.  2.  2.]\n"
     ]
    }
   ],
   "source": [
    "print Rp.I"
   ]
  },
  {
   "cell_type": "code",
   "execution_count": 7,
   "metadata": {},
   "outputs": [
    {
     "name": "stdout",
     "output_type": "stream",
     "text": [
      "[ 0.  0.  0. ...,  0.  0.  0.]\n",
      "[ 1.  1.  1. ...,  1.  1.  1.]\n"
     ]
    }
   ],
   "source": [
    "print Rp.background_polynomial()\n",
    "Rp.bkgd['values'][0] = 1\n",
    "print Rp.background_polynomial()"
   ]
  },
  {
   "cell_type": "code",
   "execution_count": 8,
   "metadata": {},
   "outputs": [
    {
     "data": {
      "text/plain": [
       "array([('V', -0., -0.1,  0.)],\n",
       "      dtype=[('labels', 'S12'), ('values', '<f8'), ('l_limits', '<f8'), ('u_limits', '<f8')])"
      ]
     },
     "execution_count": 8,
     "metadata": {},
     "output_type": "execute_result"
    }
   ],
   "source": [
    "tmp.V"
   ]
  },
  {
   "cell_type": "code",
   "execution_count": 9,
   "metadata": {},
   "outputs": [],
   "source": [
    "import numpy as np\n",
    "tmp2 = np.stack((tmp.U,tmp.V))"
   ]
  },
  {
   "cell_type": "code",
   "execution_count": 10,
   "metadata": {},
   "outputs": [
    {
     "data": {
      "text/plain": [
       "array([[('U',  0.,  0. ,  0.1)],\n",
       "       [('S', -0., -0.1,  0. )]],\n",
       "      dtype=[('labels', 'S12'), ('values', '<f8'), ('l_limits', '<f8'), ('u_limits', '<f8')])"
      ]
     },
     "execution_count": 10,
     "metadata": {},
     "output_type": "execute_result"
    }
   ],
   "source": [
    "tmp2['labels'][1] = 'S'\n",
    "tmp2"
   ]
  },
  {
   "cell_type": "code",
   "execution_count": 11,
   "metadata": {
    "scrolled": true
   },
   "outputs": [
    {
     "data": {
      "text/plain": [
       "array([('S', -0., -0.1,  0.)],\n",
       "      dtype=[('labels', 'S12'), ('values', '<f8'), ('l_limits', '<f8'), ('u_limits', '<f8')])"
      ]
     },
     "execution_count": 11,
     "metadata": {},
     "output_type": "execute_result"
    }
   ],
   "source": [
    "tmp.V = tmp2[1]\n",
    "tmp.V"
   ]
  },
  {
   "cell_type": "code",
   "execution_count": 12,
   "metadata": {},
   "outputs": [
    {
     "name": "stdout",
     "output_type": "stream",
     "text": [
      "('W',  0.003,  0.0001,  1.)\n"
     ]
    },
    {
     "data": {
      "text/plain": [
       "('W',  0.003,  0.0001,  1.)"
      ]
     },
     "execution_count": 12,
     "metadata": {},
     "output_type": "execute_result"
    }
   ],
   "source": [
    "Rp.assemble_global_x()\n",
    "tmp.assemble_phase_x()\n",
    "tmp.eta = tmp.set_eta_order(15)\n",
    "tmp.assemble_phase_x()\n",
    "tmp.phase_x[2]['values'] = .003\n",
    "print tmp.phase_x[2]\n",
    "tmp.update_params(tmp.phase_x)\n",
    "tmp.W"
   ]
  },
  {
   "cell_type": "code",
   "execution_count": 13,
   "metadata": {
    "scrolled": true
   },
   "outputs": [
    {
     "data": {
      "text/plain": [
       "\"[('eta_0',  0.5,   0.00000000e+00,   1.00000000e+00)\\n ('eta_1',  0. ,  -1.00000000e-03,   1.00000000e-03)\\n ('eta_2',  0. ,  -1.00000000e-06,   1.00000000e-06)\\n ('eta_3',  0. ,  -1.00000000e-09,   1.00000000e-09)\\n ('eta_4',  0. ,  -1.00000000e-12,   1.00000000e-12)]\""
      ]
     },
     "execution_count": 13,
     "metadata": {},
     "output_type": "execute_result"
    }
   ],
   "source": [
    "str(tmp.eta)"
   ]
  },
  {
   "cell_type": "code",
   "execution_count": 14,
   "metadata": {},
   "outputs": [
    {
     "data": {
      "text/plain": [
       "array([ 1.,  1.,  1., ...,  1.,  1.,  1.])"
      ]
     },
     "execution_count": 14,
     "metadata": {},
     "output_type": "execute_result"
    }
   ],
   "source": [
    "Rp.bkgd\n",
    "Rp.background_polynomial()"
   ]
  },
  {
   "cell_type": "code",
   "execution_count": 15,
   "metadata": {},
   "outputs": [
    {
     "name": "stdout",
     "output_type": "stream",
     "text": [
      "HTrigonal\n"
     ]
    },
    {
     "data": {
      "text/plain": [
       "(4.8, 4.8, 12.995599999999998, 90.0, 90.0, 120.0)"
      ]
     },
     "execution_count": 15,
     "metadata": {},
     "output_type": "execute_result"
    }
   ],
   "source": [
    "tmp.set_lattice_parameters()\n",
    "tmp.recompute_peak_positions = True\n",
    "tmp.assemble_phase_x()\n",
    "print tmp.crystal_system\n",
    "tmp.phase_x[9]['values'] = 4.8\n",
    "tmp.update_params(tmp.phase_x)\n",
    "tmp.unit_cell.parameters()"
   ]
  },
  {
   "cell_type": "code",
   "execution_count": 16,
   "metadata": {},
   "outputs": [
    {
     "data": {
      "text/plain": [
       "('uc_a',  4.8,  4.712895,  4.808105)"
      ]
     },
     "execution_count": 16,
     "metadata": {},
     "output_type": "execute_result"
    }
   ],
   "source": [
    "tmp.lattice_parameters[0]"
   ]
  },
  {
   "cell_type": "code",
   "execution_count": 17,
   "metadata": {},
   "outputs": [
    {
     "data": {
      "text/plain": [
       "array([ 0.5,  0.5,  0.5, ...,  0.5,  0.5,  0.5])"
      ]
     },
     "execution_count": 17,
     "metadata": {},
     "output_type": "execute_result"
    }
   ],
   "source": [
    "tmp.eta_polynomial()"
   ]
  },
  {
   "cell_type": "code",
   "execution_count": 18,
   "metadata": {},
   "outputs": [
    {
     "data": {
      "text/plain": [
       "0.0"
      ]
     },
     "execution_count": 18,
     "metadata": {},
     "output_type": "execute_result"
    }
   ],
   "source": [
    "float(tmp.U['values'])"
   ]
  },
  {
   "cell_type": "code",
   "execution_count": 19,
   "metadata": {},
   "outputs": [
    {
     "data": {
      "text/plain": [
       "9202.2845039108452"
      ]
     },
     "execution_count": 19,
     "metadata": {},
     "output_type": "execute_result"
    }
   ],
   "source": [
    "np.max(tmp.phase_profile())"
   ]
  },
  {
   "cell_type": "code",
   "execution_count": 27,
   "metadata": {},
   "outputs": [
    {
     "data": {
      "application/javascript": [
       "/* Put everything inside the global mpl namespace */\n",
       "window.mpl = {};\n",
       "\n",
       "\n",
       "mpl.get_websocket_type = function() {\n",
       "    if (typeof(WebSocket) !== 'undefined') {\n",
       "        return WebSocket;\n",
       "    } else if (typeof(MozWebSocket) !== 'undefined') {\n",
       "        return MozWebSocket;\n",
       "    } else {\n",
       "        alert('Your browser does not have WebSocket support.' +\n",
       "              'Please try Chrome, Safari or Firefox ≥ 6. ' +\n",
       "              'Firefox 4 and 5 are also supported but you ' +\n",
       "              'have to enable WebSockets in about:config.');\n",
       "    };\n",
       "}\n",
       "\n",
       "mpl.figure = function(figure_id, websocket, ondownload, parent_element) {\n",
       "    this.id = figure_id;\n",
       "\n",
       "    this.ws = websocket;\n",
       "\n",
       "    this.supports_binary = (this.ws.binaryType != undefined);\n",
       "\n",
       "    if (!this.supports_binary) {\n",
       "        var warnings = document.getElementById(\"mpl-warnings\");\n",
       "        if (warnings) {\n",
       "            warnings.style.display = 'block';\n",
       "            warnings.textContent = (\n",
       "                \"This browser does not support binary websocket messages. \" +\n",
       "                    \"Performance may be slow.\");\n",
       "        }\n",
       "    }\n",
       "\n",
       "    this.imageObj = new Image();\n",
       "\n",
       "    this.context = undefined;\n",
       "    this.message = undefined;\n",
       "    this.canvas = undefined;\n",
       "    this.rubberband_canvas = undefined;\n",
       "    this.rubberband_context = undefined;\n",
       "    this.format_dropdown = undefined;\n",
       "\n",
       "    this.image_mode = 'full';\n",
       "\n",
       "    this.root = $('<div/>');\n",
       "    this._root_extra_style(this.root)\n",
       "    this.root.attr('style', 'display: inline-block');\n",
       "\n",
       "    $(parent_element).append(this.root);\n",
       "\n",
       "    this._init_header(this);\n",
       "    this._init_canvas(this);\n",
       "    this._init_toolbar(this);\n",
       "\n",
       "    var fig = this;\n",
       "\n",
       "    this.waiting = false;\n",
       "\n",
       "    this.ws.onopen =  function () {\n",
       "            fig.send_message(\"supports_binary\", {value: fig.supports_binary});\n",
       "            fig.send_message(\"send_image_mode\", {});\n",
       "            if (mpl.ratio != 1) {\n",
       "                fig.send_message(\"set_dpi_ratio\", {'dpi_ratio': mpl.ratio});\n",
       "            }\n",
       "            fig.send_message(\"refresh\", {});\n",
       "        }\n",
       "\n",
       "    this.imageObj.onload = function() {\n",
       "            if (fig.image_mode == 'full') {\n",
       "                // Full images could contain transparency (where diff images\n",
       "                // almost always do), so we need to clear the canvas so that\n",
       "                // there is no ghosting.\n",
       "                fig.context.clearRect(0, 0, fig.canvas.width, fig.canvas.height);\n",
       "            }\n",
       "            fig.context.drawImage(fig.imageObj, 0, 0);\n",
       "        };\n",
       "\n",
       "    this.imageObj.onunload = function() {\n",
       "        this.ws.close();\n",
       "    }\n",
       "\n",
       "    this.ws.onmessage = this._make_on_message_function(this);\n",
       "\n",
       "    this.ondownload = ondownload;\n",
       "}\n",
       "\n",
       "mpl.figure.prototype._init_header = function() {\n",
       "    var titlebar = $(\n",
       "        '<div class=\"ui-dialog-titlebar ui-widget-header ui-corner-all ' +\n",
       "        'ui-helper-clearfix\"/>');\n",
       "    var titletext = $(\n",
       "        '<div class=\"ui-dialog-title\" style=\"width: 100%; ' +\n",
       "        'text-align: center; padding: 3px;\"/>');\n",
       "    titlebar.append(titletext)\n",
       "    this.root.append(titlebar);\n",
       "    this.header = titletext[0];\n",
       "}\n",
       "\n",
       "\n",
       "\n",
       "mpl.figure.prototype._canvas_extra_style = function(canvas_div) {\n",
       "\n",
       "}\n",
       "\n",
       "\n",
       "mpl.figure.prototype._root_extra_style = function(canvas_div) {\n",
       "\n",
       "}\n",
       "\n",
       "mpl.figure.prototype._init_canvas = function() {\n",
       "    var fig = this;\n",
       "\n",
       "    var canvas_div = $('<div/>');\n",
       "\n",
       "    canvas_div.attr('style', 'position: relative; clear: both; outline: 0');\n",
       "\n",
       "    function canvas_keyboard_event(event) {\n",
       "        return fig.key_event(event, event['data']);\n",
       "    }\n",
       "\n",
       "    canvas_div.keydown('key_press', canvas_keyboard_event);\n",
       "    canvas_div.keyup('key_release', canvas_keyboard_event);\n",
       "    this.canvas_div = canvas_div\n",
       "    this._canvas_extra_style(canvas_div)\n",
       "    this.root.append(canvas_div);\n",
       "\n",
       "    var canvas = $('<canvas/>');\n",
       "    canvas.addClass('mpl-canvas');\n",
       "    canvas.attr('style', \"left: 0; top: 0; z-index: 0; outline: 0\")\n",
       "\n",
       "    this.canvas = canvas[0];\n",
       "    this.context = canvas[0].getContext(\"2d\");\n",
       "\n",
       "    var backingStore = this.context.backingStorePixelRatio ||\n",
       "\tthis.context.webkitBackingStorePixelRatio ||\n",
       "\tthis.context.mozBackingStorePixelRatio ||\n",
       "\tthis.context.msBackingStorePixelRatio ||\n",
       "\tthis.context.oBackingStorePixelRatio ||\n",
       "\tthis.context.backingStorePixelRatio || 1;\n",
       "\n",
       "    mpl.ratio = (window.devicePixelRatio || 1) / backingStore;\n",
       "\n",
       "    var rubberband = $('<canvas/>');\n",
       "    rubberband.attr('style', \"position: absolute; left: 0; top: 0; z-index: 1;\")\n",
       "\n",
       "    var pass_mouse_events = true;\n",
       "\n",
       "    canvas_div.resizable({\n",
       "        start: function(event, ui) {\n",
       "            pass_mouse_events = false;\n",
       "        },\n",
       "        resize: function(event, ui) {\n",
       "            fig.request_resize(ui.size.width, ui.size.height);\n",
       "        },\n",
       "        stop: function(event, ui) {\n",
       "            pass_mouse_events = true;\n",
       "            fig.request_resize(ui.size.width, ui.size.height);\n",
       "        },\n",
       "    });\n",
       "\n",
       "    function mouse_event_fn(event) {\n",
       "        if (pass_mouse_events)\n",
       "            return fig.mouse_event(event, event['data']);\n",
       "    }\n",
       "\n",
       "    rubberband.mousedown('button_press', mouse_event_fn);\n",
       "    rubberband.mouseup('button_release', mouse_event_fn);\n",
       "    // Throttle sequential mouse events to 1 every 20ms.\n",
       "    rubberband.mousemove('motion_notify', mouse_event_fn);\n",
       "\n",
       "    rubberband.mouseenter('figure_enter', mouse_event_fn);\n",
       "    rubberband.mouseleave('figure_leave', mouse_event_fn);\n",
       "\n",
       "    canvas_div.on(\"wheel\", function (event) {\n",
       "        event = event.originalEvent;\n",
       "        event['data'] = 'scroll'\n",
       "        if (event.deltaY < 0) {\n",
       "            event.step = 1;\n",
       "        } else {\n",
       "            event.step = -1;\n",
       "        }\n",
       "        mouse_event_fn(event);\n",
       "    });\n",
       "\n",
       "    canvas_div.append(canvas);\n",
       "    canvas_div.append(rubberband);\n",
       "\n",
       "    this.rubberband = rubberband;\n",
       "    this.rubberband_canvas = rubberband[0];\n",
       "    this.rubberband_context = rubberband[0].getContext(\"2d\");\n",
       "    this.rubberband_context.strokeStyle = \"#000000\";\n",
       "\n",
       "    this._resize_canvas = function(width, height) {\n",
       "        // Keep the size of the canvas, canvas container, and rubber band\n",
       "        // canvas in synch.\n",
       "        canvas_div.css('width', width)\n",
       "        canvas_div.css('height', height)\n",
       "\n",
       "        canvas.attr('width', width * mpl.ratio);\n",
       "        canvas.attr('height', height * mpl.ratio);\n",
       "        canvas.attr('style', 'width: ' + width + 'px; height: ' + height + 'px;');\n",
       "\n",
       "        rubberband.attr('width', width);\n",
       "        rubberband.attr('height', height);\n",
       "    }\n",
       "\n",
       "    // Set the figure to an initial 600x600px, this will subsequently be updated\n",
       "    // upon first draw.\n",
       "    this._resize_canvas(600, 600);\n",
       "\n",
       "    // Disable right mouse context menu.\n",
       "    $(this.rubberband_canvas).bind(\"contextmenu\",function(e){\n",
       "        return false;\n",
       "    });\n",
       "\n",
       "    function set_focus () {\n",
       "        canvas.focus();\n",
       "        canvas_div.focus();\n",
       "    }\n",
       "\n",
       "    window.setTimeout(set_focus, 100);\n",
       "}\n",
       "\n",
       "mpl.figure.prototype._init_toolbar = function() {\n",
       "    var fig = this;\n",
       "\n",
       "    var nav_element = $('<div/>')\n",
       "    nav_element.attr('style', 'width: 100%');\n",
       "    this.root.append(nav_element);\n",
       "\n",
       "    // Define a callback function for later on.\n",
       "    function toolbar_event(event) {\n",
       "        return fig.toolbar_button_onclick(event['data']);\n",
       "    }\n",
       "    function toolbar_mouse_event(event) {\n",
       "        return fig.toolbar_button_onmouseover(event['data']);\n",
       "    }\n",
       "\n",
       "    for(var toolbar_ind in mpl.toolbar_items) {\n",
       "        var name = mpl.toolbar_items[toolbar_ind][0];\n",
       "        var tooltip = mpl.toolbar_items[toolbar_ind][1];\n",
       "        var image = mpl.toolbar_items[toolbar_ind][2];\n",
       "        var method_name = mpl.toolbar_items[toolbar_ind][3];\n",
       "\n",
       "        if (!name) {\n",
       "            // put a spacer in here.\n",
       "            continue;\n",
       "        }\n",
       "        var button = $('<button/>');\n",
       "        button.addClass('ui-button ui-widget ui-state-default ui-corner-all ' +\n",
       "                        'ui-button-icon-only');\n",
       "        button.attr('role', 'button');\n",
       "        button.attr('aria-disabled', 'false');\n",
       "        button.click(method_name, toolbar_event);\n",
       "        button.mouseover(tooltip, toolbar_mouse_event);\n",
       "\n",
       "        var icon_img = $('<span/>');\n",
       "        icon_img.addClass('ui-button-icon-primary ui-icon');\n",
       "        icon_img.addClass(image);\n",
       "        icon_img.addClass('ui-corner-all');\n",
       "\n",
       "        var tooltip_span = $('<span/>');\n",
       "        tooltip_span.addClass('ui-button-text');\n",
       "        tooltip_span.html(tooltip);\n",
       "\n",
       "        button.append(icon_img);\n",
       "        button.append(tooltip_span);\n",
       "\n",
       "        nav_element.append(button);\n",
       "    }\n",
       "\n",
       "    var fmt_picker_span = $('<span/>');\n",
       "\n",
       "    var fmt_picker = $('<select/>');\n",
       "    fmt_picker.addClass('mpl-toolbar-option ui-widget ui-widget-content');\n",
       "    fmt_picker_span.append(fmt_picker);\n",
       "    nav_element.append(fmt_picker_span);\n",
       "    this.format_dropdown = fmt_picker[0];\n",
       "\n",
       "    for (var ind in mpl.extensions) {\n",
       "        var fmt = mpl.extensions[ind];\n",
       "        var option = $(\n",
       "            '<option/>', {selected: fmt === mpl.default_extension}).html(fmt);\n",
       "        fmt_picker.append(option)\n",
       "    }\n",
       "\n",
       "    // Add hover states to the ui-buttons\n",
       "    $( \".ui-button\" ).hover(\n",
       "        function() { $(this).addClass(\"ui-state-hover\");},\n",
       "        function() { $(this).removeClass(\"ui-state-hover\");}\n",
       "    );\n",
       "\n",
       "    var status_bar = $('<span class=\"mpl-message\"/>');\n",
       "    nav_element.append(status_bar);\n",
       "    this.message = status_bar[0];\n",
       "}\n",
       "\n",
       "mpl.figure.prototype.request_resize = function(x_pixels, y_pixels) {\n",
       "    // Request matplotlib to resize the figure. Matplotlib will then trigger a resize in the client,\n",
       "    // which will in turn request a refresh of the image.\n",
       "    this.send_message('resize', {'width': x_pixels, 'height': y_pixels});\n",
       "}\n",
       "\n",
       "mpl.figure.prototype.send_message = function(type, properties) {\n",
       "    properties['type'] = type;\n",
       "    properties['figure_id'] = this.id;\n",
       "    this.ws.send(JSON.stringify(properties));\n",
       "}\n",
       "\n",
       "mpl.figure.prototype.send_draw_message = function() {\n",
       "    if (!this.waiting) {\n",
       "        this.waiting = true;\n",
       "        this.ws.send(JSON.stringify({type: \"draw\", figure_id: this.id}));\n",
       "    }\n",
       "}\n",
       "\n",
       "\n",
       "mpl.figure.prototype.handle_save = function(fig, msg) {\n",
       "    var format_dropdown = fig.format_dropdown;\n",
       "    var format = format_dropdown.options[format_dropdown.selectedIndex].value;\n",
       "    fig.ondownload(fig, format);\n",
       "}\n",
       "\n",
       "\n",
       "mpl.figure.prototype.handle_resize = function(fig, msg) {\n",
       "    var size = msg['size'];\n",
       "    if (size[0] != fig.canvas.width || size[1] != fig.canvas.height) {\n",
       "        fig._resize_canvas(size[0], size[1]);\n",
       "        fig.send_message(\"refresh\", {});\n",
       "    };\n",
       "}\n",
       "\n",
       "mpl.figure.prototype.handle_rubberband = function(fig, msg) {\n",
       "    var x0 = msg['x0'] / mpl.ratio;\n",
       "    var y0 = (fig.canvas.height - msg['y0']) / mpl.ratio;\n",
       "    var x1 = msg['x1'] / mpl.ratio;\n",
       "    var y1 = (fig.canvas.height - msg['y1']) / mpl.ratio;\n",
       "    x0 = Math.floor(x0) + 0.5;\n",
       "    y0 = Math.floor(y0) + 0.5;\n",
       "    x1 = Math.floor(x1) + 0.5;\n",
       "    y1 = Math.floor(y1) + 0.5;\n",
       "    var min_x = Math.min(x0, x1);\n",
       "    var min_y = Math.min(y0, y1);\n",
       "    var width = Math.abs(x1 - x0);\n",
       "    var height = Math.abs(y1 - y0);\n",
       "\n",
       "    fig.rubberband_context.clearRect(\n",
       "        0, 0, fig.canvas.width, fig.canvas.height);\n",
       "\n",
       "    fig.rubberband_context.strokeRect(min_x, min_y, width, height);\n",
       "}\n",
       "\n",
       "mpl.figure.prototype.handle_figure_label = function(fig, msg) {\n",
       "    // Updates the figure title.\n",
       "    fig.header.textContent = msg['label'];\n",
       "}\n",
       "\n",
       "mpl.figure.prototype.handle_cursor = function(fig, msg) {\n",
       "    var cursor = msg['cursor'];\n",
       "    switch(cursor)\n",
       "    {\n",
       "    case 0:\n",
       "        cursor = 'pointer';\n",
       "        break;\n",
       "    case 1:\n",
       "        cursor = 'default';\n",
       "        break;\n",
       "    case 2:\n",
       "        cursor = 'crosshair';\n",
       "        break;\n",
       "    case 3:\n",
       "        cursor = 'move';\n",
       "        break;\n",
       "    }\n",
       "    fig.rubberband_canvas.style.cursor = cursor;\n",
       "}\n",
       "\n",
       "mpl.figure.prototype.handle_message = function(fig, msg) {\n",
       "    fig.message.textContent = msg['message'];\n",
       "}\n",
       "\n",
       "mpl.figure.prototype.handle_draw = function(fig, msg) {\n",
       "    // Request the server to send over a new figure.\n",
       "    fig.send_draw_message();\n",
       "}\n",
       "\n",
       "mpl.figure.prototype.handle_image_mode = function(fig, msg) {\n",
       "    fig.image_mode = msg['mode'];\n",
       "}\n",
       "\n",
       "mpl.figure.prototype.updated_canvas_event = function() {\n",
       "    // Called whenever the canvas gets updated.\n",
       "    this.send_message(\"ack\", {});\n",
       "}\n",
       "\n",
       "// A function to construct a web socket function for onmessage handling.\n",
       "// Called in the figure constructor.\n",
       "mpl.figure.prototype._make_on_message_function = function(fig) {\n",
       "    return function socket_on_message(evt) {\n",
       "        if (evt.data instanceof Blob) {\n",
       "            /* FIXME: We get \"Resource interpreted as Image but\n",
       "             * transferred with MIME type text/plain:\" errors on\n",
       "             * Chrome.  But how to set the MIME type?  It doesn't seem\n",
       "             * to be part of the websocket stream */\n",
       "            evt.data.type = \"image/png\";\n",
       "\n",
       "            /* Free the memory for the previous frames */\n",
       "            if (fig.imageObj.src) {\n",
       "                (window.URL || window.webkitURL).revokeObjectURL(\n",
       "                    fig.imageObj.src);\n",
       "            }\n",
       "\n",
       "            fig.imageObj.src = (window.URL || window.webkitURL).createObjectURL(\n",
       "                evt.data);\n",
       "            fig.updated_canvas_event();\n",
       "            fig.waiting = false;\n",
       "            return;\n",
       "        }\n",
       "        else if (typeof evt.data === 'string' && evt.data.slice(0, 21) == \"data:image/png;base64\") {\n",
       "            fig.imageObj.src = evt.data;\n",
       "            fig.updated_canvas_event();\n",
       "            fig.waiting = false;\n",
       "            return;\n",
       "        }\n",
       "\n",
       "        var msg = JSON.parse(evt.data);\n",
       "        var msg_type = msg['type'];\n",
       "\n",
       "        // Call the  \"handle_{type}\" callback, which takes\n",
       "        // the figure and JSON message as its only arguments.\n",
       "        try {\n",
       "            var callback = fig[\"handle_\" + msg_type];\n",
       "        } catch (e) {\n",
       "            console.log(\"No handler for the '\" + msg_type + \"' message type: \", msg);\n",
       "            return;\n",
       "        }\n",
       "\n",
       "        if (callback) {\n",
       "            try {\n",
       "                // console.log(\"Handling '\" + msg_type + \"' message: \", msg);\n",
       "                callback(fig, msg);\n",
       "            } catch (e) {\n",
       "                console.log(\"Exception inside the 'handler_\" + msg_type + \"' callback:\", e, e.stack, msg);\n",
       "            }\n",
       "        }\n",
       "    };\n",
       "}\n",
       "\n",
       "// from http://stackoverflow.com/questions/1114465/getting-mouse-location-in-canvas\n",
       "mpl.findpos = function(e) {\n",
       "    //this section is from http://www.quirksmode.org/js/events_properties.html\n",
       "    var targ;\n",
       "    if (!e)\n",
       "        e = window.event;\n",
       "    if (e.target)\n",
       "        targ = e.target;\n",
       "    else if (e.srcElement)\n",
       "        targ = e.srcElement;\n",
       "    if (targ.nodeType == 3) // defeat Safari bug\n",
       "        targ = targ.parentNode;\n",
       "\n",
       "    // jQuery normalizes the pageX and pageY\n",
       "    // pageX,Y are the mouse positions relative to the document\n",
       "    // offset() returns the position of the element relative to the document\n",
       "    var x = e.pageX - $(targ).offset().left;\n",
       "    var y = e.pageY - $(targ).offset().top;\n",
       "\n",
       "    return {\"x\": x, \"y\": y};\n",
       "};\n",
       "\n",
       "/*\n",
       " * return a copy of an object with only non-object keys\n",
       " * we need this to avoid circular references\n",
       " * http://stackoverflow.com/a/24161582/3208463\n",
       " */\n",
       "function simpleKeys (original) {\n",
       "  return Object.keys(original).reduce(function (obj, key) {\n",
       "    if (typeof original[key] !== 'object')\n",
       "        obj[key] = original[key]\n",
       "    return obj;\n",
       "  }, {});\n",
       "}\n",
       "\n",
       "mpl.figure.prototype.mouse_event = function(event, name) {\n",
       "    var canvas_pos = mpl.findpos(event)\n",
       "\n",
       "    if (name === 'button_press')\n",
       "    {\n",
       "        this.canvas.focus();\n",
       "        this.canvas_div.focus();\n",
       "    }\n",
       "\n",
       "    var x = canvas_pos.x * mpl.ratio;\n",
       "    var y = canvas_pos.y * mpl.ratio;\n",
       "\n",
       "    this.send_message(name, {x: x, y: y, button: event.button,\n",
       "                             step: event.step,\n",
       "                             guiEvent: simpleKeys(event)});\n",
       "\n",
       "    /* This prevents the web browser from automatically changing to\n",
       "     * the text insertion cursor when the button is pressed.  We want\n",
       "     * to control all of the cursor setting manually through the\n",
       "     * 'cursor' event from matplotlib */\n",
       "    event.preventDefault();\n",
       "    return false;\n",
       "}\n",
       "\n",
       "mpl.figure.prototype._key_event_extra = function(event, name) {\n",
       "    // Handle any extra behaviour associated with a key event\n",
       "}\n",
       "\n",
       "mpl.figure.prototype.key_event = function(event, name) {\n",
       "\n",
       "    // Prevent repeat events\n",
       "    if (name == 'key_press')\n",
       "    {\n",
       "        if (event.which === this._key)\n",
       "            return;\n",
       "        else\n",
       "            this._key = event.which;\n",
       "    }\n",
       "    if (name == 'key_release')\n",
       "        this._key = null;\n",
       "\n",
       "    var value = '';\n",
       "    if (event.ctrlKey && event.which != 17)\n",
       "        value += \"ctrl+\";\n",
       "    if (event.altKey && event.which != 18)\n",
       "        value += \"alt+\";\n",
       "    if (event.shiftKey && event.which != 16)\n",
       "        value += \"shift+\";\n",
       "\n",
       "    value += 'k';\n",
       "    value += event.which.toString();\n",
       "\n",
       "    this._key_event_extra(event, name);\n",
       "\n",
       "    this.send_message(name, {key: value,\n",
       "                             guiEvent: simpleKeys(event)});\n",
       "    return false;\n",
       "}\n",
       "\n",
       "mpl.figure.prototype.toolbar_button_onclick = function(name) {\n",
       "    if (name == 'download') {\n",
       "        this.handle_save(this, null);\n",
       "    } else {\n",
       "        this.send_message(\"toolbar_button\", {name: name});\n",
       "    }\n",
       "};\n",
       "\n",
       "mpl.figure.prototype.toolbar_button_onmouseover = function(tooltip) {\n",
       "    this.message.textContent = tooltip;\n",
       "};\n",
       "mpl.toolbar_items = [[\"Home\", \"Reset original view\", \"fa fa-home icon-home\", \"home\"], [\"Back\", \"Back to  previous view\", \"fa fa-arrow-left icon-arrow-left\", \"back\"], [\"Forward\", \"Forward to next view\", \"fa fa-arrow-right icon-arrow-right\", \"forward\"], [\"\", \"\", \"\", \"\"], [\"Pan\", \"Pan axes with left mouse, zoom with right\", \"fa fa-arrows icon-move\", \"pan\"], [\"Zoom\", \"Zoom to rectangle\", \"fa fa-square-o icon-check-empty\", \"zoom\"], [\"\", \"\", \"\", \"\"], [\"Download\", \"Download plot\", \"fa fa-floppy-o icon-save\", \"download\"]];\n",
       "\n",
       "mpl.extensions = [\"eps\", \"jpeg\", \"pdf\", \"png\", \"ps\", \"raw\", \"svg\", \"tif\"];\n",
       "\n",
       "mpl.default_extension = \"png\";var comm_websocket_adapter = function(comm) {\n",
       "    // Create a \"websocket\"-like object which calls the given IPython comm\n",
       "    // object with the appropriate methods. Currently this is a non binary\n",
       "    // socket, so there is still some room for performance tuning.\n",
       "    var ws = {};\n",
       "\n",
       "    ws.close = function() {\n",
       "        comm.close()\n",
       "    };\n",
       "    ws.send = function(m) {\n",
       "        //console.log('sending', m);\n",
       "        comm.send(m);\n",
       "    };\n",
       "    // Register the callback with on_msg.\n",
       "    comm.on_msg(function(msg) {\n",
       "        //console.log('receiving', msg['content']['data'], msg);\n",
       "        // Pass the mpl event to the overriden (by mpl) onmessage function.\n",
       "        ws.onmessage(msg['content']['data'])\n",
       "    });\n",
       "    return ws;\n",
       "}\n",
       "\n",
       "mpl.mpl_figure_comm = function(comm, msg) {\n",
       "    // This is the function which gets called when the mpl process\n",
       "    // starts-up an IPython Comm through the \"matplotlib\" channel.\n",
       "\n",
       "    var id = msg.content.data.id;\n",
       "    // Get hold of the div created by the display call when the Comm\n",
       "    // socket was opened in Python.\n",
       "    var element = $(\"#\" + id);\n",
       "    var ws_proxy = comm_websocket_adapter(comm)\n",
       "\n",
       "    function ondownload(figure, format) {\n",
       "        window.open(figure.imageObj.src);\n",
       "    }\n",
       "\n",
       "    var fig = new mpl.figure(id, ws_proxy,\n",
       "                           ondownload,\n",
       "                           element.get(0));\n",
       "\n",
       "    // Call onopen now - mpl needs it, as it is assuming we've passed it a real\n",
       "    // web socket which is closed, not our websocket->open comm proxy.\n",
       "    ws_proxy.onopen();\n",
       "\n",
       "    fig.parent_element = element.get(0);\n",
       "    fig.cell_info = mpl.find_output_cell(\"<div id='\" + id + \"'></div>\");\n",
       "    if (!fig.cell_info) {\n",
       "        console.error(\"Failed to find cell for figure\", id, fig);\n",
       "        return;\n",
       "    }\n",
       "\n",
       "    var output_index = fig.cell_info[2]\n",
       "    var cell = fig.cell_info[0];\n",
       "\n",
       "};\n",
       "\n",
       "mpl.figure.prototype.handle_close = function(fig, msg) {\n",
       "    var width = fig.canvas.width/mpl.ratio\n",
       "    fig.root.unbind('remove')\n",
       "\n",
       "    // Update the output cell to use the data from the current canvas.\n",
       "    fig.push_to_output();\n",
       "    var dataURL = fig.canvas.toDataURL();\n",
       "    // Re-enable the keyboard manager in IPython - without this line, in FF,\n",
       "    // the notebook keyboard shortcuts fail.\n",
       "    IPython.keyboard_manager.enable()\n",
       "    $(fig.parent_element).html('<img src=\"' + dataURL + '\" width=\"' + width + '\">');\n",
       "    fig.close_ws(fig, msg);\n",
       "}\n",
       "\n",
       "mpl.figure.prototype.close_ws = function(fig, msg){\n",
       "    fig.send_message('closing', msg);\n",
       "    // fig.ws.close()\n",
       "}\n",
       "\n",
       "mpl.figure.prototype.push_to_output = function(remove_interactive) {\n",
       "    // Turn the data on the canvas into data in the output cell.\n",
       "    var width = this.canvas.width/mpl.ratio\n",
       "    var dataURL = this.canvas.toDataURL();\n",
       "    this.cell_info[1]['text/html'] = '<img src=\"' + dataURL + '\" width=\"' + width + '\">';\n",
       "}\n",
       "\n",
       "mpl.figure.prototype.updated_canvas_event = function() {\n",
       "    // Tell IPython that the notebook contents must change.\n",
       "    IPython.notebook.set_dirty(true);\n",
       "    this.send_message(\"ack\", {});\n",
       "    var fig = this;\n",
       "    // Wait a second, then push the new image to the DOM so\n",
       "    // that it is saved nicely (might be nice to debounce this).\n",
       "    setTimeout(function () { fig.push_to_output() }, 1000);\n",
       "}\n",
       "\n",
       "mpl.figure.prototype._init_toolbar = function() {\n",
       "    var fig = this;\n",
       "\n",
       "    var nav_element = $('<div/>')\n",
       "    nav_element.attr('style', 'width: 100%');\n",
       "    this.root.append(nav_element);\n",
       "\n",
       "    // Define a callback function for later on.\n",
       "    function toolbar_event(event) {\n",
       "        return fig.toolbar_button_onclick(event['data']);\n",
       "    }\n",
       "    function toolbar_mouse_event(event) {\n",
       "        return fig.toolbar_button_onmouseover(event['data']);\n",
       "    }\n",
       "\n",
       "    for(var toolbar_ind in mpl.toolbar_items){\n",
       "        var name = mpl.toolbar_items[toolbar_ind][0];\n",
       "        var tooltip = mpl.toolbar_items[toolbar_ind][1];\n",
       "        var image = mpl.toolbar_items[toolbar_ind][2];\n",
       "        var method_name = mpl.toolbar_items[toolbar_ind][3];\n",
       "\n",
       "        if (!name) { continue; };\n",
       "\n",
       "        var button = $('<button class=\"btn btn-default\" href=\"#\" title=\"' + name + '\"><i class=\"fa ' + image + ' fa-lg\"></i></button>');\n",
       "        button.click(method_name, toolbar_event);\n",
       "        button.mouseover(tooltip, toolbar_mouse_event);\n",
       "        nav_element.append(button);\n",
       "    }\n",
       "\n",
       "    // Add the status bar.\n",
       "    var status_bar = $('<span class=\"mpl-message\" style=\"text-align:right; float: right;\"/>');\n",
       "    nav_element.append(status_bar);\n",
       "    this.message = status_bar[0];\n",
       "\n",
       "    // Add the close button to the window.\n",
       "    var buttongrp = $('<div class=\"btn-group inline pull-right\"></div>');\n",
       "    var button = $('<button class=\"btn btn-mini btn-primary\" href=\"#\" title=\"Stop Interaction\"><i class=\"fa fa-power-off icon-remove icon-large\"></i></button>');\n",
       "    button.click(function (evt) { fig.handle_close(fig, {}); } );\n",
       "    button.mouseover('Stop Interaction', toolbar_mouse_event);\n",
       "    buttongrp.append(button);\n",
       "    var titlebar = this.root.find($('.ui-dialog-titlebar'));\n",
       "    titlebar.prepend(buttongrp);\n",
       "}\n",
       "\n",
       "mpl.figure.prototype._root_extra_style = function(el){\n",
       "    var fig = this\n",
       "    el.on(\"remove\", function(){\n",
       "\tfig.close_ws(fig, {});\n",
       "    });\n",
       "}\n",
       "\n",
       "mpl.figure.prototype._canvas_extra_style = function(el){\n",
       "    // this is important to make the div 'focusable\n",
       "    el.attr('tabindex', 0)\n",
       "    // reach out to IPython and tell the keyboard manager to turn it's self\n",
       "    // off when our div gets focus\n",
       "\n",
       "    // location in version 3\n",
       "    if (IPython.notebook.keyboard_manager) {\n",
       "        IPython.notebook.keyboard_manager.register_events(el);\n",
       "    }\n",
       "    else {\n",
       "        // location in version 2\n",
       "        IPython.keyboard_manager.register_events(el);\n",
       "    }\n",
       "\n",
       "}\n",
       "\n",
       "mpl.figure.prototype._key_event_extra = function(event, name) {\n",
       "    var manager = IPython.notebook.keyboard_manager;\n",
       "    if (!manager)\n",
       "        manager = IPython.keyboard_manager;\n",
       "\n",
       "    // Check for shift+enter\n",
       "    if (event.shiftKey && event.which == 13) {\n",
       "        this.canvas_div.blur();\n",
       "        // select the cell after this one\n",
       "        var index = IPython.notebook.find_cell_index(this.cell_info[0]);\n",
       "        IPython.notebook.select(index + 1);\n",
       "    }\n",
       "}\n",
       "\n",
       "mpl.figure.prototype.handle_save = function(fig, msg) {\n",
       "    fig.ondownload(fig, null);\n",
       "}\n",
       "\n",
       "\n",
       "mpl.find_output_cell = function(html_output) {\n",
       "    // Return the cell and output element which can be found *uniquely* in the notebook.\n",
       "    // Note - this is a bit hacky, but it is done because the \"notebook_saving.Notebook\"\n",
       "    // IPython event is triggered only after the cells have been serialised, which for\n",
       "    // our purposes (turning an active figure into a static one), is too late.\n",
       "    var cells = IPython.notebook.get_cells();\n",
       "    var ncells = cells.length;\n",
       "    for (var i=0; i<ncells; i++) {\n",
       "        var cell = cells[i];\n",
       "        if (cell.cell_type === 'code'){\n",
       "            for (var j=0; j<cell.output_area.outputs.length; j++) {\n",
       "                var data = cell.output_area.outputs[j];\n",
       "                if (data.data) {\n",
       "                    // IPython >= 3 moved mimebundle to data attribute of output\n",
       "                    data = data.data;\n",
       "                }\n",
       "                if (data['text/html'] == html_output) {\n",
       "                    return [cell, data, j];\n",
       "                }\n",
       "            }\n",
       "        }\n",
       "    }\n",
       "}\n",
       "\n",
       "// Register the function which deals with the matplotlib target/channel.\n",
       "// The kernel may be null if the page has been refreshed.\n",
       "if (IPython.notebook.kernel != null) {\n",
       "    IPython.notebook.kernel.comm_manager.register_target('matplotlib', mpl.mpl_figure_comm);\n",
       "}\n"
      ],
      "text/plain": [
       "<IPython.core.display.Javascript object>"
      ]
     },
     "metadata": {},
     "output_type": "display_data"
    },
    {
     "data": {
      "text/html": [
       "<img src=\"data:image/png;base64,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\" width=\"640\">"
      ],
      "text/plain": [
       "<IPython.core.display.HTML object>"
      ]
     },
     "metadata": {},
     "output_type": "display_data"
    }
   ],
   "source": [
    "%matplotlib notebook\n",
    "import matplotlib.pyplot as plt\n",
    "tmp.recompute_peak_positions = True\n",
    "tmp.phase_x[9]['values'] = 4.8\n",
    "tmp.update_params(tmp.phase_x)\n",
    "plt.plot(Rp.two_theta,tmp.phase_profile())\n",
    "plt.show()"
   ]
  },
  {
   "cell_type": "code",
   "execution_count": 21,
   "metadata": {},
   "outputs": [],
   "source": [
    "tmp.assemble_phase_x()"
   ]
  }
 ],
 "metadata": {
  "kernelspec": {
   "display_name": "Python 2",
   "language": "python",
   "name": "python2"
  },
  "language_info": {
   "codemirror_mode": {
    "name": "ipython",
    "version": 2
   },
   "file_extension": ".py",
   "mimetype": "text/x-python",
   "name": "python",
   "nbconvert_exporter": "python",
   "pygments_lexer": "ipython2",
   "version": "2.7.12"
  }
 },
 "nbformat": 4,
 "nbformat_minor": 2
}
