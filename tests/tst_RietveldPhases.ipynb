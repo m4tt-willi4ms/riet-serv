{
 "cells": [
  {
   "cell_type": "markdown",
   "metadata": {},
   "source": [
    "# Testing Rietveld Phases\n",
    "\n",
    "The goal of this notebook is to demonstrate the functionality of the `RietveldPhases` class, and to compile some tests which can be used to verify its proper functioning."
   ]
  },
  {
   "cell_type": "code",
   "execution_count": 1,
   "metadata": {},
   "outputs": [],
   "source": [
    "from __future__ import division\n",
    "import numpy as np\n",
    "import time\n",
    "import matplotlib.pyplot as plt\n",
    "from random import randrange\n",
    "\n",
    "import sys, os\n",
    "sys.path.append(os.path.abspath(\"..\"))\n",
    "\n",
    "from RietveldPhases import RietveldPhases\n",
    "from RietveldRefinery import RietveldRefinery\n",
    "\n",
    "from cctbx.eltbx import wavelengths"
   ]
  },
  {
   "cell_type": "markdown",
   "metadata": {},
   "source": [
    "In practice, one would want to initialize the `RietveldPhases` class by reading in some parameters from a file. However, for the purposes of testing, we have set things up to be read from an input string. To this end, we define the following input strings:"
   ]
  },
  {
   "cell_type": "code",
   "execution_count": 2,
   "metadata": {},
   "outputs": [],
   "source": [
    "global_input_string = \"\"\"\\\n",
    "Bkgd:          3\n",
    "two_theta_0       0.001      -2.0  2.0\n",
    "\"\"\"\n",
    "\n",
    "phase_input_strings = [\"\"\"\\\n",
    "U              0.0   -0.1   0.1\n",
    "V              0.0   -0.1   0.1\n",
    "W              0.0006   -0.1   0.1\n",
    "Amplitude         1 0      inf\n",
    "eta:           2\n",
    "\"\"\",\n",
    "\"\"\"\\\n",
    "U              0.2   -0.1   0.1\n",
    "V              0.3   -0.1   0.1\n",
    "W              0.0008   -0.1   0.1\n",
    "Amplitude         1 0      inf\n",
    "eta:           2\n",
    "\"\"\"]"
   ]
  },
  {
   "cell_type": "markdown",
   "metadata": {},
   "source": [
    "There are two primary ways to list profile parameters in the input file/string:\n",
    "\n",
    "* In the case where a single parameter is introduced: the label is given, along with its value and the lower, upper bounds of the range over which it can refine. \n",
    "\n",
    "* Alternatively, if a parameter will collectively represent a power series in $2\\theta$: a single integer is listed, indicating the number of parameters appearing in the power series. (For example, a quadratic polynomial would consist of 3 parameters.) In this case, the lower, upper bounds are hard-coded.\n",
    "\n",
    "We then define a list of the names of `.cif` cards for testing purposes, and read in some sample data:"
   ]
  },
  {
   "cell_type": "code",
   "execution_count": 3,
   "metadata": {},
   "outputs": [],
   "source": [
    "cifs = [\"1000032.cif\",\"1507774.cif\"]\n",
    "\n",
    "tst_two_theta = []\n",
    "tst_y = []\n",
    "\n",
    "# with open(r\"17_05_23_0014_NIST SRM 1976b.xye\") as file:\n",
    "# with open(r\"16_01_07_0010_Aspirin_HighRez.xye\") as file:\n",
    "# with open(r\"16_03_09_0015_Silver Behenate.xye\") as file:\n",
    "with open(r\"Jade-Al2O3-Sim.xye\") as file:\n",
    "   for line in file.readlines():#[4:]:\n",
    "      # two_thetatmp, ytmp, ztmp = line.split()\n",
    "      two_thetatmp, ytmp = line.split()\n",
    "      tst_two_theta.append(float(two_thetatmp))\n",
    "      tst_y.append(float(ytmp))\n",
    "\n",
    "tst_two_theta = np.array(tst_two_theta)\n",
    "tst_y = 0.01*np.array(tst_y) #: re-scale to ease the fitting of amplitudes"
   ]
  },
  {
   "cell_type": "markdown",
   "metadata": {},
   "source": [
    "In the last two lines, two numpy arrays &mdash; `tst_two_theta` and `tst_y` &mdash; are initialized, which store the test $2\\theta$ and intensity values, respectively. \n",
    "\n",
    "We next initialize some boolean variables to control the behaviour of this notebook:"
   ]
  },
  {
   "cell_type": "code",
   "execution_count": 4,
   "metadata": {},
   "outputs": [],
   "source": [
    "is_Sim_data = True #: Should be False unless the simulated \n",
    "   #: data from Jade-AL2O3-Sim.xye is used\n",
    "display_plots = True #: Use to see sample plots"
   ]
  },
  {
   "cell_type": "markdown",
   "metadata": {},
   "source": [
    "From here, we can define two instances of `RietveldPhases` (one for each `.cif` file). However, we first require the minimum, maximum d-spacings needed (as dictated by the range of $2\\theta$ values we just read in), as well as the maximum profile intensity (stored here as `tst_y_max`):"
   ]
  },
  {
   "cell_type": "code",
   "execution_count": 5,
   "metadata": {},
   "outputs": [],
   "source": [
    "CU_wavelength = wavelengths.characteristic(\"CU\").as_angstrom()\n",
    "d_min = CU_wavelength/2/np.sin(np.pi/360*tst_two_theta[-1])\n",
    "d_max = CU_wavelength/2/np.sin(np.pi/360*tst_two_theta[0])\n",
    "# print \"two_theta_max: \" + str(tst_two_theta[-1])\n",
    "# print \"d-min: \"+ str(d_min)\n",
    "tst_y_max = np.amax(tst_y)/len(cifs)\n",
    "\n",
    "RietveldPhases.global_params_from_string(global_input_string)\n",
    "\n",
    "Rt = []\n",
    "for cif,input_string in zip(cifs,phase_input_strings):\n",
    "   Rt.append(RietveldPhases(cif,input_string,d_min,d_max, \n",
    "      tst_y_max, delta_theta = 2.0,Intensity_Cutoff = 0.005))"
   ]
  },
  {
   "cell_type": "markdown",
   "metadata": {},
   "source": [
    "To verify that the input strings have been properly processed, we can perform some tests. As an example, consider the first of these:"
   ]
  },
  {
   "cell_type": "code",
   "execution_count": 6,
   "metadata": {},
   "outputs": [],
   "source": [
    "assert np.isclose(RietveldPhases.x['values'][Rt[0].U_index], 0.0)"
   ]
  },
  {
   "cell_type": "markdown",
   "metadata": {},
   "source": [
    "This statement checks to confirm that the value entered in the first input is indeed equal to 0.0 (i.e. the initial value read in for the first phase's Caglioti `U` parameter).\n",
    "\n",
    "From the above, it should be clear that there exists a global parameter, `x` which stores all of the refinement parameters. The parameter `x` is a numpy array, defined using a custom d-type."
   ]
  },
  {
   "cell_type": "code",
   "execution_count": 7,
   "metadata": {},
   "outputs": [],
   "source": [
    "#Testing Read-in from input_string\n",
    "\n",
    "assert RietveldPhases.x['labels'][Rt[0].U_index] == 'U'\n",
    "assert np.isclose(Rt[1].x['values'][Rt[1].U_index], 0.2)\n",
    "assert RietveldPhases.x['labels'][Rt[1].U_index] == 'U'\n",
    "assert np.isclose(Rt[0].x['values'][Rt[0].V_index], 0.0)\n",
    "assert RietveldPhases.x['labels'][Rt[0].V_index] == 'V'\n",
    "assert np.isclose(Rt[0].x['values'][Rt[0].W_index],  0.0006)\n",
    "# assert np.isclose(Rt[0].x['values'][Rt[0].Amplitude_index],  1)\n",
    "assert np.isclose(RietveldPhases.x['values'] \\\n",
    "   [RietveldPhases.two_theta_0_index] , np.array([0.001]))\n",
    "assert len(RietveldPhases.x['values'] \\\n",
    "   [np.char.startswith(RietveldPhases.x['labels'],\"Bkgd\")]) == 3\n",
    "assert np.all(np.isclose(RietveldPhases.x['values'] \\\n",
    "   [np.char.startswith(RietveldPhases.x['labels'],\"Bkgd\")], \\\n",
    "   np.array([0.,0.,0.])))"
   ]
  },
  {
   "cell_type": "markdown",
   "metadata": {},
   "source": [
    "As might be gleaned from the above,k"
   ]
  },
  {
   "cell_type": "code",
   "execution_count": 8,
   "metadata": {},
   "outputs": [],
   "source": [
    "   # Testing iotbx output from .cif card\n",
    "   np.set_printoptions(threshold=None)\n",
    "   assert str(Rt[0].unit_cell.parameters()) == \\\n",
    "   \"\"\"(4.7605, 4.7605, 12.995599999999998, 90.0, 90.0, 120.00000000000001)\"\"\"\n",
    "   assert str(Rt[1].unit_cell.parameters()) == \\\n",
    "   \"\"\"(4.1769, 4.7218, 58.3385, 89.44, 89.634, 75.854)\"\"\""
   ]
  },
  {
   "cell_type": "code",
   "execution_count": null,
   "metadata": {},
   "outputs": [],
   "source": []
  },
  {
   "cell_type": "code",
   "execution_count": null,
   "metadata": {},
   "outputs": [],
   "source": []
  },
  {
   "cell_type": "code",
   "execution_count": null,
   "metadata": {},
   "outputs": [],
   "source": []
  },
  {
   "cell_type": "code",
   "execution_count": null,
   "metadata": {},
   "outputs": [],
   "source": []
  },
  {
   "cell_type": "code",
   "execution_count": null,
   "metadata": {},
   "outputs": [],
   "source": []
  },
  {
   "cell_type": "code",
   "execution_count": null,
   "metadata": {},
   "outputs": [],
   "source": []
  },
  {
   "cell_type": "code",
   "execution_count": null,
   "metadata": {},
   "outputs": [],
   "source": []
  },
  {
   "cell_type": "markdown",
   "metadata": {},
   "source": [
    "In the above, `phase_input_string` contains a list of strings, each containing the parameters needed to compute each phase's diffraction profile. `U`, `V`, and `W` are the Caglioti parameters, `Amplitude` is an overall rescaling, and `eta` is the Pseudo-Voigt weighting parameter:\n",
    "$$PV(2\\theta) = \\frac{\\eta}{1+\\overline{\\Delta\\theta}^2}\n",
    "         +\\left(1-\\eta\\right)2^{-\\overline{\\Delta\\theta}^2}\\,, \\quad{\\rm where}\n",
    "         \\quad\n",
    "         \\overline{\\Delta\\theta}^2 \n",
    "         := \\frac{(2\\theta-2\\theta_0-2\\theta_{\\rm peak})^2}{\\omega^2}$$"
   ]
  },
  {
   "cell_type": "code",
   "execution_count": null,
   "metadata": {},
   "outputs": [],
   "source": []
  },
  {
   "cell_type": "code",
   "execution_count": null,
   "metadata": {},
   "outputs": [],
   "source": []
  },
  {
   "cell_type": "code",
   "execution_count": 9,
   "metadata": {},
   "outputs": [
    {
     "ename": "IndentationError",
     "evalue": "unexpected indent (<ipython-input-9-8d176091ecfa>, line 4)",
     "output_type": "error",
     "traceback": [
      "\u001b[1;36m  File \u001b[1;32m\"<ipython-input-9-8d176091ecfa>\"\u001b[1;36m, line \u001b[1;32m4\u001b[0m\n\u001b[1;33m    assert np.all(np.isclose(Rt[0].d_spacings[0:30], np.array(\u001b[0m\n\u001b[1;37m    ^\u001b[0m\n\u001b[1;31mIndentationError\u001b[0m\u001b[1;31m:\u001b[0m unexpected indent\n"
     ]
    }
   ],
   "source": [
    "\n",
    "\n",
    "   #Testing d-spacing outputs\n",
    "   assert np.all(np.isclose(Rt[0].d_spacings[0:30], np.array(\n",
    "      [  3.48114434e+00,   2.55177292e+00,   2.38025000e+00,\n",
    "          2.08607570e+00,   1.96485460e+00,   1.74057217e+00,\n",
    "          1.60196736e+00,   1.54715716e+00,   1.51527741e+00,\n",
    "          1.51135808e+00,   1.40499663e+00,   1.37423798e+00,\n",
    "          1.33645880e+00,   1.27588646e+00,   1.23944057e+00,\n",
    "          1.23455034e+00,   1.19354167e+00,   1.19012500e+00,\n",
    "          1.16038145e+00,   1.16038145e+00,   1.14760201e+00,\n",
    "          1.13903464e+00,   1.12613194e+00,   1.12452033e+00,\n",
    "          1.09932894e+00])))\n",
    "   assert np.all(np.isclose(Rt[1].d_spacings[0:30], np.array(\n",
    "      [ 14.58380434,  11.66704347,   9.72253623,   8.33360248,\n",
    "         7.29190217,   6.48169082,   5.83352174,   5.30320158,\n",
    "         4.86126811,   4.57845246,   4.56140325,   4.5289481 ,\n",
    "         4.51721072,   4.48732441,   4.4650281 ,   4.35771092,\n",
    "         4.27435487,   4.24980397,   4.16680124,   4.1557422 ,\n",
    "         4.02715497,   4.00946117,   3.99846875,   3.96837552,\n",
    "         3.90666115,   3.89836103,   3.89236416,   3.88901449,\n",
    "         3.83110776,   3.75460982])))\n",
    "\n",
    "   #Testing Relative Intensity Outputs\n",
    "   assert np.all(np.isclose(Rt[0].relative_intensities[0:30], np.array(\n",
    "      [ 0.19906132,  0.61069362,  0.29855677,  1.18211397,  0.01740687,\n",
    "        0.86296333,  2.11656703,  0.05664854,  0.08304719,  0.18443051,\n",
    "        1.14926644,  1.85168419,  0.03841942,  0.0587068 ,  0.69865033,\n",
    "        0.35418387,  0.03049309,  0.29644002,  0.02099137,  0.02108226,\n",
    "        0.24097501,  0.01391577,  0.18603062,  0.14235153,  0.40296412])))\n",
    "   # print repr(Rt[1].relative_intensities[0:30])\n",
    "   assert np.all(np.isclose(Rt[1].relative_intensities[0:30], np.array(\n",
    "      [ 0.00991668,  0.01230013,  0.00716603,  0.00855396,  0.00426061,\n",
    "        0.00530974,  0.00224645,  0.00295588,  0.00115554,  0.02576297,\n",
    "        0.00280861,  0.00032264,  0.02274331,  0.00189005,  0.00051361,\n",
    "        0.00231178,  0.00158587,  0.00066494,  0.00048172,  0.00081688,\n",
    "        0.00166894,  0.00044647,  0.00100012,  0.00176042,  0.00089117,\n",
    "        0.00087474,  0.00128861,  0.0011674 ,  0.0561287 ,  0.00185326])))\n",
    "\n",
    "   #Testing test-data read-in\n",
    "   if is_Sim_data:\n",
    "      np.set_printoptions(threshold=None)\n",
    "      assert str(tst_two_theta) == \\\n",
    "      \"\"\"[  5.     5.02   5.04 ...,  89.96  89.98  90.  ]\"\"\"\n",
    "      assert str(tst_y) == \\\n",
    "      \"\"\"[ 0.01  0.01  0.01 ...,  0.02  0.02  0.02]\"\"\"\n",
    "\n",
    "   # Testing Background_Polynomial\n",
    "   RietveldPhases.x['values'] \\\n",
    "      [np.char.startswith(RietveldPhases.x['labels'],\"Bkgd\")]  \\\n",
    "      = np.array([1.0,2.0,3.0])\n",
    "   tst_bkgd_two_theta = np.array([0,1,2.3,100.5])\n",
    "   assert np.all(np.isclose(RietveldPhases.Background_Polynomial( \\\n",
    "      tst_bkgd_two_theta) , np.array([  1,6,21.47,   3.05027500e+04])))\n",
    "   #Revert back to flat background\n",
    "   RietveldPhases.x['values'] \\\n",
    "      [np.char.startswith(RietveldPhases.x['labels'],\"Bkgd\")]  \\\n",
    "      = np.array([0.0,0.0,0.0])\n",
    "\n",
    "   # Testing Eta_Polynomial\n",
    "   Rt0_eta_mask = np.isin(np.array(range(0,len(RietveldPhases.x))), \\\n",
    "      np.array(range(Rt[0].eta_0_index,Rt[0].eta_0_index+Rt[0].eta_rank)))\n",
    "   RietveldPhases.x['values'][Rt0_eta_mask] = np.array([0.5,0.005])\n",
    "   tst_eta_two_theta = np.array([0,1,2.3,100.5])\n",
    "   assert np.all(np.isclose(Rt[0].eta_Polynomial( \\\n",
    "      tst_eta_two_theta) , np.array([ 0.5, 0.505, 0.5115, 1.00249999])))\n",
    "   #Revert back to unbiased eta\n",
    "   RietveldPhases.x['values'][Rt0_eta_mask] = np.array([0.5,0.00])\n",
    "\n",
    "   # Testing LP_Intensity_Scaling\n",
    "   assert np.isclose(Rt[0].LP_Intensity_Scaling(20.0),31.7054214503)\n",
    "\n",
    "   # Testing two_theta outputs\n",
    "   assert np.all(np.isclose(Rt[0].two_theta_peaks[0:10], np.array(\n",
    "      [[ 25.56751716],\n",
    "       [ 35.13879293],\n",
    "       [ 37.76313851],\n",
    "       [ 43.33853666],\n",
    "       [ 46.16161879],\n",
    "       [ 52.53263976],\n",
    "       [ 57.47974186],\n",
    "       [ 59.71809269],\n",
    "       [ 61.10698338],\n",
    "       [ 61.28247987]])))\n",
    "\n",
    "   #Testing Weighted Intensity outputs\n",
    "   assert np.all(np.isclose(Rt[0].weighted_intensities[0:10], np.array(\n",
    "      [[ 0.19906132],\n",
    "       [ 0.61069362],\n",
    "       [ 0.29855677],\n",
    "       [ 1.18211397],\n",
    "       [ 0.01740687],\n",
    "       [ 0.86296333],\n",
    "       [ 2.11656703],\n",
    "       [ 0.05664854],\n",
    "       [ 0.08304719],\n",
    "       [ 0.18443051]])))\n",
    "\n",
    "   #Testing PseudoVoigtProfile\n",
    "   if display_plots:\n",
    "      for RV in Rt:\n",
    "         #Select a random peak:\n",
    "         if len(RV.two_theta_peaks) != 0:\n",
    "            rnd_index = randrange(0,len(RV.two_theta_peaks),1)\n",
    "            tst_two_theta_peak = RV.two_theta_peaks[rnd_index]\n",
    "            tst_weighted_intensity = RV.weighted_intensities[rnd_index]\n",
    "            delta_theta = 5\n",
    "            # mask = np.ones(len(tst_two_theta),dtype=bool)\n",
    "            mask = np.abs(tst_two_theta-tst_two_theta_peak) < delta_theta\n",
    "            # RV.showPVProfilePlot(\"Test\",rnd_index,tst_two_theta[mask], \\\n",
    "               # tst_y[mask], autohide=False)\n",
    "\n",
    "   #Testing Refinery\n",
    "   RR = RietveldRefinery(Rt,tst_two_theta,tst_y, \\\n",
    "      input_string=minimizer_input_string)\n",
    "   RR.show_multiplot(\"Before: \", \\\n",
    "      two_theta_roi=25.5, \\\n",
    "      delta_theta=1, \\\n",
    "      autohide=False)\n",
    "   RR.display(RR.minimize_Amplitude_Offset)\n",
    "   RR.display(RR.minimize_Amplitude_Offset_W)\n",
    "   RR.display(RR.minimize_All)\n",
    "   # if display_plots:\n",
    "   #    RR.show_multiplot(\"Sum of Phases\", \\\n",
    "   #       two_theta_roi=30, \\\n",
    "   #       delta_theta=10, \\\n",
    "   #       autohide=False)\n",
    "   # RR.minimize()\n",
    "   # if display_plots:\n",
    "   #    print RietveldPhases.x['labels']\n",
    "   #    print RietveldPhases.x['values']\n",
    "   #    RR.show_multiplot(\"Sum of Phases\", \\\n",
    "   #       two_theta_roi=30, \\\n",
    "   #       delta_theta=10, \\\n",
    "   #       autohide=False)\n",
    "\n",
    "\n",
    "def run():\n",
    "   exercise_RietveldPhases()\n",
    "   print \"OK\"\n",
    "\n",
    "if (__name__ == \"__main__\"):\n",
    "   run()"
   ]
  },
  {
   "cell_type": "code",
   "execution_count": null,
   "metadata": {},
   "outputs": [],
   "source": []
  },
  {
   "cell_type": "code",
   "execution_count": null,
   "metadata": {},
   "outputs": [],
   "source": []
  },
  {
   "cell_type": "code",
   "execution_count": null,
   "metadata": {},
   "outputs": [],
   "source": []
  }
 ],
 "metadata": {
  "kernelspec": {
   "display_name": "Python 2",
   "language": "python",
   "name": "python2"
  },
  "language_info": {
   "codemirror_mode": {
    "name": "ipython",
    "version": 2
   },
   "file_extension": ".py",
   "mimetype": "text/x-python",
   "name": "python",
   "nbconvert_exporter": "python",
   "pygments_lexer": "ipython2",
   "version": "2.7.12"
  }
 },
 "nbformat": 4,
 "nbformat_minor": 2
}
