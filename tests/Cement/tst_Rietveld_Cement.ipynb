{
 "cells": [
  {
   "cell_type": "markdown",
   "metadata": {},
   "source": [
    "# Rietveld Playground: Cement\n",
    "\n",
    "This notebook calls the Rietveld refinement cement test, which runs a set of minimization routines to fit a profile consisting of the following eight phases:"
   ]
  },
  {
   "cell_type": "code",
   "execution_count": 1,
   "metadata": {},
   "outputs": [],
   "source": [
    "# %load -r 139:149 tst_Rietveld_Cement.py\n",
    "cifs = [\n",
    "   \"1540705-Alite.cif\", \n",
    "   \"9012789-Belite.cif\", \n",
    "   \"1200009-Ferrite.cif\", \n",
    "   \"1000039-AluminateCubic.cif\", \n",
    "   \"9014308-AluminateOrtho.cif\", \n",
    "   \"9007569-Arcanite.cif\",\n",
    "   \"1011094-FreeLime.cif\", \n",
    "   \"1000053-Periclase.cif\", \n",
    "   ]"
   ]
  },
  {
   "cell_type": "markdown",
   "metadata": {},
   "source": [
    "The minimization routines are applied in the following order:"
   ]
  },
  {
   "cell_type": "code",
   "execution_count": 2,
   "metadata": {},
   "outputs": [
    {
     "ename": "IndentationError",
     "evalue": "unexpected indent (<ipython-input-2-23584f7412be>, line 5)",
     "output_type": "error",
     "traceback": [
      "\u001b[1;36m  File \u001b[1;32m\"<ipython-input-2-23584f7412be>\"\u001b[1;36m, line \u001b[1;32m5\u001b[0m\n\u001b[1;33m    RR.display(RR.minimize_Bkgd)\u001b[0m\n\u001b[1;37m    ^\u001b[0m\n\u001b[1;31mIndentationError\u001b[0m\u001b[1;31m:\u001b[0m unexpected indent\n"
     ]
    }
   ],
   "source": [
    "# %load -r 185:203 tst_Rietveld_Cement.py\n",
    "RR = RietveldRefinery(Rt,minimizer_input_string,\n",
    "   store_intermediate_state=True)\n",
    "\n",
    "   RR.display(RR.minimize_Bkgd)\n",
    "   # RR.display(RR.minimize_Amplitude)\n",
    "   # RR.display(RR.minimize_Amplitude)\n",
    "   RR.display(RR.minimize_Amplitude_Offset)\n",
    "   # RR.display(RR.minimize_First_n_Phases)\n",
    "   # RR.display(RR.minimize_First_n_Phases,n=3)\n",
    "   # RR.display(RR.minimize_Amplitude_Offset_W)\n",
    "   # RR.display(RR.minimize_Amplitude_Bkgd_Offset_W)\n",
    "   # RR.display(RR.minimize_Amplitude_Bkgd_Offset)\n",
    "   # RR.display(RR.minimize_only_Alite)\n",
    "   # RR.display(RR.minimize_All)\n",
    "   # RR.display(RR.minimize_All)\n",
    "   # RR.display(RR.minimize_All)\n",
    "   # RR.display(RR.minimize_All)\n",
    "   # RR.display(RR.minimize_All)"
   ]
  },
  {
   "cell_type": "markdown",
   "metadata": {},
   "source": [
    "Before running each round of refinement, a list of the parameters to be refined is printed. During refinement, a period \\(`.`\\) is printed after each iteration. Finally once complete, a plot of the resulting fit is displayed, along with the updated parameters, the time taken to refine, and some fitting metrics."
   ]
  },
  {
   "cell_type": "code",
   "execution_count": 1,
   "metadata": {
    "scrolled": false
   },
   "outputs": [
    {
     "name": "stdout",
     "output_type": "stream",
     "text": [
      "TIME TO READ IN: 0.128999948502 seconds\n",
      "(590, 1)\n"
     ]
    },
    {
     "ename": "TypeError",
     "evalue": "unsupported operand type(s) for +=: 'int' and 'tuple'",
     "output_type": "error",
     "traceback": [
      "\u001b[1;31m---------------------------------------------------------------------------\u001b[0m",
      "\u001b[1;31mTypeError\u001b[0m                                 Traceback (most recent call last)",
      "\u001b[1;32mC:\\cctbx\\CCTBX_Projects\\Rietveld_Refinement\\tests\\Cement\\tst_Rietveld_Cement.py\u001b[0m in \u001b[0;36m<module>\u001b[1;34m()\u001b[0m\n\u001b[0;32m    211\u001b[0m \u001b[1;33m\u001b[0m\u001b[0m\n\u001b[0;32m    212\u001b[0m \u001b[1;32mif\u001b[0m \u001b[1;33m(\u001b[0m\u001b[0m__name__\u001b[0m \u001b[1;33m==\u001b[0m \u001b[1;34m\"__main__\"\u001b[0m\u001b[1;33m)\u001b[0m\u001b[1;33m:\u001b[0m\u001b[1;33m\u001b[0m\u001b[0m\n\u001b[1;32m--> 213\u001b[1;33m    \u001b[0mrun\u001b[0m\u001b[1;33m(\u001b[0m\u001b[1;33m)\u001b[0m\u001b[1;33m\u001b[0m\u001b[0m\n\u001b[0m",
      "\u001b[1;32mC:\\cctbx\\CCTBX_Projects\\Rietveld_Refinement\\tests\\Cement\\tst_Rietveld_Cement.py\u001b[0m in \u001b[0;36mrun\u001b[1;34m()\u001b[0m\n\u001b[0;32m    207\u001b[0m \u001b[1;33m\u001b[0m\u001b[0m\n\u001b[0;32m    208\u001b[0m \u001b[1;32mdef\u001b[0m \u001b[0mrun\u001b[0m\u001b[1;33m(\u001b[0m\u001b[1;33m)\u001b[0m\u001b[1;33m:\u001b[0m\u001b[1;33m\u001b[0m\u001b[0m\n\u001b[1;32m--> 209\u001b[1;33m    \u001b[0mexercise_Rietveld_Refinery_Cement\u001b[0m\u001b[1;33m(\u001b[0m\u001b[1;33m)\u001b[0m\u001b[1;33m\u001b[0m\u001b[0m\n\u001b[0m\u001b[0;32m    210\u001b[0m    \u001b[1;32mprint\u001b[0m \u001b[1;34m\"OK\"\u001b[0m\u001b[1;33m\u001b[0m\u001b[0m\n\u001b[0;32m    211\u001b[0m \u001b[1;33m\u001b[0m\u001b[0m\n",
      "\u001b[1;32mC:\\cctbx\\CCTBX_Projects\\Rietveld_Refinement\\tests\\Cement\\tst_Rietveld_Cement.py\u001b[0m in \u001b[0;36mexercise_Rietveld_Refinery_Cement\u001b[1;34m()\u001b[0m\n\u001b[0;32m    172\u001b[0m    \u001b[1;32mfor\u001b[0m \u001b[0mi\u001b[0m\u001b[1;33m,\u001b[0m\u001b[0mRp\u001b[0m \u001b[1;32min\u001b[0m \u001b[0menumerate\u001b[0m\u001b[1;33m(\u001b[0m\u001b[0mRt\u001b[0m\u001b[1;33m)\u001b[0m\u001b[1;33m:\u001b[0m\u001b[1;33m\u001b[0m\u001b[0m\n\u001b[0;32m    173\u001b[0m       \u001b[1;32mprint\u001b[0m \u001b[0mRp\u001b[0m\u001b[1;33m.\u001b[0m\u001b[0mtwo_theta_peaks\u001b[0m\u001b[1;33m.\u001b[0m\u001b[0mshape\u001b[0m\u001b[1;33m\u001b[0m\u001b[0m\n\u001b[1;32m--> 174\u001b[1;33m       \u001b[0mnumpeaks\u001b[0m \u001b[1;33m+=\u001b[0m \u001b[0mRp\u001b[0m\u001b[1;33m.\u001b[0m\u001b[0mtwo_theta_peaks\u001b[0m\u001b[1;33m.\u001b[0m\u001b[0mshape\u001b[0m\u001b[1;33m\u001b[0m\u001b[0m\n\u001b[0m\u001b[0;32m    175\u001b[0m \u001b[1;33m\u001b[0m\u001b[0m\n\u001b[0;32m    176\u001b[0m    \u001b[1;31m# First fit the background\u001b[0m\u001b[1;33m\u001b[0m\u001b[1;33m\u001b[0m\u001b[0m\n",
      "\u001b[1;31mTypeError\u001b[0m: unsupported operand type(s) for +=: 'int' and 'tuple'"
     ]
    }
   ],
   "source": [
    "%matplotlib notebook\n",
    "# %pylab inline\n",
    "# pylab.rcParams['figure.figsize'] = (8,6)\n",
    "%run tst_Rietveld_Cement.py"
   ]
  }
 ],
 "metadata": {
  "kernelspec": {
   "display_name": "Python 2",
   "language": "python",
   "name": "python2"
  },
  "language_info": {
   "codemirror_mode": {
    "name": "ipython",
    "version": 2
   },
   "file_extension": ".py",
   "mimetype": "text/x-python",
   "name": "python",
   "nbconvert_exporter": "python",
   "pygments_lexer": "ipython2",
   "version": "2.7.12"
  }
 },
 "nbformat": 4,
 "nbformat_minor": 2
}
