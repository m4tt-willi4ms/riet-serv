{
 "cells": [
  {
   "cell_type": "markdown",
   "metadata": {},
   "source": [
    "# Rietveld Playground: Cement\n",
    "\n",
    "This notebook calls the Rietveld refinement cement test, which runs a set of minimization routines to fit a profile consisting of the following eight phases:"
   ]
  },
  {
   "cell_type": "code",
   "execution_count": 1,
   "metadata": {},
   "outputs": [],
   "source": [
    "# %load -r 139:149 tst_Rietveld_Cement.py\n",
    "cifs = [\n",
    "   \"1540705-Alite.cif\", \n",
    "   \"9012789-Belite.cif\", \n",
    "   \"1200009-Ferrite.cif\", \n",
    "   \"1000039-AluminateCubic.cif\", \n",
    "   \"9014308-AluminateOrtho.cif\", \n",
    "   \"9007569-Arcanite.cif\",\n",
    "   \"1011094-FreeLime.cif\", \n",
    "   \"1000053-Periclase.cif\", \n",
    "   ]"
   ]
  },
  {
   "cell_type": "markdown",
   "metadata": {},
   "source": [
    "The minimization routines are applied in the following order:\n",
    "\n",
    "* RR.minimize_Bkgd\n",
    "\n",
    "\n",
    "* RR.minimize_Amplitude_Offset\n",
    "* RR.minimize_unit_cell\n",
    "* RR.minimize_Amplitude_Bkgd_Offset_W\n",
    "\n",
    "\n",
    "* RR.minimize_All\n",
    "\n",
    "Before running each round of refinement, a list of the parameters to be refined is printed. During refinement, a period \\(`.`\\) is printed after each iteration. Finally once complete, a plot of the resulting fit is displayed, along with the updated parameters, the time taken to refine, and some fitting metrics."
   ]
  },
  {
   "cell_type": "code",
   "execution_count": 2,
   "metadata": {
    "scrolled": false
   },
   "outputs": [
    {
     "name": "stdout",
     "output_type": "stream",
     "text": [
      "C:\\cctbx\\CCTBX_Projects\\Rietveld_Refinement\n"
     ]
    },
    {
     "ename": "SyntaxError",
     "evalue": "non-keyword arg after keyword arg (tst_Rietveld_Cement.py, line 75)",
     "output_type": "error",
     "traceback": [
      "\u001b[1;36m  File \u001b[1;32m\"C:\\cctbx\\CCTBX_Projects\\Rietveld_Refinement\\tests\\Cement\\tst_Rietveld_Cement.py\"\u001b[1;36m, line \u001b[1;32m75\u001b[0m\n\u001b[1;33m    fine_minimizer_input_string,store_intermediate_state=True,show_plots=True)\u001b[0m\n\u001b[1;31mSyntaxError\u001b[0m\u001b[1;31m:\u001b[0m non-keyword arg after keyword arg\n"
     ]
    }
   ],
   "source": [
    "%matplotlib notebook\n",
    "%cd ../..\n",
    "# %pylab inline\n",
    "# pylab.rcParams['figure.figsize'] = (8,6)\n",
    "%run tests/Cement/tst_Rietveld_Cement"
   ]
  }
 ],
 "metadata": {
  "kernelspec": {
   "display_name": "Python 2",
   "language": "python",
   "name": "python2"
  },
  "language_info": {
   "codemirror_mode": {
    "name": "ipython",
    "version": 2
   },
   "file_extension": ".py",
   "mimetype": "text/x-python",
   "name": "python",
   "nbconvert_exporter": "python",
   "pygments_lexer": "ipython2",
   "version": "2.7.12"
  }
 },
 "nbformat": 4,
 "nbformat_minor": 2
}
