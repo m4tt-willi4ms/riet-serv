{
 "cells": [
  {
   "cell_type": "markdown",
   "metadata": {},
   "source": [
    "# Rietveld Playground: Cement\n",
    "\n",
    "This notebook calls the Rietveld refinement cement test, which runs a set of minimization routines to fit a profile consisting of the following eight phases:"
   ]
  },
  {
   "cell_type": "code",
   "execution_count": null,
   "metadata": {},
   "outputs": [],
   "source": [
    "# %load -r 139:149 tst_Rietveld_Cement.py\n",
    "cifs = [\n",
    "   \"1540705-Alite.cif\", \n",
    "   \"9012789-Belite.cif\", \n",
    "   \"1200009-Ferrite.cif\", \n",
    "   \"1000039-AluminateCubic.cif\", \n",
    "   \"9014308-AluminateOrtho.cif\", \n",
    "   \"9007569-Arcanite.cif\",\n",
    "   \"1011094-FreeLime.cif\", \n",
    "   \"1000053-Periclase.cif\", \n",
    "   ]"
   ]
  },
  {
   "cell_type": "markdown",
   "metadata": {},
   "source": [
    "The minimization routines are applied in the following order:"
   ]
  },
  {
   "cell_type": "code",
   "execution_count": null,
   "metadata": {},
   "outputs": [],
   "source": [
    "# %load -r 185:203 tst_Rietveld_Cement.py\n",
    "RR = RietveldRefinery(Rt,minimizer_input_string,\n",
    "   store_intermediate_state=True)\n",
    "\n",
    "   RR.display(RR.minimize_Bkgd)\n",
    "   # RR.display(RR.minimize_Amplitude)\n",
    "   # RR.display(RR.minimize_Amplitude)\n",
    "   RR.display(RR.minimize_Amplitude_Offset)\n",
    "   # RR.display(RR.minimize_First_n_Phases)\n",
    "   # RR.display(RR.minimize_First_n_Phases,n=3)\n",
    "   # RR.display(RR.minimize_Amplitude_Offset_W)\n",
    "   # RR.display(RR.minimize_Amplitude_Bkgd_Offset_W)\n",
    "   # RR.display(RR.minimize_Amplitude_Bkgd_Offset)\n",
    "   # RR.display(RR.minimize_only_Alite)\n",
    "   # RR.display(RR.minimize_All)\n",
    "   # RR.display(RR.minimize_All)\n",
    "   # RR.display(RR.minimize_All)\n",
    "   # RR.display(RR.minimize_All)\n",
    "   # RR.display(RR.minimize_All)"
   ]
  },
  {
   "cell_type": "markdown",
   "metadata": {},
   "source": [
    "Before running each round of refinement, a list of the parameters to be refined is printed. During refinement, a period \\(`.`\\) is printed after each iteration. Finally once complete, a plot of the resulting fit is displayed, along with the updated parameters, the time taken to refine, and some fitting metrics."
   ]
  },
  {
   "cell_type": "code",
   "execution_count": 3,
   "metadata": {
    "scrolled": false
   },
   "outputs": [
    {
     "name": "stdout",
     "output_type": "stream",
     "text": [
      "Bkgd_0 = 0.0 (-inf, inf)\n",
      "Bkgd_1 = 0.0 (-inf, inf)\n",
      "Bkgd_2 = 0.0 (-inf, inf)\n",
      "....\n",
      "\n",
      "After minimize_Bkgd:\n",
      "Bkgd_0 = 0.12054665021 (-inf, inf)\n",
      "Bkgd_1 = 2.3985810475 (-inf, inf)\n",
      "Bkgd_2 = -0.0360895499987 (-inf, inf)\n",
      "\n",
      "Time taken to run minimize_Bkgd: 3.275 seconds\n",
      "R_wp: 0.339855968728\n",
      "R_e: 0.158247201877\n",
      "Goodness-of-Fit: 2.1476270335\n",
      "\n",
      "\n",
      "Phase 1: 24.1031574971 %\n",
      "Phase 2: 17.8235643327 %\n",
      "Phase 3: 9.32382529191 %\n",
      "Phase 4: 7.97701629516 %\n",
      "Phase 5: 11.7699266217 %\n",
      "Phase 6: 18.3552088127 %\n",
      "Phase 7: 4.44795910165 %\n",
      "Phase 8: 6.19934204704 %\n",
      "\n",
      "\n",
      "two_theta_0 = 0.0 (-0.5, 0.5)\n",
      "Amplitude = 2.42064752614 (0.0, inf)\n",
      "Amplitude = 1.78999647304 (0.0, inf)\n",
      "Amplitude = 0.936379170642 (0.0, inf)\n",
      "Amplitude = 0.801120963639 (0.0, inf)\n",
      "Amplitude = 1.18203782069 (0.0, inf)\n",
      "Amplitude = 1.84338880952 (0.0, inf)\n",
      "Amplitude = 0.446702520077 (0.0, inf)\n",
      "Amplitude = 0.622591541861 (0.0, inf)\n",
      "........\n",
      "\n",
      "\n",
      "Length of Phase_list (Before): 8\n",
      "Length of Phase_list (After): 6\n",
      "\n",
      "After minimize_Amplitude_Offset:\n",
      "two_theta_0 = 0.133211826823 (-0.5, 0.5)\n",
      "Amplitude = 10.1900567481 (0.0, inf)\n",
      "Amplitude = 1.76064504028 (0.0, inf)\n",
      "Amplitude = 0.138141572236 (0.0, inf)\n",
      "Amplitude = 0.0216656630674 (0.0, inf)\n",
      "Amplitude = 0.396610487886 (0.0, inf)\n",
      "Amplitude = 1.39698500473 (0.0, inf)\n",
      "Amplitude = 0.0 (0.0, inf)\n",
      "Amplitude = 1e-10 (0.0, inf)\n",
      "\n",
      "Time taken to run minimize_Amplitude_Offset: 6.319 seconds\n",
      "R_wp: 0.300917847359\n",
      "R_e: 0.158247201877\n",
      "Goodness-of-Fit: 1.90156820335\n",
      "\n",
      "\n",
      "Phase 1: 73.2881196058 %\n",
      "Phase 2: 12.6627719046 %\n",
      "Phase 3: 0.993530881997 %\n",
      "Phase 4: 0.155822067087 %\n",
      "Phase 5: 2.85247055945 %\n",
      "Phase 6: 10.0472849804 %\n",
      "Phase 7: 0.0 %\n",
      "Phase 8: 7.1921208505e-10 %\n",
      "\n",
      "\n",
      "OK\n"
     ]
    }
   ],
   "source": [
    "%matplotlib notebook\n",
    "# %pylab inline\n",
    "# pylab.rcParams['figure.figsize'] = (8,6)\n",
    "%run tst_Rietveld_Cement.py"
   ]
  }
 ],
 "metadata": {
  "kernelspec": {
   "display_name": "Python 2",
   "language": "python",
   "name": "python2"
  },
  "language_info": {
   "codemirror_mode": {
    "name": "ipython",
    "version": 2
   },
   "file_extension": ".py",
   "mimetype": "text/x-python",
   "name": "python",
   "nbconvert_exporter": "python",
   "pygments_lexer": "ipython2",
   "version": "2.7.12"
  }
 },
 "nbformat": 4,
 "nbformat_minor": 2
}
