{
 "cells": [
  {
   "cell_type": "code",
   "execution_count": null,
   "metadata": {},
   "outputs": [],
   "source": [
    "import src.cctbx_dep.phase_from_cif as pfc"
   ]
  },
  {
   "cell_type": "markdown",
   "metadata": {},
   "source": [
    "## Load up a phase structure\n",
    "And show scatterers"
   ]
  },
  {
   "cell_type": "code",
   "execution_count": null,
   "metadata": {},
   "outputs": [],
   "source": [
    "phase_settings = {\n",
    "   'cif_path': '.\\ecm-occ\\Cif Cards\\Al-Si order-disorder\\Microcline.cif'\n",
    "}\n",
    "phase = pfc.load_cif(phase_settings)\n",
    "struct = phase['structure']\n",
    "uc = phase['unit_cell']\n",
    "print phase['unit_cell'].parameters()\n",
    "print struct.show_scatterers()\n",
    "#    scat.flags.set_grad_site(True)\n",
    "#    print scat.flags.grad_site()\n",
    "#    print dir(scat.flags)"
   ]
  },
  {
   "cell_type": "code",
   "execution_count": null,
   "metadata": {},
   "outputs": [],
   "source": [
    "print struct.non_unit_occupancy_implies_min_distance_sym_equiv_zero()"
   ]
  },
  {
   "cell_type": "markdown",
   "metadata": {},
   "source": [
    "## Occupancy sum isn't preserved in cctbx.xray..."
   ]
  },
  {
   "cell_type": "code",
   "execution_count": null,
   "metadata": {},
   "outputs": [],
   "source": [
    "mask = struct.by_index_selection([5,6])\n",
    "print mask.as_numpy_array()\n",
    "struct2 = struct.select(mask)\n",
    "struct2.show_scatterers()\n",
    "mask_Si = struct2.by_index_selection([0])\n",
    "struct2.set_occupancies(1.0, mask_Si)\n",
    "struct2.show_scatterers()"
   ]
  },
  {
   "cell_type": "markdown",
   "metadata": {},
   "source": [
    "## Does mmtbx do better?"
   ]
  },
  {
   "cell_type": "code",
   "execution_count": null,
   "metadata": {},
   "outputs": [],
   "source": [
    "pdb_string = struct.as_pdb_file()\n",
    "from iotbx.pdb import hierarchy\n",
    "pdb_in = hierarchy.input(pdb_string=pdb_string)\n",
    "import mmtbx.refinement.occupancies as mmtbx_occ\n",
    "print mmtbx_occ.extract_partial_occupancy_selections(pdb_in.hierarchy)\n",
    "import mmtbx\n",
    "# help(mmtbx.utils.experimental_data_target_and_gradients)\n",
    "# mmtbx.utils.experimental_data_target_and_gradients(struct.structure_factors(d_min=1).f_calc())"
   ]
  },
  {
   "cell_type": "code",
   "execution_count": null,
   "metadata": {},
   "outputs": [],
   "source": [
    "xray_structure = pdb_in.xray_structure_simple()\n",
    "# make up \"F-obs\" and R-free-flags\n",
    "f_obs = abs(xray_structure.structure_factors(d_min=1.5).f_calc())\n",
    "r_free_flags = f_obs.generate_r_free_flags()\n",
    "# instantiate fmodel object\n",
    "fmodel = mmtbx.f_model.manager(\n",
    " f_obs          = f_obs,\n",
    " r_free_flags   = r_free_flags,\n",
    " xray_structure = xray_structure)\n",
    "# now we can caclualte R-factors and show some statistics\n",
    "print \"r_work:\", fmodel.r_work()\n",
    "print \"r_free:\", fmodel.r_free()\n",
    "fmodel.show()"
   ]
  },
  {
   "cell_type": "code",
   "execution_count": null,
   "metadata": {},
   "outputs": [],
   "source": [
    "xrs = pdb_in.xray_structure_simple()\n",
    "xrs.scattering_type_registry(table = \"wk1995\")\n",
    "#\n",
    "# good = \"\"\"\n",
    "# CRYST1   15.000   15.000   15.000  90.00  90.00  90.00 P 212121\n",
    "# HETATM  115  O   HOH A  18       3.000   5.000   5.000  1.00 10.00           O\n",
    "# HETATM  115  O   HOH A  18       5.000   5.000   8.000  1.00 10.00           O\n",
    "# TER\n",
    "# END\n",
    "# \"\"\"\n",
    "# xb = iotbx.pdb.input(source_info=None, lines=good).xray_structure_simple()\n",
    "# xb.scattering_type_registry(table = \"wk1995\")\n",
    "# f_obs = abs(xb.structure_factors(d_min=1,\n",
    "# algorithm=\"direct\").f_calc()).set_observation_type_xray_amplitude()\n",
    "# #\n",
    "sfp = mmtbx.f_model.sf_and_grads_accuracy_master_params.extract()\n",
    "sfp.algorithm=\"direct\"\n",
    "for target_name in [\"ls_wunit_kunit\", \"ls_wunit_k1\", \"ml\"]:\n",
    "   print \"%s\"%target_name, \"-\"*50\n",
    "   fmodel = mmtbx.f_model.manager(\n",
    "     f_obs                        = f_obs,\n",
    "     xray_structure               = xrs.deep_copy_scatterers(),\n",
    "     target_name                  = target_name,\n",
    "     sf_and_grads_accuracy_params = sfp)\n",
    "   fmodel.update_all_scales()\n",
    "   alpha_beta = fmodel.alpha_beta()\n",
    "   print \"R-work: %6.4f\"%fmodel.r_work()\n",
    "   tg = mmtbx.utils.experimental_data_target_and_gradients(fmodel = fmodel,\n",
    "     alpha_beta=alpha_beta)\n",
    "   tg.show()\n",
    "   eps = 1.e-6\n",
    "   # occupancies\n",
    "   go = tg.grad_occ()\n",
    "   for i in [0,1]:\n",
    "     xrs1 = fmodel.xray_structure.deep_copy_scatterers()\n",
    "   #   xrs2 = fmodel.xray_structure.deep_copy_scatterers()\n",
    "   #   #\n",
    "     xrs1.scatterers()[i].occupancy+=+eps\n",
    "     tg.update_xray_structure(xray_structure=xrs1, alpha_beta=alpha_beta)\n",
    "     t1 = tg.target()\n",
    "     print t1"
   ]
  },
  {
   "cell_type": "code",
   "execution_count": null,
   "metadata": {},
   "outputs": [],
   "source": [
    "print dir(fmodel)"
   ]
  },
  {
   "cell_type": "code",
   "execution_count": null,
   "metadata": {},
   "outputs": [],
   "source": [
    "mmtbx.fmodels(fmodel_xray=fmodel)"
   ]
  },
  {
   "cell_type": "code",
   "execution_count": null,
   "metadata": {},
   "outputs": [],
   "source": [
    "import cctbx.array_family.flex as flex"
   ]
  },
  {
   "cell_type": "code",
   "execution_count": null,
   "metadata": {},
   "outputs": [],
   "source": [
    "print flex.bool([True, True]).size()"
   ]
  },
  {
   "cell_type": "code",
   "execution_count": null,
   "metadata": {},
   "outputs": [],
   "source": [
    "print help(struct.select([True]*len(struct)))\n",
    "# print struct[5:]\n",
    "# for ind in [5, 6]:\n",
    "#    print struct[ind]\n",
    "#    print dir(scat)\n",
    "#    print scat.show(unit_cell=uc)"
   ]
  },
  {
   "cell_type": "markdown",
   "metadata": {},
   "source": [
    "## smtbx attempt"
   ]
  },
  {
   "cell_type": "code",
   "execution_count": null,
   "metadata": {},
   "outputs": [],
   "source": [
    "from __future__ import division, absolute_import\n",
    "from libtbx import object_oriented_patterns as oop\n",
    "from scitbx.linalg import eigensystem, svd\n",
    "from scitbx import matrix\n",
    "from scitbx.lstbx import normal_eqns_solving\n",
    "from cctbx import sgtbx, crystal, xray, adptbx, uctbx\n",
    "import cctbx.sgtbx.lattice_symmetry\n",
    "from cctbx import euclidean_model_matching as emma\n",
    "from cctbx.array_family import flex\n",
    "from cctbx.development import random_structure\n",
    "from smtbx.refinement import least_squares\n",
    "from smtbx.refinement import constraints\n",
    "from smtbx.refinement.restraints import origin_fixing_restraints\n",
    "import smtbx.utils\n",
    "from libtbx.test_utils import approx_equal\n",
    "import libtbx.utils\n",
    "import math\n",
    "import sys\n",
    "import random\n",
    "import numpy as np\n",
    "\n",
    "class special_positions_test(object):\n",
    "\n",
    "  delta_site   = 0.1 # % (of unit cell c for constrained atoms)\n",
    "  delta_u_star = 0.1 # %\n",
    "\n",
    "  def __init__(self, n_runs, **kwds):\n",
    "    libtbx.adopt_optional_init_args(self, kwds)\n",
    "    self.n_runs = n_runs\n",
    "    self.crystal_symmetry = crystal.symmetry(\n",
    "      unit_cell=uctbx.unit_cell((5.1534, 5.1534, 8.6522, 90, 90, 120)),\n",
    "      space_group_symbol='Hall: P 6c')\n",
    "    self.structure = xray.structure(\n",
    "      self.crystal_symmetry.special_position_settings(),\n",
    "      flex.xray_scatterer((\n",
    "        xray.scatterer('K1',\n",
    "                        site=(0, 0, -0.00195),\n",
    "                        u=self.u_cif_as_u_star((0.02427, 0.02427, 0.02379,\n",
    "                                                0.01214, 0.00000, 0.00000))),\n",
    "        xray.scatterer('S1',\n",
    "                       site=(1/3, 2/3, 0.204215),\n",
    "                       u=self.u_cif_as_u_star((0.01423, 0.01423, 0.01496,\n",
    "                                               0.00712, 0.00000, 0.00000 ))),\n",
    "        xray.scatterer('Li1',\n",
    "                       site=(1/3, 2/3, 0.815681),\n",
    "                       u=self.u_cif_as_u_star((0.02132, 0.02132, 0.02256,\n",
    "                                               0.01066, 0.00000, 0.00000 ))),\n",
    "        xray.scatterer('O1',\n",
    "                       site=(1/3, 2/3, 0.035931),\n",
    "                       u=self.u_cif_as_u_star((0.06532, 0.06532, 0.01669,\n",
    "                                               0.03266, 0.00000, 0.00000 ))),\n",
    "        xray.scatterer('O2',\n",
    "                       site=(0.343810, 0.941658, 0.258405),\n",
    "                       u=self.u_cif_as_u_star((0.02639,  0.02079, 0.05284,\n",
    "                                               0.01194, -0.00053,-0.01180 )))\n",
    "      )))\n",
    "    mi = self.crystal_symmetry.build_miller_set(anomalous_flag=False,\n",
    "                                                d_min=0.5)\n",
    "    fo_sq = mi.structure_factors_from_scatterers(\n",
    "      self.structure, algorithm=\"direct\").f_calc().norm()\n",
    "    self.fo_sq = fo_sq.customized_copy(sigmas=flex.double(fo_sq.size(), 1))\n",
    "\n",
    "  def u_cif_as_u_star(self, u_cif):\n",
    "    return adptbx.u_cif_as_u_star(self.crystal_symmetry.unit_cell(), u_cif)\n",
    "\n",
    "  def shake_point_group_3(self, sc):\n",
    "    _, _, c, _, _, _ = self.crystal_symmetry.unit_cell().parameters()\n",
    "\n",
    "    x, y, z = sc.site\n",
    "    z += random.uniform(-self.delta_site, self.delta_site)/c\n",
    "    sc.site = (x, y, z)\n",
    "\n",
    "    u11, _, u33, _, _, _ = sc.u_star\n",
    "    u11 *= 1 + random.uniform(-self.delta_u_star, self.delta_u_star)\n",
    "    u33 *= 1 + random.uniform(-self.delta_u_star, self.delta_u_star)\n",
    "    sc.u_star = (u11, u11, u33, u11/2, 0, 0)\n",
    "\n",
    "  def run(self):\n",
    "    if self.n_runs > 1:\n",
    "      print 'small inorganic refinement with many special positions'\n",
    "      for i in xrange(self.n_runs):\n",
    "        print '.',\n",
    "        self.exercise()\n",
    "      print\n",
    "    else:\n",
    "      self.exercise()\n",
    "\n",
    "  def exercise(self):\n",
    "    xs0 = self.structure\n",
    "    xs = xs0.deep_copy_scatterers()\n",
    "    k1, s1, li1, o1, o2 = xs.scatterers()\n",
    "    self.shake_point_group_3(k1)\n",
    "    self.shake_point_group_3(s1)\n",
    "    self.shake_point_group_3(li1)\n",
    "    self.shake_point_group_3(o1)\n",
    "    o2.site = tuple(\n",
    "      [ x*(1 + random.uniform(-self.delta_site, self.delta_site))\n",
    "        for x in o2.site])\n",
    "    o2.u_star = tuple(\n",
    "      [ u*(1 + random.uniform(-self.delta_u_star, self.delta_u_star))\n",
    "        for u in o2.u_star])\n",
    "\n",
    "    for sc in xs.scatterers():\n",
    "      sc.flags.set_use_u_iso(False).set_use_u_aniso(True)\n",
    "      sc.flags.set_grad_site(True).set_grad_u_aniso(True)\n",
    "      connectivity_table = smtbx.utils.connectivity_table(xs)\n",
    "    reparametrisation = constraints.reparametrisation(\n",
    "      structure=xs,\n",
    "      constraints=[],\n",
    "      connectivity_table=connectivity_table)\n",
    "    x = self.fo_sq.as_xray_observations().indices.as_vec3_double().as_double().as_numpy_array().reshape(-1, 3)\n",
    "#     print dir(self.fo_sq.as_xray_observations().fo_sq.as_double())\n",
    "    y = self.fo_sq.as_xray_observations().fo_sq.as_double().data().as_numpy_array()\n",
    "    print x.shape, y.shape\n",
    "    for item in zip(list(x), list(y)):\n",
    "      print item\n",
    "    ls = least_squares.crystallographic_ls(\n",
    "      self.fo_sq.as_xray_observations(), reparametrisation,\n",
    "      weighting_scheme=least_squares.unit_weighting(),\n",
    "      origin_fixing_restraints_type=\n",
    "      origin_fixing_restraints.atomic_number_weighting)\n",
    "\n",
    "    cycles = normal_eqns_solving.levenberg_marquardt_iterations(\n",
    "      ls,\n",
    "      gradient_threshold=1e-12,\n",
    "      step_threshold=1e-7,\n",
    "      track_all=True)\n",
    "\n",
    "    ## Test whether refinement brought back the shaked structure to its\n",
    "    ## original state\n",
    "    match = emma.model_matches(xs0.as_emma_model(),\n",
    "                               xs.as_emma_model()).refined_matches[0]\n",
    "    assert match.rt.r == matrix.identity(3)\n",
    "    assert not match.singles1 and not match.singles2\n",
    "    assert match.rms < 1e-6\n",
    "\n",
    "    delta_u_carts= (   xs.scatterers().extract_u_cart(xs.unit_cell())\n",
    "                    - xs0.scatterers().extract_u_cart(xs.unit_cell())).norms()\n",
    "    assert flex.abs(delta_u_carts) < 1e-6\n",
    "\n",
    "    assert approx_equal(ls.scale_factor(), 1, eps=1e-4)\n",
    "\n",
    "    ## Test covariance matrix\n",
    "    jac_tr = reparametrisation.jacobian_transpose_matching_grad_fc()\n",
    "    cov = ls.covariance_matrix(\n",
    "      jacobian_transpose=jac_tr, normalised_by_goof=False)\\\n",
    "        .matrix_packed_u_as_symmetric()\n",
    "    m, n = cov.accessor().focus()\n",
    "    # x,y for point group 3 sites are fixed: no variance or correlation\n",
    "    for i in (0, 9, 18, 27,):\n",
    "      assert cov.matrix_copy_block(i, 0, 2, n) == 0\n",
    "\n",
    "    # u_star coefficients u13 and u23 for point group 3 sites are fixed\n",
    "    # to 0: again no variance or correlation with any other param\n",
    "    for i in (7, 16, 25, 34,):\n",
    "      assert cov.matrix_copy_block(i, 0, 2, n).as_1d()\\\n",
    "             .all_approx_equal(0., 1e-20)\n",
    "\n",
    "    # u_star coefficients u11, u22 and u12 for point group 3 sites\n",
    "    # are totally correlated, with variances in ratios 1:1:1/2\n",
    "    for i in (3, 12, 21, 30,):\n",
    "      assert cov[i, i] != 0\n",
    "      assert approx_equal(cov[i, i], cov[i+1, i+1], eps=1e-15)\n",
    "      assert approx_equal(cov[i, i+1]/cov[i, i], 1, eps=1e-12)\n",
    "      assert approx_equal(cov[i, i+3]/cov[i, i], 0.5, eps=1e-12)"
   ]
  },
  {
   "cell_type": "code",
   "execution_count": null,
   "metadata": {},
   "outputs": [],
   "source": [
    "special_positions_test(1).exercise()"
   ]
  },
  {
   "cell_type": "code",
   "execution_count": null,
   "metadata": {},
   "outputs": [],
   "source": []
  },
  {
   "cell_type": "code",
   "execution_count": null,
   "metadata": {},
   "outputs": [],
   "source": []
  }
 ],
 "metadata": {
  "kernelspec": {
   "display_name": "Python 2",
   "language": "python",
   "name": "python2"
  },
  "language_info": {
   "codemirror_mode": {
    "name": "ipython",
    "version": 2
   },
   "file_extension": ".py",
   "mimetype": "text/x-python",
   "name": "python",
   "nbconvert_exporter": "python",
   "pygments_lexer": "ipython2",
   "version": "2.7.12"
  }
 },
 "nbformat": 4,
 "nbformat_minor": 2
}
