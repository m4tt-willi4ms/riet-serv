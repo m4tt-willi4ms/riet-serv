{
 "cells": [
  {
   "cell_type": "code",
   "execution_count": 1,
   "metadata": {},
   "outputs": [],
   "source": [
    "import src.cctbx_dep.phase_from_cif as pfc"
   ]
  },
  {
   "cell_type": "code",
   "execution_count": 30,
   "metadata": {},
   "outputs": [
    {
     "name": "stdout",
     "output_type": "stream",
     "text": [
      "(8.5784, 12.96, 7.2112, 90.3, 116.03000000000002, 89.125)\n",
      "(8.5784, 12.96, 7.2112, 90.3, 116.03, 89.125)\n",
      "['__class__', '__delattr__', '__dict__', '__doc__', '__format__', '__getattribute__', '__hash__', '__init__', '__module__', '__new__', '__reduce__', '__reduce_ex__', '__repr__', '__setattr__', '__sizeof__', '__str__', '__subclasshook__', '__weakref__', 'apply_symmetry', 'apply_symmetry_site', 'apply_symmetry_u_star', 'as_py_code', 'b_iso', 'convert_to_anisotropic', 'convert_to_isotropic', 'customized_copy', 'electron_count', 'element_and_charge_symbols', 'element_symbol', 'fdp', 'flags', 'fp', 'is_positive_definite_u', 'label', 'multiplicity', 'occupancy', 'report_details', 'scattering_type', 'set_use_u', 'set_use_u_aniso_only', 'set_use_u_iso_only', 'shift_occupancy', 'shift_u', 'show', 'site', 'tidy_u', 'u_cart_plus_u_iso', 'u_iso', 'u_iso_or_equiv', 'u_star', 'weight', 'weight_without_occupancy']\n",
      "['__class__', '__delattr__', '__dict__', '__doc__', '__format__', '__getattribute__', '__hash__', '__init__', '__module__', '__new__', '__reduce__', '__reduce_ex__', '__repr__', '__setattr__', '__sizeof__', '__str__', '__subclasshook__', '__weakref__', 'apply_symmetry', 'apply_symmetry_site', 'apply_symmetry_u_star', 'as_py_code', 'b_iso', 'convert_to_anisotropic', 'convert_to_isotropic', 'customized_copy', 'electron_count', 'element_and_charge_symbols', 'element_symbol', 'fdp', 'flags', 'fp', 'is_positive_definite_u', 'label', 'multiplicity', 'occupancy', 'report_details', 'scattering_type', 'set_use_u', 'set_use_u_aniso_only', 'set_use_u_iso_only', 'shift_occupancy', 'shift_u', 'show', 'site', 'tidy_u', 'u_cart_plus_u_iso', 'u_iso', 'u_iso_or_equiv', 'u_star', 'weight', 'weight_without_occupancy']\n",
      "['__class__', '__delattr__', '__dict__', '__doc__', '__format__', '__getattribute__', '__hash__', '__init__', '__module__', '__new__', '__reduce__', '__reduce_ex__', '__repr__', '__setattr__', '__sizeof__', '__str__', '__subclasshook__', '__weakref__', 'apply_symmetry', 'apply_symmetry_site', 'apply_symmetry_u_star', 'as_py_code', 'b_iso', 'convert_to_anisotropic', 'convert_to_isotropic', 'customized_copy', 'electron_count', 'element_and_charge_symbols', 'element_symbol', 'fdp', 'flags', 'fp', 'is_positive_definite_u', 'label', 'multiplicity', 'occupancy', 'report_details', 'scattering_type', 'set_use_u', 'set_use_u_aniso_only', 'set_use_u_iso_only', 'shift_occupancy', 'shift_u', 'show', 'site', 'tidy_u', 'u_cart_plus_u_iso', 'u_iso', 'u_iso_or_equiv', 'u_star', 'weight', 'weight_without_occupancy']\n",
      "['__class__', '__delattr__', '__dict__', '__doc__', '__format__', '__getattribute__', '__hash__', '__init__', '__module__', '__new__', '__reduce__', '__reduce_ex__', '__repr__', '__setattr__', '__sizeof__', '__str__', '__subclasshook__', '__weakref__', 'apply_symmetry', 'apply_symmetry_site', 'apply_symmetry_u_star', 'as_py_code', 'b_iso', 'convert_to_anisotropic', 'convert_to_isotropic', 'customized_copy', 'electron_count', 'element_and_charge_symbols', 'element_symbol', 'fdp', 'flags', 'fp', 'is_positive_definite_u', 'label', 'multiplicity', 'occupancy', 'report_details', 'scattering_type', 'set_use_u', 'set_use_u_aniso_only', 'set_use_u_iso_only', 'shift_occupancy', 'shift_u', 'show', 'site', 'tidy_u', 'u_cart_plus_u_iso', 'u_iso', 'u_iso_or_equiv', 'u_star', 'weight', 'weight_without_occupancy']\n",
      "['__class__', '__delattr__', '__dict__', '__doc__', '__format__', '__getattribute__', '__hash__', '__init__', '__module__', '__new__', '__reduce__', '__reduce_ex__', '__repr__', '__setattr__', '__sizeof__', '__str__', '__subclasshook__', '__weakref__', 'apply_symmetry', 'apply_symmetry_site', 'apply_symmetry_u_star', 'as_py_code', 'b_iso', 'convert_to_anisotropic', 'convert_to_isotropic', 'customized_copy', 'electron_count', 'element_and_charge_symbols', 'element_symbol', 'fdp', 'flags', 'fp', 'is_positive_definite_u', 'label', 'multiplicity', 'occupancy', 'report_details', 'scattering_type', 'set_use_u', 'set_use_u_aniso_only', 'set_use_u_iso_only', 'shift_occupancy', 'shift_u', 'show', 'site', 'tidy_u', 'u_cart_plus_u_iso', 'u_iso', 'u_iso_or_equiv', 'u_star', 'weight', 'weight_without_occupancy']\n",
      "['__class__', '__delattr__', '__dict__', '__doc__', '__format__', '__getattribute__', '__hash__', '__init__', '__module__', '__new__', '__reduce__', '__reduce_ex__', '__repr__', '__setattr__', '__sizeof__', '__str__', '__subclasshook__', '__weakref__', 'apply_symmetry', 'apply_symmetry_site', 'apply_symmetry_u_star', 'as_py_code', 'b_iso', 'convert_to_anisotropic', 'convert_to_isotropic', 'customized_copy', 'electron_count', 'element_and_charge_symbols', 'element_symbol', 'fdp', 'flags', 'fp', 'is_positive_definite_u', 'label', 'multiplicity', 'occupancy', 'report_details', 'scattering_type', 'set_use_u', 'set_use_u_aniso_only', 'set_use_u_iso_only', 'shift_occupancy', 'shift_u', 'show', 'site', 'tidy_u', 'u_cart_plus_u_iso', 'u_iso', 'u_iso_or_equiv', 'u_star', 'weight', 'weight_without_occupancy']\n",
      "['__class__', '__delattr__', '__dict__', '__doc__', '__format__', '__getattribute__', '__hash__', '__init__', '__module__', '__new__', '__reduce__', '__reduce_ex__', '__repr__', '__setattr__', '__sizeof__', '__str__', '__subclasshook__', '__weakref__', 'apply_symmetry', 'apply_symmetry_site', 'apply_symmetry_u_star', 'as_py_code', 'b_iso', 'convert_to_anisotropic', 'convert_to_isotropic', 'customized_copy', 'electron_count', 'element_and_charge_symbols', 'element_symbol', 'fdp', 'flags', 'fp', 'is_positive_definite_u', 'label', 'multiplicity', 'occupancy', 'report_details', 'scattering_type', 'set_use_u', 'set_use_u_aniso_only', 'set_use_u_iso_only', 'shift_occupancy', 'shift_u', 'show', 'site', 'tidy_u', 'u_cart_plus_u_iso', 'u_iso', 'u_iso_or_equiv', 'u_star', 'weight', 'weight_without_occupancy']\n",
      "['__class__', '__delattr__', '__dict__', '__doc__', '__format__', '__getattribute__', '__hash__', '__init__', '__module__', '__new__', '__reduce__', '__reduce_ex__', '__repr__', '__setattr__', '__sizeof__', '__str__', '__subclasshook__', '__weakref__', 'apply_symmetry', 'apply_symmetry_site', 'apply_symmetry_u_star', 'as_py_code', 'b_iso', 'convert_to_anisotropic', 'convert_to_isotropic', 'customized_copy', 'electron_count', 'element_and_charge_symbols', 'element_symbol', 'fdp', 'flags', 'fp', 'is_positive_definite_u', 'label', 'multiplicity', 'occupancy', 'report_details', 'scattering_type', 'set_use_u', 'set_use_u_aniso_only', 'set_use_u_iso_only', 'shift_occupancy', 'shift_u', 'show', 'site', 'tidy_u', 'u_cart_plus_u_iso', 'u_iso', 'u_iso_or_equiv', 'u_star', 'weight', 'weight_without_occupancy']\n",
      "['__class__', '__delattr__', '__dict__', '__doc__', '__format__', '__getattribute__', '__hash__', '__init__', '__module__', '__new__', '__reduce__', '__reduce_ex__', '__repr__', '__setattr__', '__sizeof__', '__str__', '__subclasshook__', '__weakref__', 'apply_symmetry', 'apply_symmetry_site', 'apply_symmetry_u_star', 'as_py_code', 'b_iso', 'convert_to_anisotropic', 'convert_to_isotropic', 'customized_copy', 'electron_count', 'element_and_charge_symbols', 'element_symbol', 'fdp', 'flags', 'fp', 'is_positive_definite_u', 'label', 'multiplicity', 'occupancy', 'report_details', 'scattering_type', 'set_use_u', 'set_use_u_aniso_only', 'set_use_u_iso_only', 'shift_occupancy', 'shift_u', 'show', 'site', 'tidy_u', 'u_cart_plus_u_iso', 'u_iso', 'u_iso_or_equiv', 'u_star', 'weight', 'weight_without_occupancy']\n",
      "['__class__', '__delattr__', '__dict__', '__doc__', '__format__', '__getattribute__', '__hash__', '__init__', '__module__', '__new__', '__reduce__', '__reduce_ex__', '__repr__', '__setattr__', '__sizeof__', '__str__', '__subclasshook__', '__weakref__', 'apply_symmetry', 'apply_symmetry_site', 'apply_symmetry_u_star', 'as_py_code', 'b_iso', 'convert_to_anisotropic', 'convert_to_isotropic', 'customized_copy', 'electron_count', 'element_and_charge_symbols', 'element_symbol', 'fdp', 'flags', 'fp', 'is_positive_definite_u', 'label', 'multiplicity', 'occupancy', 'report_details', 'scattering_type', 'set_use_u', 'set_use_u_aniso_only', 'set_use_u_iso_only', 'shift_occupancy', 'shift_u', 'show', 'site', 'tidy_u', 'u_cart_plus_u_iso', 'u_iso', 'u_iso_or_equiv', 'u_star', 'weight', 'weight_without_occupancy']\n",
      "['__class__', '__delattr__', '__dict__', '__doc__', '__format__', '__getattribute__', '__hash__', '__init__', '__module__', '__new__', '__reduce__', '__reduce_ex__', '__repr__', '__setattr__', '__sizeof__', '__str__', '__subclasshook__', '__weakref__', 'apply_symmetry', 'apply_symmetry_site', 'apply_symmetry_u_star', 'as_py_code', 'b_iso', 'convert_to_anisotropic', 'convert_to_isotropic', 'customized_copy', 'electron_count', 'element_and_charge_symbols', 'element_symbol', 'fdp', 'flags', 'fp', 'is_positive_definite_u', 'label', 'multiplicity', 'occupancy', 'report_details', 'scattering_type', 'set_use_u', 'set_use_u_aniso_only', 'set_use_u_iso_only', 'shift_occupancy', 'shift_u', 'show', 'site', 'tidy_u', 'u_cart_plus_u_iso', 'u_iso', 'u_iso_or_equiv', 'u_star', 'weight', 'weight_without_occupancy']\n",
      "['__class__', '__delattr__', '__dict__', '__doc__', '__format__', '__getattribute__', '__hash__', '__init__', '__module__', '__new__', '__reduce__', '__reduce_ex__', '__repr__', '__setattr__', '__sizeof__', '__str__', '__subclasshook__', '__weakref__', 'apply_symmetry', 'apply_symmetry_site', 'apply_symmetry_u_star', 'as_py_code', 'b_iso', 'convert_to_anisotropic', 'convert_to_isotropic', 'customized_copy', 'electron_count', 'element_and_charge_symbols', 'element_symbol', 'fdp', 'flags', 'fp', 'is_positive_definite_u', 'label', 'multiplicity', 'occupancy', 'report_details', 'scattering_type', 'set_use_u', 'set_use_u_aniso_only', 'set_use_u_iso_only', 'shift_occupancy', 'shift_u', 'show', 'site', 'tidy_u', 'u_cart_plus_u_iso', 'u_iso', 'u_iso_or_equiv', 'u_star', 'weight', 'weight_without_occupancy']\n",
      "['__class__', '__delattr__', '__dict__', '__doc__', '__format__', '__getattribute__', '__hash__', '__init__', '__module__', '__new__', '__reduce__', '__reduce_ex__', '__repr__', '__setattr__', '__sizeof__', '__str__', '__subclasshook__', '__weakref__', 'apply_symmetry', 'apply_symmetry_site', 'apply_symmetry_u_star', 'as_py_code', 'b_iso', 'convert_to_anisotropic', 'convert_to_isotropic', 'customized_copy', 'electron_count', 'element_and_charge_symbols', 'element_symbol', 'fdp', 'flags', 'fp', 'is_positive_definite_u', 'label', 'multiplicity', 'occupancy', 'report_details', 'scattering_type', 'set_use_u', 'set_use_u_aniso_only', 'set_use_u_iso_only', 'shift_occupancy', 'shift_u', 'show', 'site', 'tidy_u', 'u_cart_plus_u_iso', 'u_iso', 'u_iso_or_equiv', 'u_star', 'weight', 'weight_without_occupancy']\n",
      "['__class__', '__delattr__', '__dict__', '__doc__', '__format__', '__getattribute__', '__hash__', '__init__', '__module__', '__new__', '__reduce__', '__reduce_ex__', '__repr__', '__setattr__', '__sizeof__', '__str__', '__subclasshook__', '__weakref__', 'apply_symmetry', 'apply_symmetry_site', 'apply_symmetry_u_star', 'as_py_code', 'b_iso', 'convert_to_anisotropic', 'convert_to_isotropic', 'customized_copy', 'electron_count', 'element_and_charge_symbols', 'element_symbol', 'fdp', 'flags', 'fp', 'is_positive_definite_u', 'label', 'multiplicity', 'occupancy', 'report_details', 'scattering_type', 'set_use_u', 'set_use_u_aniso_only', 'set_use_u_iso_only', 'shift_occupancy', 'shift_u', 'show', 'site', 'tidy_u', 'u_cart_plus_u_iso', 'u_iso', 'u_iso_or_equiv', 'u_star', 'weight', 'weight_without_occupancy']\n",
      "['__class__', '__delattr__', '__dict__', '__doc__', '__format__', '__getattribute__', '__hash__', '__init__', '__module__', '__new__', '__reduce__', '__reduce_ex__', '__repr__', '__setattr__', '__sizeof__', '__str__', '__subclasshook__', '__weakref__', 'apply_symmetry', 'apply_symmetry_site', 'apply_symmetry_u_star', 'as_py_code', 'b_iso', 'convert_to_anisotropic', 'convert_to_isotropic', 'customized_copy', 'electron_count', 'element_and_charge_symbols', 'element_symbol', 'fdp', 'flags', 'fp', 'is_positive_definite_u', 'label', 'multiplicity', 'occupancy', 'report_details', 'scattering_type', 'set_use_u', 'set_use_u_aniso_only', 'set_use_u_iso_only', 'shift_occupancy', 'shift_u', 'show', 'site', 'tidy_u', 'u_cart_plus_u_iso', 'u_iso', 'u_iso_or_equiv', 'u_star', 'weight', 'weight_without_occupancy']\n",
      "['__class__', '__delattr__', '__dict__', '__doc__', '__format__', '__getattribute__', '__hash__', '__init__', '__module__', '__new__', '__reduce__', '__reduce_ex__', '__repr__', '__setattr__', '__sizeof__', '__str__', '__subclasshook__', '__weakref__', 'apply_symmetry', 'apply_symmetry_site', 'apply_symmetry_u_star', 'as_py_code', 'b_iso', 'convert_to_anisotropic', 'convert_to_isotropic', 'customized_copy', 'electron_count', 'element_and_charge_symbols', 'element_symbol', 'fdp', 'flags', 'fp', 'is_positive_definite_u', 'label', 'multiplicity', 'occupancy', 'report_details', 'scattering_type', 'set_use_u', 'set_use_u_aniso_only', 'set_use_u_iso_only', 'shift_occupancy', 'shift_u', 'show', 'site', 'tidy_u', 'u_cart_plus_u_iso', 'u_iso', 'u_iso_or_equiv', 'u_star', 'weight', 'weight_without_occupancy']\n",
      "['__class__', '__delattr__', '__dict__', '__doc__', '__format__', '__getattribute__', '__hash__', '__init__', '__module__', '__new__', '__reduce__', '__reduce_ex__', '__repr__', '__setattr__', '__sizeof__', '__str__', '__subclasshook__', '__weakref__', 'apply_symmetry', 'apply_symmetry_site', 'apply_symmetry_u_star', 'as_py_code', 'b_iso', 'convert_to_anisotropic', 'convert_to_isotropic', 'customized_copy', 'electron_count', 'element_and_charge_symbols', 'element_symbol', 'fdp', 'flags', 'fp', 'is_positive_definite_u', 'label', 'multiplicity', 'occupancy', 'report_details', 'scattering_type', 'set_use_u', 'set_use_u_aniso_only', 'set_use_u_iso_only', 'shift_occupancy', 'shift_u', 'show', 'site', 'tidy_u', 'u_cart_plus_u_iso', 'u_iso', 'u_iso_or_equiv', 'u_star', 'weight', 'weight_without_occupancy']\n"
     ]
    }
   ],
   "source": [
    "phase_settings = {\n",
    "   'cif_path': '.\\ecm-occ\\Cif Cards\\Al-Si order-disorder\\Microcline.cif'\n",
    "}\n",
    "phase = pfc.load_cif(phase_settings)\n",
    "struct = phase['structure']\n",
    "print phase['unit_cell'].parameters()\n",
    "for scat in struct.scatterers():\n",
    "#    print dir(scat)\n",
    "    \n",
    "#    scat.flags.set_grad_site(True)\n",
    "#    print scat.flags.grad_site()\n",
    "#    print dir(scat.flags)"
   ]
  },
  {
   "cell_type": "code",
   "execution_count": null,
   "metadata": {},
   "outputs": [],
   "source": []
  }
 ],
 "metadata": {
  "kernelspec": {
   "display_name": "Python 2",
   "language": "python",
   "name": "python2"
  },
  "language_info": {
   "codemirror_mode": {
    "name": "ipython",
    "version": 2
   },
   "file_extension": ".py",
   "mimetype": "text/x-python",
   "name": "python",
   "nbconvert_exporter": "python",
   "pygments_lexer": "ipython2",
   "version": "2.7.12"
  }
 },
 "nbformat": 4,
 "nbformat_minor": 2
}
