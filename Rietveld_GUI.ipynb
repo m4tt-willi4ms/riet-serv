{
 "cells": [
  {
   "cell_type": "markdown",
   "metadata": {},
   "source": [
    "# Notebook: Rietveld GUI\n",
    "\n",
    "This is a notebeook to store some info relevant to the development of a GUI for the Rietveld Refinement package.\n",
    "\n",
    "## Features:\n",
    "\n",
    "* Load profile &#10003;\n",
    "* Load cifs &#10003;\n",
    "* Display profile, as per tests\n",
    "* Enter, edit controls for the refinement engine\n",
    "* Select which parameters to refine (either globally or on a phase-by-phase basis)"
   ]
  },
  {
   "cell_type": "code",
   "execution_count": 1,
   "metadata": {
    "scrolled": false
   },
   "outputs": [
    {
     "name": "stdout",
     "output_type": "stream",
     "text": [
      "Bkgd_0 = 0.0 (-inf, inf)\n",
      "Bkgd_1 = 0.0 (-inf, inf)\n",
      "Bkgd_2 = 0.0 (-inf, inf)\n",
      ".........\n",
      "\n",
      "\n",
      "0.0\n",
      "Bkgd_0 = 1.66579167417 (-inf, inf)\n",
      "Bkgd_1 = -0.0474773845257 (-inf, inf)\n",
      "Bkgd_2 = 0.000380623048853 (-inf, inf)\n",
      "two_theta_0 = 0.0 (-0.5, 0.5)\n",
      "Amplitude = 0.242077346327 (0.0, inf)\n",
      ".......\n",
      "\n",
      "After minimize_Amplitude_Bkgd_Offset:\n",
      "Bkgd_0 = 1.66584989164 (-inf, inf)\n",
      "Bkgd_1 = -0.0459699724141 (-inf, inf)\n",
      "Bkgd_2 = 0.000360258556514 (-inf, inf)\n",
      "two_theta_0 = 0.149357479935 (-0.5, 0.5)\n",
      "Amplitude = 0.169765211912 (0.0, inf)\n",
      "\n",
      "Time taken to run minimize_Amplitude_Bkgd_Offset: 7.416 seconds\n",
      "R_wp: 0.10295806881\n",
      "R_e: 1.42703223121\n",
      "Goodness-of-Fit: 0.0721483835883\n",
      "\n",
      "\n",
      "Phase 1: 100.0 %\n",
      "\n",
      "\n"
     ]
    }
   ],
   "source": [
    "%run Rietveld_GUI.py"
   ]
  }
 ],
 "metadata": {
  "kernelspec": {
   "display_name": "Python 2",
   "language": "python",
   "name": "python2"
  },
  "language_info": {
   "codemirror_mode": {
    "name": "ipython",
    "version": 2
   },
   "file_extension": ".py",
   "mimetype": "text/x-python",
   "name": "python",
   "nbconvert_exporter": "python",
   "pygments_lexer": "ipython2",
   "version": "2.7.12"
  }
 },
 "nbformat": 4,
 "nbformat_minor": 2
}
