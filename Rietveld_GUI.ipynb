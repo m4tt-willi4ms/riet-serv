{
 "cells": [
  {
   "cell_type": "markdown",
   "metadata": {},
   "source": [
    "# Notebook: Rietveld GUI\n",
    "\n",
    "This is a notebeook to store some info relevant to the development of a GUI for the Rietveld Refinement package.\n",
    "\n",
    "## Features:\n",
    "\n",
    "* Load profile &#10003;\n",
    "* Load cifs &#10003;\n",
    "* Display profile, as per tests\n",
    "* Enter, edit controls for the refinement engine\n",
    "* Select which parameters to refine (either globally or on a phase-by-phase basis)"
   ]
  },
  {
   "cell_type": "code",
   "execution_count": null,
   "metadata": {
    "scrolled": false
   },
   "outputs": [
    {
     "name": "stdout",
     "output_type": "stream",
     "text": [
      "bkgd_0 = 0.0 (-inf, inf)\n",
      "bkgd_1 = 0.0 (-inf, inf)\n",
      "bkgd_2 = 0.0 (-inf, inf)\n",
      "..........\n",
      "\n",
      "two_theta_0 = 0.0 (-0.2, 0.2)\n",
      "bkgd_0 = 80.4596767034 (-inf, inf)\n",
      "bkgd_1 = -1.89008062274 (-inf, inf)\n",
      "bkgd_2 = 0.0126017613838 (-inf, inf)\n",
      "Amplitude = 0.693661885043 (0.0, inf)\n",
      "Amplitude = 0.693661885043 (0.0, inf)\n",
      "Amplitude = 0.693661885043 (0.0, inf)\n",
      "Amplitude = 0.693661885043 (0.0, inf)\n",
      "Amplitude = 0.693661885043 (0.0, inf)\n",
      "Amplitude = 0.693661885043 (0.0, inf)\n",
      "Amplitude = 0.693661885043 (0.0, inf)\n",
      "Amplitude = 0.693661885043 (0.0, inf)\n",
      "Amplitude = 0.693661885043 (0.0, inf)\n",
      "Amplitude = 0.693661885043 (0.0, inf)\n",
      "Amplitude = 0.693661885043 (0.0, inf)\n",
      "Amplitude = 0.693661885043 (0.0, inf)\n",
      "..........................................................................................................\n",
      "\n",
      "After minimize:\n",
      "two_theta_0 = -0.0859358613724 (-0.2, 0.2)\n",
      "bkgd_0 = 80.491717014 (-inf, inf)\n",
      "bkgd_1 = -1.99931154431 (-inf, inf)\n",
      "bkgd_2 = 0.0139283342922 (-inf, inf)\n",
      "Amplitude = 12.0757985934 (0.0, inf)\n",
      "Amplitude = 0.502753808164 (0.0, inf)\n",
      "Amplitude = 1.09062065818 (0.0, inf)\n",
      "Amplitude = 0.909443043033 (0.0, inf)\n",
      "Amplitude = 0.320767785758 (0.0, inf)\n",
      "Amplitude = 0.104443625123 (0.0, inf)\n",
      "Amplitude = 4.58812635554 (0.0, inf)\n",
      "Amplitude = 1.22097999028 (0.0, inf)\n",
      "Amplitude = 1.1442307997 (0.0, inf)\n",
      "Amplitude = 0.0290842183643 (0.0, inf)\n",
      "Amplitude = 0.159819089691 (0.0, inf)\n",
      "Amplitude = 0.205700216541 (0.0, inf)\n",
      "\n",
      "Time taken to run minimize: 22.702 seconds\n",
      "R_wp: 0.0979672942066\n",
      "R_e: 0.0233877704344\n",
      "Goodness-of-Fit: 4.18882571477\n",
      "\n",
      "\n",
      "Phase 1: 54.0261445722 %\n",
      "Phase 2: 2.24927980654 %\n",
      "Phase 3: 4.87934846679 %\n",
      "Phase 4: 4.06877449495 %\n",
      "Phase 5: 1.43508908611 %\n",
      "Phase 6: 0.467272317181 %\n",
      "Phase 7: 20.5269056023 %\n",
      "Phase 8: 5.46256555742 %\n",
      "Phase 9: 5.11919589666 %\n",
      "Phase 10: 0.130120436671 %\n",
      "Phase 11: 0.715017659348 %\n",
      "Phase 12: 0.920286103766 %\n",
      "\n",
      "By weight:\n",
      "Phase 1: 53.9487946447 %\n",
      "Phase 2: 2.14858974801 %\n",
      "Phase 3: 4.66229735969 %\n",
      "Phase 4: 3.79902081588 %\n",
      "Phase 5: 1.20749982177 %\n",
      "Phase 6: 0.633910579469 %\n",
      "Phase 7: 21.3916001673 %\n",
      "Phase 8: 4.66636639585 %\n",
      "Phase 9: 5.94815588271 %\n",
      "Phase 10: 0.137201675816 %\n",
      "Phase 11: 0.805119067798 %\n",
      "Phase 12: 0.651443840923 %\n",
      "\n",
      "\n"
     ]
    }
   ],
   "source": [
    "%run Rietveld_GUI.py"
   ]
  }
 ],
 "metadata": {
  "kernelspec": {
   "display_name": "Python 2",
   "language": "python",
   "name": "python2"
  },
  "language_info": {
   "codemirror_mode": {
    "name": "ipython",
    "version": 2
   },
   "file_extension": ".py",
   "mimetype": "text/x-python",
   "name": "python",
   "nbconvert_exporter": "python",
   "pygments_lexer": "ipython2",
   "version": "2.7.12"
  }
 },
 "nbformat": 4,
 "nbformat_minor": 2
}
