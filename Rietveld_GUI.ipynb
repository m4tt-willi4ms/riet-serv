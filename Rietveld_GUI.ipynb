{
 "cells": [
  {
   "cell_type": "markdown",
   "metadata": {},
   "source": [
    "# Notebook: Rietveld GUI\n",
    "\n",
    "This is a notebeook to store some info relevant to the development of a GUI for the Rietveld Refinement package.\n",
    "\n",
    "## Features:\n",
    "\n",
    "* Load profile &#10003;\n",
    "* Load cifs &#10003;\n",
    "* Display profile, as per tests &#10003;\n",
    "* Enter, edit controls for the refinement engine\n",
    "* Select which parameters to refine (either globally or on a phase-by-phase basis) &#10003;"
   ]
  },
  {
   "cell_type": "markdown",
   "metadata": {},
   "source": [
    "## Things to Fix (2017-12-21):\n",
    "\n",
    "* Relative Differences instead of WSE &#10003;\n",
    "* Auto-zoom 3rd plot (customize TK toolbar?)\n",
    "* Remove 2nd plot (assuming zoom on 1st) &#10003;\n",
    "* Add functionality for wavelengths other than Cu\n",
    "* Auto-refine bkgd on .cif load-in\n",
    "\n",
    "## Features to Add before Release\n",
    "\n",
    "* Parameter display for current state of profile\n",
    "* Save report functionality\n",
    "* "
   ]
  },
  {
   "cell_type": "code",
   "execution_count": 1,
   "metadata": {
    "scrolled": false
   },
   "outputs": [
    {
     "name": "stdout",
     "output_type": "stream",
     "text": [
      "bkgd_0 = 0.0 (-inf, inf)\n",
      "bkgd_1 = 0.0 (-inf, inf)\n",
      "bkgd_2 = 0.0 (-inf, inf)\n",
      "..........\n",
      "\n"
     ]
    }
   ],
   "source": [
    "%run Rietveld_GUI.py"
   ]
  },
  {
   "cell_type": "code",
   "execution_count": null,
   "metadata": {},
   "outputs": [],
   "source": [
    "import matplotlib.pyplot as plt\n",
    "import numpy as np\n",
    "import matplotlib.animation as animation\n",
    "\n",
    "pause = False\n",
    "def simData():\n",
    "    t_max = 10.0\n",
    "    dt = 0.05\n",
    "    x = 0.0\n",
    "    t = 0.0\n",
    "    while t < t_max:\n",
    "        if not pause:\n",
    "            x = np.sin(np.pi*t)\n",
    "            t = t + dt\n",
    "        yield x, t\n",
    "\n",
    "def onClick(event):\n",
    "    global pause\n",
    "    pause ^= True\n",
    "\n",
    "def simPoints(simData):\n",
    "    x, t = simData[0], simData[1]\n",
    "    time_text.set_text(time_template%(t))\n",
    "    line.set_data(t, x)\n",
    "    return line, time_text\n",
    "\n",
    "fig = plt.figure()\n",
    "ax = fig.add_subplot(111)\n",
    "line, = ax.plot([], [], 'bo', ms=10)\n",
    "ax.set_ylim(-1, 1)\n",
    "ax.set_xlim(0, 10)\n",
    "\n",
    "time_template = 'Time = %.1f s'\n",
    "time_text = ax.text(0.05, 0.9, '', transform=ax.transAxes)\n",
    "fig.canvas.mpl_connect('button_press_event', onClick)\n",
    "ani = animation.FuncAnimation(fig, simPoints, simData, blit=False, interval=10,\n",
    "    repeat=True)\n",
    "plt.show()"
   ]
  }
 ],
 "metadata": {
  "kernelspec": {
   "display_name": "Python 2",
   "language": "python",
   "name": "python2"
  },
  "language_info": {
   "codemirror_mode": {
    "name": "ipython",
    "version": 2
   },
   "file_extension": ".py",
   "mimetype": "text/x-python",
   "name": "python",
   "nbconvert_exporter": "python",
   "pygments_lexer": "ipython2",
   "version": "2.7.12"
  }
 },
 "nbformat": 4,
 "nbformat_minor": 2
}
