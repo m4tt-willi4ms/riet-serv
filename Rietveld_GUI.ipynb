{
 "cells": [
  {
   "cell_type": "markdown",
   "metadata": {},
   "source": [
    "# Notebook: Rietveld GUI\n",
    "\n",
    "This is a notebeook to store some info relevant to the development of a GUI for the Rietveld Refinement package.\n",
    "\n",
    "## Features:\n",
    "\n",
    "* Load profile &#10003;\n",
    "* Load cifs (from persistent stored list)\n",
    "* Display profile, as per tests\n",
    "* Enter, edit controls for the refinement engine\n",
    "* Select which parameters to refine (either globally or on a phase-by-phase basis)"
   ]
  },
  {
   "cell_type": "code",
   "execution_count": 1,
   "metadata": {},
   "outputs": [
    {
     "name": "stdout",
     "output_type": "stream",
     "text": [
      "Bkgd_0 = 0.0 (-inf, inf)\n",
      "Bkgd_1 = 0.0 (-inf, inf)\n",
      "Bkgd_2 = 0.0 (-inf, inf)\n",
      "........\n",
      "\n",
      "Bkgd_0 = 1.66599709492 (-inf, inf)\n",
      "Bkgd_1 = -0.0440841129948 (-inf, inf)\n",
      "Bkgd_2 = 0.000341092849048 (-inf, inf)\n",
      "two_theta_0 = 0.0 (-0.5, 0.5)\n",
      "Amplitude = 0.1800448331 (0.0, inf)\n",
      "Amplitude = 0.242077346327 (0.0, inf)\n",
      "...........\n",
      "\n",
      "Bkgd_0 = 1.66592153017 (-inf, inf)\n",
      "Bkgd_1 = -0.04568469662 (-inf, inf)\n",
      "Bkgd_2 = 0.000359017884071 (-inf, inf)\n",
      ".\n",
      "\n",
      "Bkgd_0 = 1.66592153016 (-inf, inf)\n",
      "Bkgd_1 = -0.0456846968269 (-inf, inf)\n",
      "Bkgd_2 = 0.000359019230522 (-inf, inf)\n",
      ".\n",
      "\n"
     ]
    }
   ],
   "source": [
    "%run Rietveld_GUI.py"
   ]
  },
  {
   "cell_type": "code",
   "execution_count": null,
   "metadata": {},
   "outputs": [],
   "source": []
  }
 ],
 "metadata": {
  "kernelspec": {
   "display_name": "Python 2",
   "language": "python",
   "name": "python2"
  },
  "language_info": {
   "codemirror_mode": {
    "name": "ipython",
    "version": 2
   },
   "file_extension": ".py",
   "mimetype": "text/x-python",
   "name": "python",
   "nbconvert_exporter": "python",
   "pygments_lexer": "ipython2",
   "version": "2.7.12"
  }
 },
 "nbformat": 4,
 "nbformat_minor": 2
}
