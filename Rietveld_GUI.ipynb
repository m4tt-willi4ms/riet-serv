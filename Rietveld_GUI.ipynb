{
 "cells": [
  {
   "cell_type": "markdown",
   "metadata": {},
   "source": [
    "# Notebook: Rietveld GUI\n",
    "\n",
    "This is a notebeook to store some info relevant to the development of a GUI for the Rietveld Refinement package.\n",
    "\n",
    "## Features:\n",
    "\n",
    "* Load profile &#10003;\n",
    "* Load cifs &#10003;\n",
    "* Display profile, as per tests &#10003;\n",
    "* Enter, edit controls for the refinement engine\n",
    "* Select which parameters to refine (either globally or on a phase-by-phase basis) &#10003;"
   ]
  },
  {
   "cell_type": "markdown",
   "metadata": {},
   "source": [
    "## Things to Fix (2017-12-21):\n",
    "\n",
    "* Relative Differences instead of WSE &#10003;\n",
    "* Auto-zoom 3rd plot (customize TK toolbar?) &#10003; (3rd plot removed)\n",
    "* Remove 2nd plot (assuming zoom on 1st) &#10003;\n",
    "* Add functionality for wavelengths other than Cu\n",
    "* Auto-refine bkgd on .cif load-in &#10003;\n",
    "\n"
   ]
  },
  {
   "cell_type": "markdown",
   "metadata": {},
   "source": [
    "## Features to add before release\n",
    "\n",
    "* Parameter display for current state of profile\n",
    "* Save report functionality\n",
    "* "
   ]
  },
  {
   "cell_type": "code",
   "execution_count": 1,
   "metadata": {
    "scrolled": false
   },
   "outputs": [
    {
     "name": "stdout",
     "output_type": "stream",
     "text": [
      "bkgd_0 = 0 (-inf, inf)\n",
      "bkgd_1 = 0 (-inf, inf)\n",
      "bkgd_2 = 0 (-inf, inf)\n",
      "\n",
      "..........\n",
      "\n",
      "two_theta_0 = 0 (-0.2, 0.2)\n",
      "bkgd_0 = 58.61 (-inf, inf)\n",
      "bkgd_1 = -0.9842 (-inf, inf)\n",
      "bkgd_2 = 0.005341 (-inf, inf)\n",
      "Amplitude = 256.4 (0, inf)\n",
      "\n",
      ".........\n",
      "\n",
      "\n",
      "CONVERGENCE: REL_REDUCTION_OF_F_<=_FACTR*EPSMCH\n",
      "\n",
      "Time taken to run minimize with 5 parameters: 0.366 seconds\n",
      "R_wp: 0.21203852513\n",
      "R_e: 0.103649515\n",
      "Goodness-of-Fit: 2.04572616795\n",
      "\n",
      "\n",
      "Phase 1: 100.0 %\n",
      "\n",
      "By weight:\n",
      "Phase 1: 100.0 %\n",
      "\n",
      "\n",
      "two_theta_0 = 0.03933 (-0.2, 0.2)\n",
      "bkgd_0 = 58.61 (-inf, inf)\n",
      "bkgd_1 = -0.9842 (-inf, inf)\n",
      "bkgd_2 = 0.005432 (-inf, inf)\n",
      "Amplitude = 256.4 (0, inf)\n",
      "\n",
      "two_theta_0 = 0.03933 (-0.2, 0.2)\n",
      "bkgd_0 = 58.61 (-inf, inf)\n",
      "bkgd_1 = -0.9842 (-inf, inf)\n",
      "bkgd_2 = 0.005432 (-inf, inf)\n",
      "W = 0.003 (1e-06, 1)\n",
      "Amplitude = 256.4 (0, inf)\n",
      "\n",
      "...............\n",
      "\n",
      "\n",
      "CONVERGENCE: REL_REDUCTION_OF_F_<=_FACTR*EPSMCH\n",
      "\n",
      "Time taken to run minimize with 6 parameters: 0.448 seconds\n",
      "R_wp: 0.204238513782\n",
      "R_e: 0.10363354312\n",
      "Goodness-of-Fit: 1.97077613709\n",
      "\n",
      "\n",
      "Phase 1: 100.0 %\n",
      "\n",
      "By weight:\n",
      "Phase 1: 100.0 %\n",
      "\n",
      "\n",
      "two_theta_0 = 0.03754 (-0.2, 0.2)\n",
      "bkgd_0 = 58.61 (-inf, inf)\n",
      "bkgd_1 = -0.9964 (-inf, inf)\n",
      "bkgd_2 = 0.005484 (-inf, inf)\n",
      "W = 0.00341 (1e-06, 1)\n",
      "Amplitude = 256.4 (0, inf)\n",
      "\n",
      "two_theta_0 = 0.03754 (-0.2, 0.2)\n",
      "bkgd_0 = 58.61 (-inf, inf)\n",
      "bkgd_1 = -0.9964 (-inf, inf)\n",
      "bkgd_2 = 0.005484 (-inf, inf)\n",
      "W = 0.00341 (1e-06, 1)\n",
      "Amplitude = 256.4 (0, inf)\n",
      "eta_0 = 0.5 (0, 1)\n",
      "eta_1 = 0 (-0.001, 0.001)\n",
      "\n",
      "...............\n",
      "\n",
      "\n",
      "CONVERGENCE: REL_REDUCTION_OF_F_<=_FACTR*EPSMCH\n",
      "\n",
      "Time taken to run minimize with 8 parameters: 0.769 seconds\n",
      "R_wp: 0.198109754428\n",
      "R_e: 0.103601591972\n",
      "Goodness-of-Fit: 1.91222693258\n",
      "\n",
      "\n",
      "Phase 1: 100.0 %\n",
      "\n",
      "By weight:\n",
      "Phase 1: 100.0 %\n",
      "\n",
      "\n",
      "two_theta_0 = 0.03808 (-0.2, 0.2)\n",
      "bkgd_0 = 58.61 (-inf, inf)\n",
      "bkgd_1 = -0.9964 (-inf, inf)\n",
      "bkgd_2 = 0.005482 (-inf, inf)\n",
      "W = 0.003319 (1e-06, 1)\n",
      "Amplitude = 256.4 (0, inf)\n",
      "eta_0 = 0.5018 (0, 1)\n",
      "eta_1 = 0.001 (-0.001, 0.001)\n",
      "\n"
     ]
    }
   ],
   "source": [
    "%run Rietveld_GUI.py"
   ]
  }
 ],
 "metadata": {
  "kernelspec": {
   "display_name": "Python 2",
   "language": "python",
   "name": "python2"
  },
  "language_info": {
   "codemirror_mode": {
    "name": "ipython",
    "version": 2
   },
   "file_extension": ".py",
   "mimetype": "text/x-python",
   "name": "python",
   "nbconvert_exporter": "python",
   "pygments_lexer": "ipython2",
   "version": "2.7.12"
  }
 },
 "nbformat": 4,
 "nbformat_minor": 2
}
