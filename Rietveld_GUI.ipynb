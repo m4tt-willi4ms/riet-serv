{
 "cells": [
  {
   "cell_type": "markdown",
   "metadata": {},
   "source": [
    "# Notebook: Rietveld GUI\n",
    "\n",
    "This is a notebeook to store some info relevant to the development of a GUI for the Rietveld Refinement package.\n",
    "\n",
    "## Features:\n",
    "\n",
    "* Load profile &#10003;\n",
    "* Load cifs (from persistent stored list)\n",
    "* Display profile, as per tests\n",
    "* Enter, edit controls for the refinement engine\n",
    "* Select which parameters to refine (either globally or on a phase-by-phase basis)"
   ]
  },
  {
   "cell_type": "code",
   "execution_count": 1,
   "metadata": {
    "scrolled": false
   },
   "outputs": [
    {
     "name": "stdout",
     "output_type": "stream",
     "text": [
      "Monoclinic\n",
      "33.1078\n",
      "(33.1078, 7.0355, 18.5211, 90, 94.137, 90)\n",
      "(33.1078, 7.0355, 18.5211, 90, 94.137, 90)\n",
      "Monoclinic\n",
      "33.1078\n",
      "(33.1078, 7.0355, 18.5211, 9, 94.137, 90)\n",
      "(33.1078, 7.0355, 18.5211, 90, 94.137, 90)\n",
      "Monoclinic\n",
      "33.1078\n",
      "(33.1078, 7.0355, 18.5211, 91, 94.137, 90)\n",
      "(33.1078, 7.0355, 18.5211, 90, 94.137, 90)\n",
      "Monoclinic\n",
      "33.1078\n"
     ]
    },
    {
     "name": "stderr",
     "output_type": "stream",
     "text": [
      "Exception in Tkinter callback\n",
      "Traceback (most recent call last):\n",
      "  File \"c:\\cctbx\\base\\bin\\python\\lib\\lib-tk\\Tkinter.py\", line 1537, in __call__\n",
      "    return self.func(*args)\n",
      "  File \"C:\\cctbx\\CCTBX_Projects\\Rietveld_Refinement\\Rietveld_GUI.py\", line 363, in onValidate\n",
      "    updateplotprofile()\n",
      "  File \"C:\\cctbx\\CCTBX_Projects\\Rietveld_Refinement\\Rietveld_GUI.py\", line 488, in updateplotprofile\n",
      "    Rt[0].update_unit_cell()\n",
      "  File \"src\\RietveldPhases.py\", line 397, in update_unit_cell\n",
      "    self.unit_cell = uctbx.unit_cell(tuple(unit_cell_parameters))\n",
      "  File \"C:\\cctbx\\modules\\cctbx_project\\cctbx\\uctbx\\__init__.py\", line 46, in __init__\n",
      "    parameters=parameters)\n",
      "ValueError: Unit cell parameter is zero or negative.\n"
     ]
    }
   ],
   "source": [
    "%run Rietveld_GUI.py"
   ]
  }
 ],
 "metadata": {
  "kernelspec": {
   "display_name": "Python 2",
   "language": "python",
   "name": "python2"
  },
  "language_info": {
   "codemirror_mode": {
    "name": "ipython",
    "version": 2
   },
   "file_extension": ".py",
   "mimetype": "text/x-python",
   "name": "python",
   "nbconvert_exporter": "python",
   "pygments_lexer": "ipython2",
   "version": "2.7.12"
  }
 },
 "nbformat": 4,
 "nbformat_minor": 2
}
