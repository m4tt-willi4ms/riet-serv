{
 "cells": [
  {
   "cell_type": "markdown",
   "metadata": {},
   "source": [
    "# Notebook: Rietveld GUI\n",
    "\n",
    "This is a notebeook to store some info relevant to the development of a GUI for the Rietveld Refinement package.\n",
    "\n",
    "## Features:\n",
    "\n",
    "* Load profile &#10003;\n",
    "* Load cifs (from persistent stored list)\n",
    "* Display profile, as per tests\n",
    "* Enter, edit controls for the refinement engine\n",
    "* Select which parameters to refine (either globally or on a phase-by-phase basis)"
   ]
  },
  {
   "cell_type": "code",
   "execution_count": null,
   "metadata": {},
   "outputs": [
    {
     "name": "stdout",
     "output_type": "stream",
     "text": [
      "Bkgd_0 = 0.0 (-inf, inf)\n",
      "Bkgd_1 = 0.0 (-inf, inf)\n",
      "Bkgd_2 = 0.0 (-inf, inf)\n",
      "........\n",
      "\n",
      "Bkgd_0 = 1.66599709492 (-inf, inf)\n",
      "Bkgd_1 = -0.0440841129948 (-inf, inf)\n",
      "Bkgd_2 = 0.000341092849048 (-inf, inf)\n",
      ".\n",
      "\n",
      "Bkgd_0 = 1.66599709277 (-inf, inf)\n",
      "Bkgd_1 = -0.0440841275581 (-inf, inf)\n",
      "Bkgd_2 = 0.000341093163416 (-inf, inf)\n",
      ".\n",
      "\n",
      "Bkgd_0 = 1.66599709277 (-inf, inf)\n",
      "Bkgd_1 = -0.0440841275591 (-inf, inf)\n",
      "Bkgd_2 = 0.000341093116204 (-inf, inf)\n",
      ".\n",
      "\n"
     ]
    }
   ],
   "source": [
    "%run Rietveld_GUI.py"
   ]
  }
 ],
 "metadata": {
  "kernelspec": {
   "display_name": "Python 2",
   "language": "python",
   "name": "python2"
  },
  "language_info": {
   "codemirror_mode": {
    "name": "ipython",
    "version": 2
   },
   "file_extension": ".py",
   "mimetype": "text/x-python",
   "name": "python",
   "nbconvert_exporter": "python",
   "pygments_lexer": "ipython2",
   "version": "2.7.12"
  }
 },
 "nbformat": 4,
 "nbformat_minor": 2
}
