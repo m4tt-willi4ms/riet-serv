{
 "cells": [
  {
   "cell_type": "markdown",
   "metadata": {},
   "source": [
    "# Notebook: Rietveld GUI\n",
    "\n",
    "This is a notebeook to store some info relevant to the development of a GUI for the Rietveld Refinement package.\n",
    "\n",
    "## Features:\n",
    "\n",
    "* Load profile &#10003;\n",
    "* Load cifs &#10003;\n",
    "* Display profile, as per tests &#10003;\n",
    "* Enter, edit controls for the refinement engine\n",
    "* Select which parameters to refine (either globally or on a phase-by-phase basis) &#10003;"
   ]
  },
  {
   "cell_type": "markdown",
   "metadata": {},
   "source": [
    "## Things to Fix (2017-12-21):\n",
    "\n",
    "* Relative Differences instead of WSE &#10003;\n",
    "* Auto-zoom 3rd plot (customize TK toolbar?) &#10003; (3rd plot removed)\n",
    "* Remove 2nd plot (assuming zoom on 1st) &#10003;\n",
    "* Add functionality for wavelengths other than Cu\n",
    "* Auto-refine bkgd on .cif load-in &#10003;\n",
    "\n"
   ]
  },
  {
   "cell_type": "markdown",
   "metadata": {},
   "source": [
    "## Features to add before release\n",
    "\n",
    "* Parameter display for current state of profile\n",
    "* Save report functionality\n",
    "* Functionality to support different profiles (Pearson VII, Gaussian, Lorentz)\n",
    "\n",
    "## Things to Add (2018-01-11)\n",
    "* Bar chart\n",
    "* Auto multi-round\n",
    "\n",
    "## Next Test\n",
    "* Lab measurement service data (Boron Nitride, Austenite)"
   ]
  },
  {
   "cell_type": "code",
   "execution_count": 1,
   "metadata": {},
   "outputs": [
    {
     "data": {
      "text/plain": [
       "['============================= test session starts =============================',\n",
       " 'platform win32 -- Python 2.7.12, pytest-3.1.2, py-1.4.34, pluggy-0.4.0',\n",
       " 'rootdir: C:\\\\cctbx\\\\CCTBX_Projects\\\\Rietveld_Refinement, inifile: pytest.ini',\n",
       " 'collected 21 items',\n",
       " '',\n",
       " 'tests\\\\test_RietveldPhases.py ....................',\n",
       " 'tests\\\\test_RietveldRefinery.py .',\n",
       " '',\n",
       " '========================== 21 passed in 2.37 seconds ==========================']"
      ]
     },
     "execution_count": 1,
     "metadata": {},
     "output_type": "execute_result"
    }
   ],
   "source": [
    "!! pytest"
   ]
  },
  {
   "cell_type": "code",
   "execution_count": 2,
   "metadata": {
    "scrolled": true
   },
   "outputs": [
    {
     "name": "stdout",
     "output_type": "stream",
     "text": [
      "Global:\n",
      "  bkgd_0 = 0 (-inf, inf)\n",
      "  bkgd_1 = 0 (-inf, inf)\n",
      "  bkgd_2 = 0 (-inf, inf)\n",
      "\n",
      "...........\n",
      "\n"
     ]
    },
    {
     "name": "stderr",
     "output_type": "stream",
     "text": [
      "Exception in Tkinter callback\n",
      "Traceback (most recent call last):\n",
      "  File \"c:\\cctbx\\base\\bin\\python\\lib\\lib-tk\\Tkinter.py\", line 1537, in __call__\n",
      "    return self.func(*args)\n",
      "  File \"C:\\cctbx\\CCTBX_Projects\\Rietveld_Refinement\\Rietveld_GUI.py\", line 856, in refine\n",
      "    for rp in self.nb.children[self.nb.tabs()[0].split('.')[-1]] \\\n",
      "AttributeError: ParamFrame instance has no attribute 'nb'\n",
      "Exception in Tkinter callback\n",
      "Traceback (most recent call last):\n",
      "  File \"c:\\cctbx\\base\\bin\\python\\lib\\lib-tk\\Tkinter.py\", line 1537, in __call__\n",
      "    return self.func(*args)\n",
      "  File \"C:\\cctbx\\CCTBX_Projects\\Rietveld_Refinement\\Rietveld_GUI.py\", line 946, in reset\n",
      "    for tab in self.nb.tabs():\n",
      "AttributeError: ParamFrame instance has no attribute 'nb'\n"
     ]
    }
   ],
   "source": [
    "%run Rietveld_GUI.py"
   ]
  }
 ],
 "metadata": {
  "kernelspec": {
   "display_name": "Python 2",
   "language": "python",
   "name": "python2"
  },
  "language_info": {
   "codemirror_mode": {
    "name": "ipython",
    "version": 2
   },
   "file_extension": ".py",
   "mimetype": "text/x-python",
   "name": "python",
   "nbconvert_exporter": "python",
   "pygments_lexer": "ipython2",
   "version": "2.7.12"
  }
 },
 "nbformat": 4,
 "nbformat_minor": 2
}
