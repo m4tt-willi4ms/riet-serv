{
 "cells": [
  {
   "cell_type": "markdown",
   "metadata": {},
   "source": [
    "# Notebook: Rietveld GUI\n",
    "\n",
    "This is a notebeook to store some info relevant to the development of a GUI for the Rietveld Refinement package.\n",
    "\n",
    "## Features:\n",
    "\n",
    "* Load profile &#10003;\n",
    "* Load cifs (from persistent stored list)\n",
    "* Display profile, as per tests\n",
    "* Enter, edit controls for the refinement engine\n",
    "* Select which parameters to refine (either globally or on a phase-by-phase basis)"
   ]
  },
  {
   "cell_type": "code",
   "execution_count": 1,
   "metadata": {},
   "outputs": [
    {
     "name": "stdout",
     "output_type": "stream",
     "text": [
      "Monoclinic\n",
      "33.1078\n",
      "(33.1078, 7.0355, 18.5211, 90, 94.137, 90)\n",
      "(33.1078, 7.0355, 18.5211, 90, 94.137, 90)\n",
      "Bkgd_0 = 0.0 (-inf, inf)\n",
      "Bkgd_1 = 0.0 (-inf, inf)\n",
      "Bkgd_2 = 0.0 (-inf, inf)\n",
      "\n",
      "\n",
      "Monoclinic\n",
      "33.1078\n",
      "(33.1078, 7.0355, 18.5211, 90, 94.137, 90)\n",
      "(33.1078, 7.0355, 18.5211, 90, 94.137, 90)\n",
      "Bkgd_0 = 7.67863517223e-17 (-inf, inf)\n",
      "Bkgd_1 = 3.18812009392e-15 (-inf, inf)\n",
      "Bkgd_2 = 1.45439741209e-13 (-inf, inf)\n",
      "\n",
      "\n",
      "Monoclinic\n",
      "33.1078\n",
      "(33.1078, 7.0355, 18.5211, 90, 94.137, 90)\n",
      "(33.1078, 7.0355, 18.5211, 90, 94.137, 90)\n",
      "Bkgd_0 = 1.53572703488e-16 (-inf, inf)\n",
      "Bkgd_1 = 6.37624018868e-15 (-inf, inf)\n",
      "Bkgd_2 = 2.90879482416e-13 (-inf, inf)\n",
      "\n",
      "\n",
      "Monoclinic\n",
      "33.1078\n",
      "(33.1078, 7.0355, 18.5211, 90, 94.137, 90)\n",
      "(33.1078, 7.0355, 18.5211, 90, 94.137, 90)\n"
     ]
    }
   ],
   "source": [
    "%run Rietveld_GUI.py"
   ]
  }
 ],
 "metadata": {
  "kernelspec": {
   "display_name": "Python 2",
   "language": "python",
   "name": "python2"
  },
  "language_info": {
   "codemirror_mode": {
    "name": "ipython",
    "version": 2
   },
   "file_extension": ".py",
   "mimetype": "text/x-python",
   "name": "python",
   "nbconvert_exporter": "python",
   "pygments_lexer": "ipython2",
   "version": "2.7.12"
  }
 },
 "nbformat": 4,
 "nbformat_minor": 2
}
