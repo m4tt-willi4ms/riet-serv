{
 "cells": [
  {
   "cell_type": "markdown",
   "metadata": {},
   "source": [
    "# Notebook: Rietveld GUI\n",
    "\n",
    "This is a notebeook to store some info relevant to the development of a GUI for the Rietveld Refinement package.\n",
    "\n",
    "## Features:\n",
    "\n",
    "* Load profile &#10003;\n",
    "* Load cifs (from persistent stored list)\n",
    "* Display profile, as per tests\n",
    "* Enter, edit controls for the refinement engine\n",
    "* Select which parameters to refine (either globally or on a phase-by-phase basis)"
   ]
  },
  {
   "cell_type": "code",
   "execution_count": null,
   "metadata": {},
   "outputs": [
    {
     "name": "stdout",
     "output_type": "stream",
     "text": [
      "0.0\n",
      "-0.5\n",
      "0.5\n",
      "0.242077346327\n",
      "0.0\n",
      "inf\n",
      "0.01\n",
      "0.0001\n",
      "1.0\n",
      "-0.0\n",
      "-0.1\n",
      "0.0\n",
      "0.0\n",
      "0.0\n",
      "0.1\n",
      "33.1078\n",
      "32.776722\n",
      "33.438878\n",
      "0.242077346327\n",
      "0.0\n",
      "inf\n",
      "0.01\n",
      "0.0001\n",
      "1.0\n",
      "-0.0\n",
      "-0.1\n",
      "0.0\n",
      "0.0\n",
      "0.0\n",
      "0.1\n",
      "33.1078\n",
      "32.776722\n",
      "33.438878\n",
      "Monoclinic\n",
      "(33.1078, 7.0355, 18.5211, 90, 94.137, 90)\n",
      "0.42077346327\n",
      "0.0\n",
      "0.02\n"
     ]
    }
   ],
   "source": [
    "%run Rietveld_GUI.py"
   ]
  },
  {
   "cell_type": "code",
   "execution_count": null,
   "metadata": {},
   "outputs": [],
   "source": [
    "# import tkinter as tk  # python 3.x\n",
    "import Tkinter as tk # python 2.x\n",
    "\n",
    "class Example(tk.Frame):\n",
    "\n",
    "    def __init__(self, parent):\n",
    "        tk.Frame.__init__(self, parent)\n",
    "\n",
    "        # valid percent substitutions (from the Tk entry man page)\n",
    "        # note: you only have to register the ones you need; this\n",
    "        # example registers them all for illustrative purposes\n",
    "        #\n",
    "        # %d = Type of action (1=insert, 0=delete, -1 for others)\n",
    "        # %i = index of char string to be inserted/deleted, or -1\n",
    "        # %P = value of the entry if the edit is allowed\n",
    "        # %s = value of entry prior to editing\n",
    "        # %S = the text string being inserted or deleted, if any\n",
    "        # %v = the type of validation that is currently set\n",
    "        # %V = the type of validation that triggered the callback\n",
    "        #      (key, focusin, focusout, forced)\n",
    "        # %W = the tk name of the widget\n",
    "\n",
    "        vcmd = (self.register(self.onValidate),\n",
    "                '%d', '%i', '%P', '%s', '%S', '%v', '%V', '%W')\n",
    "        self.entry = tk.Entry(self, validate=\"key\", validatecommand=vcmd)\n",
    "        self.text = tk.Text(self, height=10, width=40)\n",
    "        self.entry.pack(side=\"top\", fill=\"x\")\n",
    "        self.text.pack(side=\"bottom\", fill=\"both\", expand=True)\n",
    "\n",
    "    def onValidate(self, d, i, P, s, S, v, V, W):\n",
    "        self.text.delete(\"1.0\", \"end\")\n",
    "        self.text.insert(\"end\",\"OnValidate:\\n\")\n",
    "        self.text.insert(\"end\",\"d='%s'\\n\" % d)\n",
    "        self.text.insert(\"end\",\"i='%s'\\n\" % i)\n",
    "        self.text.insert(\"end\",\"P='%s'\\n\" % P)\n",
    "        self.text.insert(\"end\",\"s='%s'\\n\" % s)\n",
    "        self.text.insert(\"end\",\"S='%s'\\n\" % S)\n",
    "        self.text.insert(\"end\",\"v='%s'\\n\" % v)\n",
    "        self.text.insert(\"end\",\"V='%s'\\n\" % V)\n",
    "        self.text.insert(\"end\",\"W='%s'\\n\" % W)\n",
    "\n",
    "        # Disallow anything but lowercase letters\n",
    "        if S == S.lower():\n",
    "            return True\n",
    "        else:\n",
    "            self.bell()\n",
    "            return False\n",
    "\n",
    "if __name__ == \"__main__\":\n",
    "    root = tk.Tk()\n",
    "    Example(root).pack(fill=\"both\", expand=True)\n",
    "    root.mainloop()"
   ]
  }
 ],
 "metadata": {
  "kernelspec": {
   "display_name": "Python 2",
   "language": "python",
   "name": "python2"
  },
  "language_info": {
   "codemirror_mode": {
    "name": "ipython",
    "version": 2
   },
   "file_extension": ".py",
   "mimetype": "text/x-python",
   "name": "python",
   "nbconvert_exporter": "python",
   "pygments_lexer": "ipython2",
   "version": "2.7.12"
  }
 },
 "nbformat": 4,
 "nbformat_minor": 2
}
