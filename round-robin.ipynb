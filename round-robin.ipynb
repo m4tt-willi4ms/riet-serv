{
 "cells": [
  {
   "cell_type": "code",
   "execution_count": null,
   "metadata": {},
   "outputs": [],
   "source": [
    "from src.rietveld_refinery import RietveldRefinery as RR\n",
    "from src.rietveld_refinery import RietveldPlot as RRPlot\n",
    "from src.rietveld_phases import RietveldPhases as RP"
   ]
  },
  {
   "cell_type": "code",
   "execution_count": null,
   "metadata": {},
   "outputs": [],
   "source": [
    "import os \n",
    "os.listdir('.//data//cifs//round-robin')"
   ]
  },
  {
   "cell_type": "code",
   "execution_count": null,
   "metadata": {},
   "outputs": [],
   "source": [
    "xye_files = []\n",
    "for x in list('ABCDEFGH'):\n",
    "   xye_files.append(x.join(['CPD-1', '.xye']))\n",
    "import os\n",
    "import time\n",
    "xye_dir = './/data/profiles//round-robin'\n",
    "cif_dir = './/data//cifs//round-robin'"
   ]
  },
  {
   "cell_type": "code",
   "execution_count": null,
   "metadata": {},
   "outputs": [],
   "source": [
    "%matplotlib notebook\n",
    "compositions = []\n",
    "gofs = []\n",
    "R_wps = []\n",
    "use_plot = 0\n",
    "# for xye in xye_files:\n",
    "for xye in xye_files:\n",
    "   RP.set_profile(os.path.join(xye_dir, xye), lines_to_strip_at_tof=1)\n",
    "   phase_list = []\n",
    "   for cif in os.listdir(cif_dir):\n",
    "      phase_list.append(RP(os.path.join(cif_dir, cif)))\n",
    "   if use_plot:\n",
    "      plot = RRPlot()\n",
    "      refinery = RR(phase_list, plot)\n",
    "   else:\n",
    "      refinery = RR(phase_list)\n",
    "   t0 = time.time()\n",
    "   refinery.set_mask(['bkgd', 'scale', 'two_th'])\n",
    "   refinery.minimize()\n",
    "#    refinery.set_mask(['bkgd', 'two_thet', 'uc_', 'scale'])\n",
    "#    refinery.minimize()\n",
    "#    refinery.set_mask(['scale', 'cagliotti_v', 'cagliotti_w', 'eta_0', 'eta_1'])\n",
    "#    refinery.minimize()\n",
    "   refinery.set_mask(['scale', 'cagliotti_', 'eta_', 'uc', 'bkg', 'two_'])\n",
    "   refinery.minimize()\n",
    "   t1 = time.time()\n",
    "#    refinery.set_mask(['bkgd', 'two_thet', 'scale', 'uc_', 'cagliotti_w', 'eta_0'])\n",
    "#    refinery.minimize()\n",
    "   compositions.append(refinery.composition_by_weight)\n",
    "   gofs.append(refinery.GoF)\n",
    "   R_wps.append(refinery.R_wp)\n",
    "   print(compositions[-1])\n",
    "   print(gofs[-1])\n",
    "   print(R_wps[-1])\n",
    "   print(t1-t0)"
   ]
  }
 ],
 "metadata": {
  "kernelspec": {
   "display_name": "Python 2",
   "language": "python",
   "name": "python2"
  },
  "language_info": {
   "codemirror_mode": {
    "name": "ipython",
    "version": 2
   },
   "file_extension": ".py",
   "mimetype": "text/x-python",
   "name": "python",
   "nbconvert_exporter": "python",
   "pygments_lexer": "ipython2",
   "version": "2.7.12"
  }
 },
 "nbformat": 4,
 "nbformat_minor": 2
}
